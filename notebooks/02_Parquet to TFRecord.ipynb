{
 "cells": [
  {
   "cell_type": "code",
   "execution_count": null,
   "id": "59089c33",
   "metadata": {},
   "outputs": [],
   "source": [
    "import os\n",
    "import json\n",
    "import numpy as np\n",
    "import pandas as pd\n",
    "from glob import glob\n",
    "from tqdm import tqdm\n",
    "from collections import Counter\n",
    "import matplotlib.pyplot as plt\n",
    "\n",
    "import tensorflow as tf\n",
    "print(tf.__version__)\n",
    "import tensorflow_io as tfio\n",
    "print(tfio.__version__)\n",
    "\n",
    "from tensorflow.keras import layers\n",
    "from tensorflow.keras import models"
   ]
  },
  {
   "cell_type": "code",
   "execution_count": null,
   "id": "21721c36",
   "metadata": {},
   "outputs": [],
   "source": [
    "# train.csv file\n",
    "df = pd.read_csv(\"train.csv\")\n",
    "\n",
    "# Get labels 2 id\n",
    "with open(\"sign_to_prediction_index_map.json\") as f:\n",
    "    label2id = json.load(f)\n",
    "    \n",
    "df[\"sign\"] = df[\"sign\"].apply(lambda sign: label2id[sign])\n",
    "df.head()"
   ]
  },
  {
   "cell_type": "code",
   "execution_count": null,
   "id": "c11e5640",
   "metadata": {},
   "outputs": [],
   "source": [
    "paths = df.path.values\n",
    "labels = df.sign.values\n",
    "\n",
    "NUM_REPS = 543\n",
    "\n",
    "for path, label in zip(paths, labels):\n",
    "    print(path, label)\n",
    "    frames_df = pd.read_parquet(path)[[\"x\", \"y\", \"z\"]]\n",
    "    print(len(frames_df))\n",
    "    break"
   ]
  },
  {
   "cell_type": "code",
   "execution_count": null,
   "id": "7eeae392",
   "metadata": {},
   "outputs": [],
   "source": [
    "tfrecords_dir = \"data/tfrecords\"\n",
    "\n",
    "num_samples = 4096\n",
    "num_tfrecords = len(df) // num_samples\n",
    "if len(df) % num_samples:\n",
    "    num_tfrecords += 1  # add one record if there are any remaining samples\n",
    "\n",
    "if not os.path.exists(tfrecords_dir):\n",
    "    os.makedirs(tfrecords_dir)  # creating TFRecords output folder"
   ]
  },
  {
   "cell_type": "code",
   "execution_count": null,
   "id": "c27e15e8",
   "metadata": {},
   "outputs": [],
   "source": [
    "print(num_tfrecords)"
   ]
  },
  {
   "cell_type": "code",
   "execution_count": null,
   "id": "2067d183",
   "metadata": {},
   "outputs": [],
   "source": [
    "from sklearn.model_selection import StratifiedKFold"
   ]
  },
  {
   "cell_type": "code",
   "execution_count": null,
   "id": "dfe88610",
   "metadata": {},
   "outputs": [],
   "source": [
    "skf = StratifiedKFold(n_splits=num_tfrecords, random_state=None, shuffle=False)\n",
    "\n",
    "stratified_labels = {}\n",
    "\n",
    "for i, (_, test_index) in enumerate(skf.split(paths, labels)):\n",
    "    print(f\"Fold {i}:\")\n",
    "    print(f\"  Test:  index={test_index}\")\n",
    "    \n",
    "    stratified_labels[i] = test_index"
   ]
  },
  {
   "cell_type": "code",
   "execution_count": null,
   "id": "1913c749",
   "metadata": {},
   "outputs": [],
   "source": [
    "stratified_labels"
   ]
  },
  {
   "cell_type": "code",
   "execution_count": null,
   "id": "6f5b5930",
   "metadata": {},
   "outputs": [],
   "source": [
    "for k, v in stratified_labels.items():\n",
    "    split_paths = paths[v]\n",
    "    split_labels = labels[v]\n",
    "    \n",
    "    for path, label in zip(split_paths, split_labels):\n",
    "        frames = pd.read_parquet(path)[[\"x\", \"y\", \"z\"]].values.astype(np.float32)\n",
    "        n_frames = len(frames)/543\n",
    "        \n",
    "        break\n",
    "    break"
   ]
  },
  {
   "cell_type": "code",
   "execution_count": null,
   "id": "fec2d895",
   "metadata": {},
   "outputs": [],
   "source": [
    "n_frames"
   ]
  },
  {
   "cell_type": "code",
   "execution_count": null,
   "id": "7165d1ed",
   "metadata": {},
   "outputs": [],
   "source": [
    "frames.shape"
   ]
  },
  {
   "cell_type": "code",
   "execution_count": null,
   "id": "372241c9",
   "metadata": {},
   "outputs": [],
   "source": [
    "label"
   ]
  },
  {
   "cell_type": "code",
   "execution_count": null,
   "id": "78000935",
   "metadata": {
    "scrolled": true
   },
   "outputs": [],
   "source": [
    "frames.reshape(int(n_frames), 543, 3)"
   ]
  },
  {
   "cell_type": "code",
   "execution_count": null,
   "id": "3c7d534a",
   "metadata": {},
   "outputs": [],
   "source": [
    "st = tf.io.serialize_tensor(frames)"
   ]
  },
  {
   "cell_type": "code",
   "execution_count": null,
   "id": "900efc95",
   "metadata": {},
   "outputs": [],
   "source": [
    "tf.train.Feature(bytes_list=tf.train.BytesList(value=[st.numpy()]))"
   ]
  },
  {
   "cell_type": "code",
   "execution_count": null,
   "id": "051d1c67",
   "metadata": {},
   "outputs": [],
   "source": [
    "pt = tf.io.parse_tensor(st, out_type=tf.float32)"
   ]
  },
  {
   "cell_type": "code",
   "execution_count": null,
   "id": "bc4e7ff0",
   "metadata": {},
   "outputs": [],
   "source": [
    "pt.numpy()"
   ]
  },
  {
   "cell_type": "code",
   "execution_count": null,
   "id": "26e09aac",
   "metadata": {},
   "outputs": [],
   "source": [
    "frames"
   ]
  },
  {
   "cell_type": "code",
   "execution_count": null,
   "id": "544e70aa",
   "metadata": {},
   "outputs": [],
   "source": []
  },
  {
   "cell_type": "code",
   "execution_count": null,
   "id": "913f99a6",
   "metadata": {},
   "outputs": [],
   "source": [
    "def float_feature(value):\n",
    "    \"\"\"Returns a float_list from a float / double.\"\"\"\n",
    "    return tf.train.Feature(float_list=tf.train.FloatList(value=[value]))\n",
    "\n",
    "\n",
    "def int64_feature(value):\n",
    "    \"\"\"Returns an int64_list from a bool / enum / int / uint.\"\"\"\n",
    "    return tf.train.Feature(int64_list=tf.train.Int64List(value=[value]))\n",
    "\n",
    "\n",
    "def float_sequence(sequence):\n",
    "    \"\"\"Returns a list of float_list from a float / double.\"\"\"\n",
    "    feature_list = [tf.train.Feature(float_list=tf.train.FloatList(value=value.tolist())) for value in sequence]\n",
    "    return tf.train.FeatureList(feature=feature_list)\n",
    "\n",
    "\n",
    "def bytes_feature(value):\n",
    "    \"\"\"Returns a bytes_list from a string / byte.\"\"\"\n",
    "    return tf.train.Feature(bytes_list=tf.train.BytesList(value=[value.numpy()]))\n",
    "\n",
    "\n",
    "def serialize_sequence(sequence):\n",
    "    \"\"\"Serialize the multidimentional tensor\"\"\"\n",
    "    return tf.io.serialize_tensor(sequence)\n",
    "\n",
    "\n",
    "def parse_sequence(serialized_sequence):\n",
    "    return tf.io.parse_tensor(\n",
    "        serialized_sequence,\n",
    "        out_type=tf.float32,\n",
    "    )\n",
    "\n",
    "\n",
    "def create_example(n_frames, sequence, label):\n",
    "    feature = {\n",
    "        \"n_frames\": float_feature(n_frames),\n",
    "        \"frames\": bytes_feature(serialize_sequence(frames)),\n",
    "        \"label\": int64_feature(label),\n",
    "    }\n",
    "\n",
    "    return tf.train.Example(features=tf.train.Features(feature=feature))\n",
    "\n",
    "\n",
    "# def create_example(n_frame, seq, label):\n",
    "#     sequence_features = tf.train.FeatureLists(feature_list={\"frames\": float_sequence(frames)})\n",
    "\n",
    "#     context_features = tf.train.Features(feature = {\n",
    "#         \"n_frames\": float_feature(n_frames),\n",
    "#         \"label\": int64_feature(label),\n",
    "#     })\n",
    "\n",
    "#     example = tf.train.SequenceExample(context=context_features, feature_lists=sequence_features)\n",
    "    \n",
    "#     return example\n",
    "\n",
    "# sequence_features = {\n",
    "#   \"frames\": tf.io.FixedLenSequenceFeature([], dtype=tf.float32)\n",
    "# }\n",
    "\n",
    "# context_features = {\n",
    "#   \"n_frames\": tf.io.FixedLenFeature([], tf.float32),\n",
    "#   \"label\": tf.io.FixedLenFeature([], tf.int64),\n",
    "# }\n",
    "\n",
    "\n",
    "# context, sequence = tf.io.parse_single_sequence_example(\n",
    "#     example,\n",
    "#     context_features=context_features, \n",
    "#     sequence_features=sequence_features\n",
    "# )\n",
    "\n",
    "\n",
    "def parse_tfrecord_fn(example):\n",
    "    feature_description = {\n",
    "        \"n_frames\": tf.io.FixedLenFeature([], tf.float32),\n",
    "        \"frames\": tf.io.FixedLenFeature([], tf.string),\n",
    "        \"label\": tf.io.FixedLenFeature([], tf.int64),\n",
    "    }\n",
    "    example = tf.io.parse_single_example(example, feature_description)\n",
    "    \n",
    "    n_frames = example[\"n_frames\"]\n",
    "    label = tf.one_hot(example[\"label\"], depth=250)\n",
    "    frames = tf.reshape(parse_sequence(example[\"frames\"]), shape=(n_frames, 543, 3))\n",
    "    \n",
    "    return example"
   ]
  },
  {
   "cell_type": "code",
   "execution_count": null,
   "id": "05fd25f6",
   "metadata": {},
   "outputs": [],
   "source": [
    "example = create_example(\n",
    "    n_frames,\n",
    "    frames,\n",
    "    label\n",
    ")\n",
    "example"
   ]
  },
  {
   "cell_type": "code",
   "execution_count": null,
   "id": "85b54e70",
   "metadata": {},
   "outputs": [],
   "source": [
    "with tf.io.TFRecordWriter(\n",
    "    tfrecords_dir + \"sample.tfrec\"\n",
    ") as writer:\n",
    "    example = create_example(\n",
    "        n_frames,\n",
    "        frames,\n",
    "        label\n",
    "    )\n",
    "    writer.write(example.SerializeToString())"
   ]
  },
  {
   "cell_type": "code",
   "execution_count": null,
   "id": "509651ac",
   "metadata": {},
   "outputs": [],
   "source": [
    "tfrec_path = tfrecords_dir + \"sample.tfrec\"\n",
    "tfrec_path"
   ]
  },
  {
   "cell_type": "code",
   "execution_count": null,
   "id": "11866186",
   "metadata": {},
   "outputs": [],
   "source": [
    "raw_dataset = tf.data.TFRecordDataset(tfrec_path)\n",
    "raw_dataset"
   ]
  },
  {
   "cell_type": "code",
   "execution_count": null,
   "id": "317d83ce",
   "metadata": {},
   "outputs": [],
   "source": [
    "example = parse_tfrecord_fn(next(iter(raw_dataset)))"
   ]
  },
  {
   "cell_type": "code",
   "execution_count": null,
   "id": "bcab234c",
   "metadata": {},
   "outputs": [],
   "source": [
    "example[\"n_frames\"]"
   ]
  },
  {
   "cell_type": "code",
   "execution_count": null,
   "id": "b5d87ed7",
   "metadata": {},
   "outputs": [],
   "source": [
    "tf.one_hot(example[\"label\"], depth=250)"
   ]
  },
  {
   "cell_type": "code",
   "execution_count": null,
   "id": "1ba5a0ef",
   "metadata": {},
   "outputs": [],
   "source": [
    "tf.reshape(parse_sequence(example[\"frames\"]), shape=(example[\"n_frames\"], 543, 3))"
   ]
  },
  {
   "cell_type": "code",
   "execution_count": null,
   "id": "01f64164",
   "metadata": {},
   "outputs": [],
   "source": [
    "np.isnan(parse_sequence(example[\"frames\"]).numpy()).sum()"
   ]
  },
  {
   "cell_type": "code",
   "execution_count": null,
   "id": "a0d4b84f",
   "metadata": {},
   "outputs": [],
   "source": [
    "trp = tfrecords_dir+f\"/stratified_split_{1}.tfrec\""
   ]
  },
  {
   "cell_type": "code",
   "execution_count": null,
   "id": "925e921c",
   "metadata": {},
   "outputs": [],
   "source": [
    "raw_dataset = tf.data.TFRecordDataset(tfrec_path)\n",
    "raw_dataset"
   ]
  },
  {
   "cell_type": "code",
   "execution_count": null,
   "id": "109e0d5c",
   "metadata": {},
   "outputs": [],
   "source": [
    "example = parse_tfrecord_fn(next(iter(raw_dataset)))"
   ]
  },
  {
   "cell_type": "code",
   "execution_count": null,
   "id": "6705d793",
   "metadata": {},
   "outputs": [],
   "source": [
    "example"
   ]
  },
  {
   "cell_type": "code",
   "execution_count": null,
   "id": "0f9e6a4a",
   "metadata": {},
   "outputs": [],
   "source": []
  }
 ],
 "metadata": {
  "kernelspec": {
   "display_name": "Python 3",
   "language": "python",
   "name": "python3"
  },
  "language_info": {
   "codemirror_mode": {
    "name": "ipython",
    "version": 3
   },
   "file_extension": ".py",
   "mimetype": "text/x-python",
   "name": "python",
   "nbconvert_exporter": "python",
   "pygments_lexer": "ipython3",
   "version": "3.7.12"
  }
 },
 "nbformat": 4,
 "nbformat_minor": 5
}
