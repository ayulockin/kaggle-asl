{
 "cells": [
  {
   "cell_type": "code",
   "execution_count": 2,
   "id": "77dfb8d5",
   "metadata": {},
   "outputs": [
    {
     "name": "stdout",
     "output_type": "stream",
     "text": [
      "2.10.0\n"
     ]
    }
   ],
   "source": [
    "import os\n",
    "import re\n",
    "import string\n",
    "import random\n",
    "from glob import glob\n",
    "from argparse import Namespace\n",
    "\n",
    "import tensorflow as tf\n",
    "print(tf.__version__)\n",
    "from tensorflow.keras import layers\n",
    "from tensorflow.keras import models\n",
    "from keras.optimizers import *\n",
    "from keras.models import Model\n",
    "from keras.layers import *\n",
    "from keras.layers.core import *\n",
    "from keras.layers.convolutional import *\n",
    "from keras import backend as K\n",
    "import keras\n",
    "import tensorflow as tf\n",
    "\n",
    "import numpy as np\n",
    "import matplotlib.pyplot as plt"
   ]
  },
  {
   "cell_type": "code",
   "execution_count": 24,
   "id": "93804731",
   "metadata": {},
   "outputs": [],
   "source": [
    "import wandb\n",
    "from wandb.keras import WandbMetricsLogger\n",
    "from wandb.keras import WandbModelCheckpoint"
   ]
  },
  {
   "cell_type": "code",
   "execution_count": 3,
   "id": "bc88c6de",
   "metadata": {},
   "outputs": [
    {
     "name": "stdout",
     "output_type": "stream",
     "text": [
      "Experiment Id:  EFGV7A4J\n"
     ]
    }
   ],
   "source": [
    "def id_generator(size=6, chars=string.ascii_uppercase + string.digits):\n",
    "    return ''.join(random.choice(chars) for _ in range(size))\n",
    "\n",
    "random_id = id_generator(size=8)\n",
    "print('Experiment Id: ', random_id)\n",
    "\n",
    "\n",
    "configs = Namespace(\n",
    "    num_frames = 32,\n",
    "    batch_size = 128,\n",
    "    epochs = 60,\n",
    "    resizing_interpolation = \"nearest\",\n",
    "    learning_rate = 1e-3,\n",
    "    num_steps = 1.0,\n",
    "    experiment_id = random_id,\n",
    "    num_jcd_features = 3321, # ((82*82)-82)/2\n",
    "    num_classes = 250,\n",
    "    filters = 256,\n",
    ")\n",
    "\n",
    "\n",
    "LIP = [\n",
    "    61, 185, 40, 39, 37, 0, 267, 269, 270, 409,\n",
    "    291, 146, 91, 181, 84, 17, 314, 405, 321, 375,\n",
    "    78, 191, 80, 81, 82, 13, 312, 311, 310, 415,\n",
    "    95, 88, 178, 87, 14, 317, 402, 318, 324, 308,\n",
    "]\n",
    "\n",
    "RIGHT_EYE = [\n",
    "    246, 161, 160, 159, 158, 157, 173,\n",
    "    33, 7, 163, 144, 145, 153, 154, 155, 133,\n",
    "    247, 30, 29, 27, 28, 56, 190,\n",
    "    130, 25, 110, 24, 23, 22, 26, 112, 243,\n",
    "    113, 225, 224, 223, 222, 221, 189,\n",
    "    226, 31, 228, 229, 230, 231, 232, 233, 244,\n",
    "    143, 111, 117, 118, 119, 120, 121, 128, 245,\n",
    "]\n",
    "\n",
    "LEFT_EYE = [\n",
    "    466, 387, 386, 385, 384, 398,\n",
    "    263, 249, 390, 373, 374, 380, 381, 382, 362,\n",
    "    467, 260, 259, 257, 258, 286, 414,\n",
    "    359, 255, 339, 254, 253, 252, 256, 341, 463,\n",
    "    342, 445, 444, 443, 442, 441, 413,\n",
    "    446, 261, 448, 449, 450, 451, 452, 453, 464,\n",
    "    372, 340, 346, 347, 348, 349, 350, 357, 465,\n",
    "]\n",
    "    \n",
    "LEFT_HAND = [\n",
    "    468, 469, 470, 471, 472, 473, 474, 475,\n",
    "    476, 477, 478, 479, 480, 481, 482, 483,\n",
    "    484, 485, 486, 487, 488\n",
    "]\n",
    "\n",
    "RIGHT_HAND = [\n",
    "    522, 523, 524, 525, 526, 527, 528, 529,\n",
    "    530, 531, 532, 533, 534, 535, 536, 537,\n",
    "    538, 539, 540, 541, 542\n",
    "]"
   ]
  },
  {
   "cell_type": "code",
   "execution_count": 26,
   "id": "111870a9",
   "metadata": {},
   "outputs": [
    {
     "data": {
      "text/plain": [
       "24"
      ]
     },
     "execution_count": 26,
     "metadata": {},
     "output_type": "execute_result"
    }
   ],
   "source": [
    "data_path = \"../data/tfrecords\"\n",
    "\n",
    "\n",
    "def natural_keys(text):\n",
    "    \"\"\n",
    "    def atoi(text):\n",
    "        return int(text) if text.isdigit() else text\n",
    "    \n",
    "    return [atoi(c) for c in re.split(r'(\\d+)', text)]\n",
    "\n",
    "tfrecords = sorted(glob(f\"{data_path}/*.tfrec\"), key=natural_keys)\n",
    "len(tfrecords)"
   ]
  },
  {
   "cell_type": "code",
   "execution_count": 27,
   "id": "262584bf",
   "metadata": {},
   "outputs": [],
   "source": [
    "MIN_C = np.array([-0.04930535, 0.81610775, -1.1901336])\n",
    "MAX_C = np.array([1.449954, 1.0650164, -0.48345777])"
   ]
  },
  {
   "cell_type": "code",
   "execution_count": 28,
   "id": "94ed4bd1",
   "metadata": {},
   "outputs": [
    {
     "data": {
      "text/plain": [
       "array([1.49925935, 0.24890865, 0.70667583])"
      ]
     },
     "execution_count": 28,
     "metadata": {},
     "output_type": "execute_result"
    }
   ],
   "source": [
    "MAX_C - MIN_C"
   ]
  },
  {
   "cell_type": "code",
   "execution_count": 9,
   "id": "7831de9b",
   "metadata": {},
   "outputs": [],
   "source": [
    "train_tfrecords, valid_tfrecords = tfrecords[:19], tfrecords[19:]\n",
    "\n",
    "def parse_sequence(serialized_sequence):\n",
    "    return tf.io.parse_tensor(\n",
    "        serialized_sequence,\n",
    "        out_type=tf.float32,\n",
    "    )\n",
    "\n",
    "\n",
    "def parse_tfrecord_fn(example):\n",
    "    feature_description = {\n",
    "        \"n_frames\": tf.io.FixedLenFeature([], tf.float32),\n",
    "        \"frames\": tf.io.FixedLenFeature([], tf.string),\n",
    "        \"label\": tf.io.FixedLenFeature([], tf.int64),\n",
    "    }\n",
    "    \n",
    "    return tf.io.parse_single_example(example, feature_description)\n",
    "\n",
    "\n",
    "@tf.function\n",
    "def preprocess_frames(frames):\n",
    "    \"\"\"\n",
    "    In this preprocessing function:\n",
    "    - Fill NaN values to 0.\n",
    "    - Use `tf.image.resize` to interpolate.\n",
    "    \"\"\"\n",
    "    # change -z to z\n",
    "#     frames = tf.math.multiply(frames, [1,1,-1])\n",
    "    # Standardize\n",
    "    frames = (frames - MIN_C) / (MAX_C - MIN_C)\n",
    "    frames = 255 * frames\n",
    "    \n",
    "    # NaN to 0\n",
    "    frames = tf.where(tf.math.is_nan(frames), 0.0, frames)\n",
    "\n",
    "    # Resize\n",
    "    frames = tf.image.resize(\n",
    "        frames, (configs.num_frames, 543), method=configs.resizing_interpolation\n",
    "    )\n",
    "    \n",
    "    return frames\n",
    "\n",
    "\n",
    "def parse_data(example):\n",
    "    # Parse Frames\n",
    "    n_frames = example[\"n_frames\"]\n",
    "    frames = tf.reshape(parse_sequence(example[\"frames\"]), shape=(n_frames, 543, 3))\n",
    "#     frames = preprocess_frames(frames)\n",
    "    \n",
    "    # Parse Labels\n",
    "    label = tf.one_hot(example[\"label\"], depth=250)\n",
    "\n",
    "    return frames, label\n",
    "\n",
    "\n",
    "AUTOTUNE = tf.data.AUTOTUNE\n",
    "\n",
    "train_ds = tf.data.TFRecordDataset(train_tfrecords)\n",
    "valid_ds = tf.data.TFRecordDataset(valid_tfrecords)\n",
    "\n",
    "trainloader = (\n",
    "    train_ds\n",
    "    .map(parse_tfrecord_fn, num_parallel_calls=AUTOTUNE)\n",
    "    .shuffle(1024)\n",
    "    .map(parse_data, num_parallel_calls=AUTOTUNE)\n",
    "    .batch(1)\n",
    "    .prefetch(AUTOTUNE)\n",
    ")\n",
    "\n",
    "validloader = (\n",
    "    valid_ds\n",
    "    .map(parse_tfrecord_fn, num_parallel_calls=AUTOTUNE)\n",
    "    .map(parse_data, num_parallel_calls=AUTOTUNE)\n",
    "    .batch(128)\n",
    "    .prefetch(AUTOTUNE)\n",
    ")"
   ]
  },
  {
   "cell_type": "code",
   "execution_count": 29,
   "id": "b00d2b75",
   "metadata": {
    "scrolled": true
   },
   "outputs": [],
   "source": [
    "sample, _ = next(iter(trainloader))\n",
    "sample = sample[0]"
   ]
  },
  {
   "cell_type": "code",
   "execution_count": 30,
   "id": "6a5112cf",
   "metadata": {
    "scrolled": true
   },
   "outputs": [
    {
     "data": {
      "text/plain": [
       "<tf.Tensor: shape=(8, 543, 3), dtype=float32, numpy=\n",
       "array([[[ 0.43045917,  0.48798028, -0.05091354],\n",
       "        [ 0.41856372,  0.43558612, -0.07141284],\n",
       "        [ 0.42197806,  0.4517281 , -0.0436361 ],\n",
       "        ...,\n",
       "        [        nan,         nan,         nan],\n",
       "        [        nan,         nan,         nan],\n",
       "        [        nan,         nan,         nan]],\n",
       "\n",
       "       [[ 0.4267037 ,  0.48686847, -0.05025025],\n",
       "        [ 0.41319862,  0.4300508 , -0.06878123],\n",
       "        [ 0.41712552,  0.44643524, -0.04261369],\n",
       "        ...,\n",
       "        [        nan,         nan,         nan],\n",
       "        [        nan,         nan,         nan],\n",
       "        [        nan,         nan,         nan]],\n",
       "\n",
       "       [[ 0.4260299 ,  0.47794083, -0.04975466],\n",
       "        [ 0.41683212,  0.4273697 , -0.07033914],\n",
       "        [ 0.42015132,  0.44274646, -0.04291803],\n",
       "        ...,\n",
       "        [        nan,         nan,         nan],\n",
       "        [        nan,         nan,         nan],\n",
       "        [        nan,         nan,         nan]],\n",
       "\n",
       "       ...,\n",
       "\n",
       "       [[ 0.42299882,  0.46927068, -0.05117656],\n",
       "        [ 0.40505615,  0.42029837, -0.06960289],\n",
       "        [ 0.40885437,  0.4367422 , -0.04299779],\n",
       "        ...,\n",
       "        [        nan,         nan,         nan],\n",
       "        [        nan,         nan,         nan],\n",
       "        [        nan,         nan,         nan]],\n",
       "\n",
       "       [[ 0.41846716,  0.4689213 , -0.05167904],\n",
       "        [ 0.40227753,  0.4205903 , -0.06857369],\n",
       "        [ 0.40668142,  0.4372183 , -0.04275811],\n",
       "        ...,\n",
       "        [        nan,         nan,         nan],\n",
       "        [        nan,         nan,         nan],\n",
       "        [        nan,         nan,         nan]],\n",
       "\n",
       "       [[ 0.4140373 ,  0.46661627, -0.05083094],\n",
       "        [ 0.39920276,  0.42299825, -0.07002767],\n",
       "        [ 0.40385988,  0.43912116, -0.04315671],\n",
       "        ...,\n",
       "        [        nan,         nan,         nan],\n",
       "        [        nan,         nan,         nan],\n",
       "        [        nan,         nan,         nan]]], dtype=float32)>"
      ]
     },
     "execution_count": 30,
     "metadata": {},
     "output_type": "execute_result"
    }
   ],
   "source": [
    "sample"
   ]
  },
  {
   "cell_type": "code",
   "execution_count": 41,
   "id": "4f97d1b6",
   "metadata": {
    "scrolled": true
   },
   "outputs": [
    {
     "data": {
      "text/plain": [
       "array([[[ 0.04625928, -0.19246145,  0.23472302],\n",
       "        [ 0.04511708, -0.22272986,  0.2301542 ],\n",
       "        [ 0.04568818, -0.21359223,  0.23586522],\n",
       "        ...,\n",
       "        [ 0.        ,  0.        ,  0.        ],\n",
       "        [ 0.        ,  0.        ,  0.        ],\n",
       "        [ 0.        ,  0.        ,  0.        ]],\n",
       "\n",
       "       [[ 0.04568818, -0.19303255,  0.23472302],\n",
       "        [ 0.04454597, -0.22615649,  0.2307253 ],\n",
       "        [ 0.04511708, -0.21644774,  0.23643632],\n",
       "        ...,\n",
       "        [ 0.        ,  0.        ,  0.        ],\n",
       "        [ 0.        ,  0.        ,  0.        ],\n",
       "        [ 0.        ,  0.        ,  0.        ]],\n",
       "\n",
       "       [[ 0.04568818, -0.19817248,  0.23472302],\n",
       "        [ 0.04511708, -0.2278698 ,  0.2307253 ],\n",
       "        [ 0.04511708, -0.21873215,  0.23586522],\n",
       "        ...,\n",
       "        [ 0.        ,  0.        ,  0.        ],\n",
       "        [ 0.        ,  0.        ,  0.        ],\n",
       "        [ 0.        ,  0.        ,  0.        ]],\n",
       "\n",
       "       ...,\n",
       "\n",
       "       [[ 0.04568818, -0.2033124 ,  0.23415191],\n",
       "        [ 0.04397487, -0.2318675 ,  0.2307253 ],\n",
       "        [ 0.04397487, -0.22215876,  0.23586522],\n",
       "        ...,\n",
       "        [ 0.        ,  0.        ,  0.        ],\n",
       "        [ 0.        ,  0.        ,  0.        ],\n",
       "        [ 0.        ,  0.        ,  0.        ]],\n",
       "\n",
       "       [[ 0.04511708, -0.2033124 ,  0.23415191],\n",
       "        [ 0.04340377, -0.2318675 ,  0.2307253 ],\n",
       "        [ 0.04397487, -0.22215876,  0.23643632],\n",
       "        ...,\n",
       "        [ 0.        ,  0.        ,  0.        ],\n",
       "        [ 0.        ,  0.        ,  0.        ],\n",
       "        [ 0.        ,  0.        ,  0.        ]],\n",
       "\n",
       "       [[ 0.04454597, -0.2050257 ,  0.23472302],\n",
       "        [ 0.04340377, -0.2301542 ,  0.2307253 ],\n",
       "        [ 0.04397487, -0.22101656,  0.23586522],\n",
       "        ...,\n",
       "        [ 0.        ,  0.        ,  0.        ],\n",
       "        [ 0.        ,  0.        ,  0.        ],\n",
       "        [ 0.        ,  0.        ,  0.        ]]], dtype=float32)"
      ]
     },
     "execution_count": 41,
     "metadata": {},
     "output_type": "execute_result"
    }
   ],
   "source": [
    "x = np.floor(255*((sample - MIN_C) / (MAX_C - MIN_C)))\n",
    "x = np.array(tf.where(tf.math.is_nan(x), 0.0, x))\n",
    "x = x/x.max()\n",
    "x"
   ]
  },
  {
   "cell_type": "code",
   "execution_count": 43,
   "id": "47ab3523",
   "metadata": {},
   "outputs": [
    {
     "data": {
      "text/plain": [
       "1.0"
      ]
     },
     "execution_count": 43,
     "metadata": {},
     "output_type": "execute_result"
    }
   ],
   "source": [
    "x.max()"
   ]
  },
  {
   "cell_type": "code",
   "execution_count": null,
   "id": "29a5e9c4",
   "metadata": {},
   "outputs": [],
   "source": []
  },
  {
   "cell_type": "code",
   "execution_count": 70,
   "id": "d475592c",
   "metadata": {},
   "outputs": [
    {
     "name": "stderr",
     "output_type": "stream",
     "text": [
      "74797it [1:35:09, 13.10it/s]\n"
     ]
    }
   ],
   "source": [
    "from tqdm import tqdm\n",
    "\n",
    "min_c = [np.inf, np.inf, np.inf]\n",
    "max_c = [np.inf, np.inf, np.inf]\n",
    "\n",
    "for idx, (frames, _) in tqdm(enumerate(trainloader)):\n",
    "    frames = tf.squeeze(frames, axis=0).numpy()\n",
    "    for frame in frames:\n",
    "        for i in range(len(frame)):\n",
    "            min_c = min(list(frame[i]), min_c)\n",
    "            max_c = max(list(frame[i]), max_c)"
   ]
  },
  {
   "cell_type": "code",
   "execution_count": 18,
   "id": "17f33203",
   "metadata": {},
   "outputs": [],
   "source": []
  },
  {
   "cell_type": "code",
   "execution_count": 73,
   "id": "2e8b614d",
   "metadata": {},
   "outputs": [
    {
     "data": {
      "text/plain": [
       "{0: 'TV',\n",
       " 1: 'after',\n",
       " 2: 'airplane',\n",
       " 3: 'all',\n",
       " 4: 'alligator',\n",
       " 5: 'animal',\n",
       " 6: 'another',\n",
       " 7: 'any',\n",
       " 8: 'apple',\n",
       " 9: 'arm',\n",
       " 10: 'aunt',\n",
       " 11: 'awake',\n",
       " 12: 'backyard',\n",
       " 13: 'bad',\n",
       " 14: 'balloon',\n",
       " 15: 'bath',\n",
       " 16: 'because',\n",
       " 17: 'bed',\n",
       " 18: 'bedroom',\n",
       " 19: 'bee',\n",
       " 20: 'before',\n",
       " 21: 'beside',\n",
       " 22: 'better',\n",
       " 23: 'bird',\n",
       " 24: 'black',\n",
       " 25: 'blow',\n",
       " 26: 'blue',\n",
       " 27: 'boat',\n",
       " 28: 'book',\n",
       " 29: 'boy',\n",
       " 30: 'brother',\n",
       " 31: 'brown',\n",
       " 32: 'bug',\n",
       " 33: 'bye',\n",
       " 34: 'callonphone',\n",
       " 35: 'can',\n",
       " 36: 'car',\n",
       " 37: 'carrot',\n",
       " 38: 'cat',\n",
       " 39: 'cereal',\n",
       " 40: 'chair',\n",
       " 41: 'cheek',\n",
       " 42: 'child',\n",
       " 43: 'chin',\n",
       " 44: 'chocolate',\n",
       " 45: 'clean',\n",
       " 46: 'close',\n",
       " 47: 'closet',\n",
       " 48: 'cloud',\n",
       " 49: 'clown',\n",
       " 50: 'cow',\n",
       " 51: 'cowboy',\n",
       " 52: 'cry',\n",
       " 53: 'cut',\n",
       " 54: 'cute',\n",
       " 55: 'dad',\n",
       " 56: 'dance',\n",
       " 57: 'dirty',\n",
       " 58: 'dog',\n",
       " 59: 'doll',\n",
       " 60: 'donkey',\n",
       " 61: 'down',\n",
       " 62: 'drawer',\n",
       " 63: 'drink',\n",
       " 64: 'drop',\n",
       " 65: 'dry',\n",
       " 66: 'dryer',\n",
       " 67: 'duck',\n",
       " 68: 'ear',\n",
       " 69: 'elephant',\n",
       " 70: 'empty',\n",
       " 71: 'every',\n",
       " 72: 'eye',\n",
       " 73: 'face',\n",
       " 74: 'fall',\n",
       " 75: 'farm',\n",
       " 76: 'fast',\n",
       " 77: 'feet',\n",
       " 78: 'find',\n",
       " 79: 'fine',\n",
       " 80: 'finger',\n",
       " 81: 'finish',\n",
       " 82: 'fireman',\n",
       " 83: 'first',\n",
       " 84: 'fish',\n",
       " 85: 'flag',\n",
       " 86: 'flower',\n",
       " 87: 'food',\n",
       " 88: 'for',\n",
       " 89: 'frenchfries',\n",
       " 90: 'frog',\n",
       " 91: 'garbage',\n",
       " 92: 'gift',\n",
       " 93: 'giraffe',\n",
       " 94: 'girl',\n",
       " 95: 'give',\n",
       " 96: 'glasswindow',\n",
       " 97: 'go',\n",
       " 98: 'goose',\n",
       " 99: 'grandma',\n",
       " 100: 'grandpa',\n",
       " 101: 'grass',\n",
       " 102: 'green',\n",
       " 103: 'gum',\n",
       " 104: 'hair',\n",
       " 105: 'happy',\n",
       " 106: 'hat',\n",
       " 107: 'hate',\n",
       " 108: 'have',\n",
       " 109: 'haveto',\n",
       " 110: 'head',\n",
       " 111: 'hear',\n",
       " 112: 'helicopter',\n",
       " 113: 'hello',\n",
       " 114: 'hen',\n",
       " 115: 'hesheit',\n",
       " 116: 'hide',\n",
       " 117: 'high',\n",
       " 118: 'home',\n",
       " 119: 'horse',\n",
       " 120: 'hot',\n",
       " 121: 'hungry',\n",
       " 122: 'icecream',\n",
       " 123: 'if',\n",
       " 124: 'into',\n",
       " 125: 'jacket',\n",
       " 126: 'jeans',\n",
       " 127: 'jump',\n",
       " 128: 'kiss',\n",
       " 129: 'kitty',\n",
       " 130: 'lamp',\n",
       " 131: 'later',\n",
       " 132: 'like',\n",
       " 133: 'lion',\n",
       " 134: 'lips',\n",
       " 135: 'listen',\n",
       " 136: 'look',\n",
       " 137: 'loud',\n",
       " 138: 'mad',\n",
       " 139: 'make',\n",
       " 140: 'man',\n",
       " 141: 'many',\n",
       " 142: 'milk',\n",
       " 143: 'minemy',\n",
       " 144: 'mitten',\n",
       " 145: 'mom',\n",
       " 146: 'moon',\n",
       " 147: 'morning',\n",
       " 148: 'mouse',\n",
       " 149: 'mouth',\n",
       " 150: 'nap',\n",
       " 151: 'napkin',\n",
       " 152: 'night',\n",
       " 153: 'no',\n",
       " 154: 'noisy',\n",
       " 155: 'nose',\n",
       " 156: 'not',\n",
       " 157: 'now',\n",
       " 158: 'nuts',\n",
       " 159: 'old',\n",
       " 160: 'on',\n",
       " 161: 'open',\n",
       " 162: 'orange',\n",
       " 163: 'outside',\n",
       " 164: 'owie',\n",
       " 165: 'owl',\n",
       " 166: 'pajamas',\n",
       " 167: 'pen',\n",
       " 168: 'pencil',\n",
       " 169: 'penny',\n",
       " 170: 'person',\n",
       " 171: 'pig',\n",
       " 172: 'pizza',\n",
       " 173: 'please',\n",
       " 174: 'police',\n",
       " 175: 'pool',\n",
       " 176: 'potty',\n",
       " 177: 'pretend',\n",
       " 178: 'pretty',\n",
       " 179: 'puppy',\n",
       " 180: 'puzzle',\n",
       " 181: 'quiet',\n",
       " 182: 'radio',\n",
       " 183: 'rain',\n",
       " 184: 'read',\n",
       " 185: 'red',\n",
       " 186: 'refrigerator',\n",
       " 187: 'ride',\n",
       " 188: 'room',\n",
       " 189: 'sad',\n",
       " 190: 'same',\n",
       " 191: 'say',\n",
       " 192: 'scissors',\n",
       " 193: 'see',\n",
       " 194: 'shhh',\n",
       " 195: 'shirt',\n",
       " 196: 'shoe',\n",
       " 197: 'shower',\n",
       " 198: 'sick',\n",
       " 199: 'sleep',\n",
       " 200: 'sleepy',\n",
       " 201: 'smile',\n",
       " 202: 'snack',\n",
       " 203: 'snow',\n",
       " 204: 'stairs',\n",
       " 205: 'stay',\n",
       " 206: 'sticky',\n",
       " 207: 'store',\n",
       " 208: 'story',\n",
       " 209: 'stuck',\n",
       " 210: 'sun',\n",
       " 211: 'table',\n",
       " 212: 'talk',\n",
       " 213: 'taste',\n",
       " 214: 'thankyou',\n",
       " 215: 'that',\n",
       " 216: 'there',\n",
       " 217: 'think',\n",
       " 218: 'thirsty',\n",
       " 219: 'tiger',\n",
       " 220: 'time',\n",
       " 221: 'tomorrow',\n",
       " 222: 'tongue',\n",
       " 223: 'tooth',\n",
       " 224: 'toothbrush',\n",
       " 225: 'touch',\n",
       " 226: 'toy',\n",
       " 227: 'tree',\n",
       " 228: 'uncle',\n",
       " 229: 'underwear',\n",
       " 230: 'up',\n",
       " 231: 'vacuum',\n",
       " 232: 'wait',\n",
       " 233: 'wake',\n",
       " 234: 'water',\n",
       " 235: 'wet',\n",
       " 236: 'weus',\n",
       " 237: 'where',\n",
       " 238: 'white',\n",
       " 239: 'who',\n",
       " 240: 'why',\n",
       " 241: 'will',\n",
       " 242: 'wolf',\n",
       " 243: 'yellow',\n",
       " 244: 'yes',\n",
       " 245: 'yesterday',\n",
       " 246: 'yourself',\n",
       " 247: 'yucky',\n",
       " 248: 'zebra',\n",
       " 249: 'zipper'}"
      ]
     },
     "execution_count": 73,
     "metadata": {},
     "output_type": "execute_result"
    }
   ],
   "source": [
    "# Get labels 2 id\n",
    "import json\n",
    "\n",
    "with open(\"../data/sign_to_prediction_index_map.json\") as f:\n",
    "    label2id = json.load(f)\n",
    "    \n",
    "id2label = {v:k for k,v in label2id.items()}\n",
    "id2label"
   ]
  },
  {
   "cell_type": "code",
   "execution_count": 74,
   "id": "7931f98d",
   "metadata": {},
   "outputs": [
    {
     "data": {
      "text/plain": [
       "<tf.Tensor: shape=(1, 54, 543, 3), dtype=float32, numpy=\n",
       "array([[[[ 0.47881383,  0.47504663, -0.04321275],\n",
       "         [ 0.47857738,  0.43265402, -0.0605206 ],\n",
       "         [ 0.47969326,  0.4454293 , -0.03614771],\n",
       "         ...,\n",
       "         [ 0.33654892,  0.6844093 , -0.10143371],\n",
       "         [ 0.35334253,  0.7131288 , -0.08925071],\n",
       "         [ 0.35125703,  0.73177767, -0.07491513]],\n",
       "\n",
       "        [[ 0.48144597,  0.4739204 , -0.04246955],\n",
       "         [ 0.4779333 ,  0.43379244, -0.06057076],\n",
       "         [ 0.4792229 ,  0.44626126, -0.03587906],\n",
       "         ...,\n",
       "         [ 0.3284788 ,  0.6784022 , -0.09722248],\n",
       "         [ 0.34323227,  0.7082164 , -0.08614843],\n",
       "         [ 0.34229854,  0.7286104 , -0.07187299]],\n",
       "\n",
       "        [[ 0.4826412 ,  0.4736914 , -0.04305909],\n",
       "         [ 0.4804488 ,  0.43340963, -0.06074397],\n",
       "         [ 0.4812621 ,  0.44583565, -0.03615693],\n",
       "         ...,\n",
       "         [ 0.33411184,  0.6762175 , -0.08901671],\n",
       "         [ 0.3497692 ,  0.70375085, -0.07811157],\n",
       "         [ 0.3472429 ,  0.7236788 , -0.06572422]],\n",
       "\n",
       "        ...,\n",
       "\n",
       "        [[ 0.48740256,  0.47319165, -0.04348521],\n",
       "         [ 0.48262134,  0.4322539 , -0.06071461],\n",
       "         [ 0.483461  ,  0.4449341 , -0.03649327],\n",
       "         ...,\n",
       "         [ 0.15851845,  0.59933436, -0.10500472],\n",
       "         [ 0.18027306,  0.63333464, -0.09146695],\n",
       "         [ 0.19255161,  0.6425775 , -0.07566264]],\n",
       "\n",
       "        [[ 0.48901972,  0.47313014, -0.04200582],\n",
       "         [ 0.49067447,  0.43436974, -0.06091363],\n",
       "         [ 0.49054953,  0.44643006, -0.03599164],\n",
       "         ...,\n",
       "         [ 0.10614769,  0.58767706, -0.06423414],\n",
       "         [ 0.12156425,  0.61642766, -0.05985148],\n",
       "         [ 0.1362231 ,  0.6361525 , -0.04848128]],\n",
       "\n",
       "        [[ 0.48886108,  0.47380692, -0.04174961],\n",
       "         [ 0.48880515,  0.4346081 , -0.06012476],\n",
       "         [ 0.48893055,  0.4467398 , -0.03548245],\n",
       "         ...,\n",
       "         [ 0.10932148,  0.59436285, -0.05595789],\n",
       "         [ 0.12036127,  0.61765534, -0.05403526],\n",
       "         [ 0.13205436,  0.6311834 , -0.04605622]]]], dtype=float32)>"
      ]
     },
     "execution_count": 74,
     "metadata": {},
     "output_type": "execute_result"
    }
   ],
   "source": [
    "samples, labels = next(iter(trainloader))\n",
    "samples"
   ]
  },
  {
   "cell_type": "code",
   "execution_count": 75,
   "id": "77d4b200",
   "metadata": {},
   "outputs": [
    {
     "data": {
      "text/plain": [
       "array([47])"
      ]
     },
     "execution_count": 75,
     "metadata": {},
     "output_type": "execute_result"
    }
   ],
   "source": [
    "labels = np.argmax(labels, axis=1)\n",
    "labels"
   ]
  },
  {
   "cell_type": "code",
   "execution_count": 40,
   "id": "c4a9b9e8",
   "metadata": {},
   "outputs": [],
   "source": [
    "# Psuedo code but working!"
   ]
  },
  {
   "cell_type": "code",
   "execution_count": 76,
   "id": "46bd6c2e",
   "metadata": {},
   "outputs": [],
   "source": [
    "lip_inputs = tf.gather(samples, indices=LIP, axis=2)\n",
    "left_hand_inputs = samples[:, :, 468:489, :]\n",
    "right_hand_inputs = samples[:, :,522:,:]\n",
    "samples = tf.keras.layers.Concatenate(axis=2)(\n",
    "    [lip_inputs, right_hand_inputs, left_hand_inputs]\n",
    ")"
   ]
  },
  {
   "cell_type": "code",
   "execution_count": 87,
   "id": "e29b80d7",
   "metadata": {
    "scrolled": true
   },
   "outputs": [
    {
     "data": {
      "text/plain": [
       "<tf.Tensor: shape=(54, 82, 3), dtype=float32, numpy=\n",
       "array([[[ 0.43868756,  0.4916583 , -0.00947222],\n",
       "        [ 0.4405604 ,  0.48726627, -0.01735631],\n",
       "        [ 0.44538593,  0.48256332, -0.0256984 ],\n",
       "        ...,\n",
       "        [        nan,         nan,         nan],\n",
       "        [        nan,         nan,         nan],\n",
       "        [        nan,         nan,         nan]],\n",
       "\n",
       "       [[ 0.43781945,  0.49161753, -0.0079173 ],\n",
       "        [ 0.4405206 ,  0.48739445, -0.01587842],\n",
       "        [ 0.4462313 ,  0.48263532, -0.02440712],\n",
       "        ...,\n",
       "        [        nan,         nan,         nan],\n",
       "        [        nan,         nan,         nan],\n",
       "        [        nan,         nan,         nan]],\n",
       "\n",
       "       [[ 0.43889776,  0.4923789 , -0.00968695],\n",
       "        [ 0.44165856,  0.48801172, -0.01757443],\n",
       "        [ 0.44738707,  0.48305473, -0.02591663],\n",
       "        ...,\n",
       "        [        nan,         nan,         nan],\n",
       "        [        nan,         nan,         nan],\n",
       "        [        nan,         nan,         nan]],\n",
       "\n",
       "       ...,\n",
       "\n",
       "       [[ 0.4410466 ,  0.49044484, -0.00951769],\n",
       "        [ 0.44404963,  0.4857574 , -0.01740154],\n",
       "        [ 0.45036203,  0.48082912, -0.02582552],\n",
       "        ...,\n",
       "        [        nan,         nan,         nan],\n",
       "        [        nan,         nan,         nan],\n",
       "        [        nan,         nan,         nan]],\n",
       "\n",
       "       [[ 0.44341812,  0.49126467, -0.00904312],\n",
       "        [ 0.44656208,  0.4864613 , -0.01711287],\n",
       "        [ 0.45263562,  0.48124158, -0.02559595],\n",
       "        ...,\n",
       "        [        nan,         nan,         nan],\n",
       "        [        nan,         nan,         nan],\n",
       "        [        nan,         nan,         nan]],\n",
       "\n",
       "       [[ 0.4424449 ,  0.49192724, -0.00919773],\n",
       "        [ 0.44582593,  0.48738933, -0.01700393],\n",
       "        [ 0.45215198,  0.48227212, -0.02522687],\n",
       "        ...,\n",
       "        [        nan,         nan,         nan],\n",
       "        [        nan,         nan,         nan],\n",
       "        [        nan,         nan,         nan]]], dtype=float32)>"
      ]
     },
     "execution_count": 87,
     "metadata": {},
     "output_type": "execute_result"
    }
   ],
   "source": [
    "sample = samples[0]\n",
    "sample"
   ]
  },
  {
   "cell_type": "code",
   "execution_count": 78,
   "id": "a9be1637",
   "metadata": {
    "scrolled": true
   },
   "outputs": [
    {
     "data": {
      "text/plain": [
       "<tf.Tensor: shape=(82, 3), dtype=float32, numpy=\n",
       "array([[ 4.38687563e-01,  4.91658300e-01, -9.47221927e-03],\n",
       "       [ 4.40560400e-01,  4.87266272e-01, -1.73563100e-02],\n",
       "       [ 4.45385933e-01,  4.82563317e-01, -2.56983992e-02],\n",
       "       [ 4.52780634e-01,  4.77479875e-01, -3.33428085e-02],\n",
       "       [ 4.65283543e-01,  4.73183811e-01, -4.01901267e-02],\n",
       "       [ 4.78813827e-01,  4.75046635e-01, -4.32127491e-02],\n",
       "       [ 4.92441982e-01,  4.72218573e-01, -4.22814563e-02],\n",
       "       [ 5.06920457e-01,  4.75913703e-01, -3.76189239e-02],\n",
       "       [ 5.16562402e-01,  4.80604142e-01, -3.14839594e-02],\n",
       "       [ 5.23644090e-01,  4.85357642e-01, -2.42551081e-02],\n",
       "       [ 5.27829707e-01,  4.89970744e-01, -1.69580374e-02],\n",
       "       [ 4.42585528e-01,  4.94380832e-01, -1.80413052e-02],\n",
       "       [ 4.48128581e-01,  4.97254461e-01, -2.68949755e-02],\n",
       "       [ 4.56807673e-01,  5.01146972e-01, -3.30545269e-02],\n",
       "       [ 4.68086392e-01,  5.04212439e-01, -3.79352570e-02],\n",
       "       [ 4.81542766e-01,  5.05028605e-01, -3.96316908e-02],\n",
       "       [ 4.95638549e-01,  5.04084289e-01, -3.99725847e-02],\n",
       "       [ 5.08206367e-01,  5.01023948e-01, -3.70762497e-02],\n",
       "       [ 5.17706454e-01,  4.96661514e-01, -3.20391208e-02],\n",
       "       [ 5.23702502e-01,  4.93075490e-01, -2.43912470e-02],\n",
       "       [ 4.42580193e-01,  4.90808338e-01, -1.36011569e-02],\n",
       "       [ 4.48273301e-01,  4.89620090e-01, -1.77227557e-02],\n",
       "       [ 4.53355372e-01,  4.88890707e-01, -2.33505722e-02],\n",
       "       [ 4.60522950e-01,  4.88396466e-01, -2.81648301e-02],\n",
       "       [ 4.69613433e-01,  4.88463819e-01, -3.25407684e-02],\n",
       "       [ 4.80407655e-01,  4.88620341e-01, -3.47581469e-02],\n",
       "       [ 4.91455972e-01,  4.87907410e-01, -3.44866477e-02],\n",
       "       [ 5.01836240e-01,  4.87466365e-01, -3.16294320e-02],\n",
       "       [ 5.10664523e-01,  4.87845331e-01, -2.79365424e-02],\n",
       "       [ 5.17377496e-01,  4.88701731e-01, -2.34239046e-02],\n",
       "       [ 4.48565781e-01,  4.89803076e-01, -1.77362915e-02],\n",
       "       [ 4.53932106e-01,  4.88995999e-01, -2.32220516e-02],\n",
       "       [ 4.61029768e-01,  4.88339067e-01, -2.80270278e-02],\n",
       "       [ 4.69992101e-01,  4.88150507e-01, -3.23170871e-02],\n",
       "       [ 4.80564773e-01,  4.88253355e-01, -3.46223339e-02],\n",
       "       [ 4.91511375e-01,  4.87644911e-01, -3.43042426e-02],\n",
       "       [ 5.01824260e-01,  4.87459302e-01, -3.14693227e-02],\n",
       "       [ 5.10519564e-01,  4.88007516e-01, -2.78253630e-02],\n",
       "       [ 5.17212868e-01,  4.88836050e-01, -2.34445017e-02],\n",
       "       [ 5.23797393e-01,  4.89548236e-01, -2.00290810e-02],\n",
       "       [ 3.19189250e-01,  8.10823739e-01,  7.19209439e-08],\n",
       "       [ 3.96000445e-01,  7.98134804e-01, -2.25999560e-02],\n",
       "       [ 4.62847829e-01,  7.61270821e-01, -4.46593277e-02],\n",
       "       [ 5.03529251e-01,  7.33503938e-01, -7.07487240e-02],\n",
       "       [ 5.26266813e-01,  7.12173879e-01, -9.63198468e-02],\n",
       "       [ 4.32027102e-01,  6.52391076e-01, -3.19287367e-02],\n",
       "       [ 4.56167817e-01,  5.83624721e-01, -7.48304278e-02],\n",
       "       [ 4.90869939e-01,  5.65702796e-01, -1.04381219e-01],\n",
       "       [ 5.21402061e-01,  5.68664670e-01, -1.21142328e-01],\n",
       "       [ 3.81046504e-01,  6.51457131e-01, -4.28543799e-02],\n",
       "       [ 4.41254705e-01,  6.36507869e-01, -9.28670466e-02],\n",
       "       [ 4.59782690e-01,  6.84644759e-01, -1.07853867e-01],\n",
       "       [ 4.58518475e-01,  7.21813023e-01, -1.10064045e-01],\n",
       "       [ 3.32236886e-01,  6.64355159e-01, -5.79235032e-02],\n",
       "       [ 3.88778776e-01,  6.61933303e-01, -9.98048186e-02],\n",
       "       [ 4.01265591e-01,  7.02852428e-01, -9.04434025e-02],\n",
       "       [ 3.94607753e-01,  7.30720818e-01, -7.68979639e-02],\n",
       "       [ 2.86444247e-01,  6.85892463e-01, -7.61246011e-02],\n",
       "       [ 3.36548924e-01,  6.84409320e-01, -1.01433709e-01],\n",
       "       [ 3.53342533e-01,  7.13128805e-01, -8.92507061e-02],\n",
       "       [ 3.51257026e-01,  7.31777668e-01, -7.49151260e-02],\n",
       "       [            nan,             nan,             nan],\n",
       "       [            nan,             nan,             nan],\n",
       "       [            nan,             nan,             nan],\n",
       "       [            nan,             nan,             nan],\n",
       "       [            nan,             nan,             nan],\n",
       "       [            nan,             nan,             nan],\n",
       "       [            nan,             nan,             nan],\n",
       "       [            nan,             nan,             nan],\n",
       "       [            nan,             nan,             nan],\n",
       "       [            nan,             nan,             nan],\n",
       "       [            nan,             nan,             nan],\n",
       "       [            nan,             nan,             nan],\n",
       "       [            nan,             nan,             nan],\n",
       "       [            nan,             nan,             nan],\n",
       "       [            nan,             nan,             nan],\n",
       "       [            nan,             nan,             nan],\n",
       "       [            nan,             nan,             nan],\n",
       "       [            nan,             nan,             nan],\n",
       "       [            nan,             nan,             nan],\n",
       "       [            nan,             nan,             nan],\n",
       "       [            nan,             nan,             nan]], dtype=float32)>"
      ]
     },
     "execution_count": 78,
     "metadata": {},
     "output_type": "execute_result"
    }
   ],
   "source": [
    "f1 = sample[0]\n",
    "f1"
   ]
  },
  {
   "cell_type": "code",
   "execution_count": 79,
   "id": "b2553c4f",
   "metadata": {},
   "outputs": [],
   "source": [
    "x = f1[:,0]\n",
    "y = f1[:,1]\n",
    "z = f1[:,2]"
   ]
  },
  {
   "cell_type": "code",
   "execution_count": 80,
   "id": "5b5fd5df",
   "metadata": {},
   "outputs": [
    {
     "data": {
      "text/plain": [
       "<tf.Tensor: shape=(82,), dtype=float32, numpy=\n",
       "array([0.43868756, 0.4405604 , 0.44538593, 0.45278063, 0.46528354,\n",
       "       0.47881383, 0.49244198, 0.50692046, 0.5165624 , 0.5236441 ,\n",
       "       0.5278297 , 0.44258553, 0.44812858, 0.45680767, 0.4680864 ,\n",
       "       0.48154277, 0.49563855, 0.50820637, 0.51770645, 0.5237025 ,\n",
       "       0.4425802 , 0.4482733 , 0.45335537, 0.46052295, 0.46961343,\n",
       "       0.48040766, 0.49145597, 0.50183624, 0.5106645 , 0.5173775 ,\n",
       "       0.44856578, 0.4539321 , 0.46102977, 0.4699921 , 0.48056477,\n",
       "       0.49151137, 0.50182426, 0.51051956, 0.51721287, 0.5237974 ,\n",
       "       0.31918925, 0.39600044, 0.46284783, 0.50352925, 0.5262668 ,\n",
       "       0.4320271 , 0.45616782, 0.49086994, 0.52140206, 0.3810465 ,\n",
       "       0.4412547 , 0.4597827 , 0.45851848, 0.3322369 , 0.38877878,\n",
       "       0.4012656 , 0.39460775, 0.28644425, 0.33654892, 0.35334253,\n",
       "       0.35125703,        nan,        nan,        nan,        nan,\n",
       "              nan,        nan,        nan,        nan,        nan,\n",
       "              nan,        nan,        nan,        nan,        nan,\n",
       "              nan,        nan,        nan,        nan,        nan,\n",
       "              nan,        nan], dtype=float32)>"
      ]
     },
     "execution_count": 80,
     "metadata": {},
     "output_type": "execute_result"
    }
   ],
   "source": [
    "x"
   ]
  },
  {
   "cell_type": "code",
   "execution_count": 18,
   "id": "cd62af0d",
   "metadata": {},
   "outputs": [
    {
     "name": "stderr",
     "output_type": "stream",
     "text": [
      "\u001b[34m\u001b[1mwandb\u001b[0m: Currently logged in as: \u001b[33mayush-thakur\u001b[0m. Use \u001b[1m`wandb login --relogin`\u001b[0m to force relogin\n"
     ]
    },
    {
     "data": {
      "text/html": [
       "wandb version 0.14.0 is available!  To upgrade, please run:\n",
       " $ pip install wandb --upgrade"
      ],
      "text/plain": [
       "<IPython.core.display.HTML object>"
      ]
     },
     "metadata": {},
     "output_type": "display_data"
    },
    {
     "data": {
      "text/html": [
       "Tracking run with wandb version 0.13.11"
      ],
      "text/plain": [
       "<IPython.core.display.HTML object>"
      ]
     },
     "metadata": {},
     "output_type": "display_data"
    },
    {
     "data": {
      "text/html": [
       "Run data is saved locally in <code>/home/ayushthakur/asl/kaggle-asl/notebooks/wandb/run-20230328_094949-anh6be8e</code>"
      ],
      "text/plain": [
       "<IPython.core.display.HTML object>"
      ]
     },
     "metadata": {},
     "output_type": "display_data"
    },
    {
     "data": {
      "text/html": [
       "Syncing run <strong><a href='https://wandb.ai/ayush-thakur/kaggle-asl/runs/anh6be8e' target=\"_blank\">avid-morning-48</a></strong> to <a href='https://wandb.ai/ayush-thakur/kaggle-asl' target=\"_blank\">Weights & Biases</a> (<a href='https://wandb.me/run' target=\"_blank\">docs</a>)<br/>"
      ],
      "text/plain": [
       "<IPython.core.display.HTML object>"
      ]
     },
     "metadata": {},
     "output_type": "display_data"
    },
    {
     "data": {
      "text/html": [
       " View project at <a href='https://wandb.ai/ayush-thakur/kaggle-asl' target=\"_blank\">https://wandb.ai/ayush-thakur/kaggle-asl</a>"
      ],
      "text/plain": [
       "<IPython.core.display.HTML object>"
      ]
     },
     "metadata": {},
     "output_type": "display_data"
    },
    {
     "data": {
      "text/html": [
       " View run at <a href='https://wandb.ai/ayush-thakur/kaggle-asl/runs/anh6be8e' target=\"_blank\">https://wandb.ai/ayush-thakur/kaggle-asl/runs/anh6be8e</a>"
      ],
      "text/plain": [
       "<IPython.core.display.HTML object>"
      ]
     },
     "metadata": {},
     "output_type": "display_data"
    },
    {
     "data": {
      "text/html": [
       "Waiting for W&B process to finish... <strong style=\"color:green\">(success).</strong>"
      ],
      "text/plain": [
       "<IPython.core.display.HTML object>"
      ]
     },
     "metadata": {},
     "output_type": "display_data"
    },
    {
     "data": {
      "text/html": [
       " View run <strong style=\"color:#cdcd00\">avid-morning-48</strong> at: <a href='https://wandb.ai/ayush-thakur/kaggle-asl/runs/anh6be8e' target=\"_blank\">https://wandb.ai/ayush-thakur/kaggle-asl/runs/anh6be8e</a><br/>Synced 5 W&B file(s), 33 media file(s), 0 artifact file(s) and 1 other file(s)"
      ],
      "text/plain": [
       "<IPython.core.display.HTML object>"
      ]
     },
     "metadata": {},
     "output_type": "display_data"
    },
    {
     "data": {
      "text/html": [
       "Find logs at: <code>./wandb/run-20230328_094949-anh6be8e/logs</code>"
      ],
      "text/plain": [
       "<IPython.core.display.HTML object>"
      ]
     },
     "metadata": {},
     "output_type": "display_data"
    }
   ],
   "source": [
    "run = wandb.init(\n",
    "    project=\"kaggle-asl\",\n",
    "    job_type=\"eda\",\n",
    ")\n",
    "\n",
    "for idx, (sample, label) in enumerate(zip(samples, labels)):\n",
    "#     sample = (sample.numpy() - np.array(min_c))/(np.array(max_c) - np.array(min_c))\n",
    "    wandb.log({f\"images\": wandb.Image(sample, caption=f\"{id2label[label]}\")})\n",
    "    \n",
    "    if idx==32:\n",
    "        break\n",
    "\n",
    "wandb.finish()"
   ]
  },
  {
   "cell_type": "code",
   "execution_count": 108,
   "id": "28c80ed5",
   "metadata": {},
   "outputs": [
    {
     "data": {
      "text/plain": [
       "-0.16729814"
      ]
     },
     "execution_count": 108,
     "metadata": {},
     "output_type": "execute_result"
    }
   ],
   "source": [
    "sample.numpy().min()"
   ]
  },
  {
   "cell_type": "code",
   "execution_count": 92,
   "id": "67d30f5f",
   "metadata": {},
   "outputs": [],
   "source": [
    "sample1 = (sample.numpy() - np.array(min_c))/(np.array(max_c) - np.array(min_c))"
   ]
  },
  {
   "cell_type": "code",
   "execution_count": 86,
   "id": "e6084021",
   "metadata": {},
   "outputs": [
    {
     "name": "stderr",
     "output_type": "stream",
     "text": [
      "Clipping input data to the valid range for imshow with RGB data ([0..1] for floats or [0..255] for integers).\n"
     ]
    },
    {
     "data": {
      "text/plain": [
       "<matplotlib.image.AxesImage at 0x7fce5e8f3d50>"
      ]
     },
     "execution_count": 86,
     "metadata": {},
     "output_type": "execute_result"
    },
    {
     "data": {
      "image/png": "[encoded data removed]",
      "text/plain": [
       "<Figure size 640x480 with 1 Axes>"
      ]
     },
     "metadata": {},
     "output_type": "display_data"
    }
   ],
   "source": [
    "plt.imshow(sample)"
   ]
  },
  {
   "cell_type": "code",
   "execution_count": null,
   "id": "044fe40e",
   "metadata": {},
   "outputs": [],
   "source": []
  },
  {
   "cell_type": "code",
   "execution_count": null,
   "id": "8cc80102",
   "metadata": {},
   "outputs": [],
   "source": []
  },
  {
   "cell_type": "code",
   "execution_count": null,
   "id": "8e44b160",
   "metadata": {},
   "outputs": [],
   "source": []
  },
  {
   "cell_type": "code",
   "execution_count": null,
   "id": "0e6f2134",
   "metadata": {},
   "outputs": [],
   "source": []
  }
 ],
 "metadata": {
  "kernelspec": {
   "display_name": "Python 3",
   "language": "python",
   "name": "python3"
  },
  "language_info": {
   "codemirror_mode": {
    "name": "ipython",
    "version": 3
   },
   "file_extension": ".py",
   "mimetype": "text/x-python",
   "name": "python",
   "nbconvert_exporter": "python",
   "pygments_lexer": "ipython3",
   "version": "3.7.12"
  }
 },
 "nbformat": 4,
 "nbformat_minor": 5
}
