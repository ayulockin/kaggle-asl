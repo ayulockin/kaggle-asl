{
 "cells": [
  {
   "cell_type": "code",
   "execution_count": 167,
   "id": "1063dd23",
   "metadata": {},
   "outputs": [],
   "source": [
    "import numpy as np\n",
    "import pandas as pd\n",
    "from glob import glob\n",
    "from tqdm import tqdm\n",
    "import matplotlib.pyplot as plt\n",
    "\n",
    "# heatmap\n",
    "import math\n",
    "from scipy.stats import multivariate_normal\n",
    "\n",
    "# animation\n",
    "from matplotlib.animation import FuncAnimation"
   ]
  },
  {
   "cell_type": "code",
   "execution_count": 53,
   "id": "8466b404",
   "metadata": {},
   "outputs": [
    {
     "data": {
      "text/html": [
       "<div>\n",
       "<style scoped>\n",
       "    .dataframe tbody tr th:only-of-type {\n",
       "        vertical-align: middle;\n",
       "    }\n",
       "\n",
       "    .dataframe tbody tr th {\n",
       "        vertical-align: top;\n",
       "    }\n",
       "\n",
       "    .dataframe thead th {\n",
       "        text-align: right;\n",
       "    }\n",
       "</style>\n",
       "<table border=\"1\" class=\"dataframe\">\n",
       "  <thead>\n",
       "    <tr style=\"text-align: right;\">\n",
       "      <th></th>\n",
       "      <th>path</th>\n",
       "      <th>participant_id</th>\n",
       "      <th>sequence_id</th>\n",
       "      <th>sign</th>\n",
       "    </tr>\n",
       "  </thead>\n",
       "  <tbody>\n",
       "    <tr>\n",
       "      <th>0</th>\n",
       "      <td>../data/train_landmark_files/26734/1000035562....</td>\n",
       "      <td>26734</td>\n",
       "      <td>1000035562</td>\n",
       "      <td>blow</td>\n",
       "    </tr>\n",
       "    <tr>\n",
       "      <th>1</th>\n",
       "      <td>../data/train_landmark_files/28656/1000106739....</td>\n",
       "      <td>28656</td>\n",
       "      <td>1000106739</td>\n",
       "      <td>wait</td>\n",
       "    </tr>\n",
       "    <tr>\n",
       "      <th>2</th>\n",
       "      <td>../data/train_landmark_files/16069/100015657.p...</td>\n",
       "      <td>16069</td>\n",
       "      <td>100015657</td>\n",
       "      <td>cloud</td>\n",
       "    </tr>\n",
       "    <tr>\n",
       "      <th>3</th>\n",
       "      <td>../data/train_landmark_files/25571/1000210073....</td>\n",
       "      <td>25571</td>\n",
       "      <td>1000210073</td>\n",
       "      <td>bird</td>\n",
       "    </tr>\n",
       "    <tr>\n",
       "      <th>4</th>\n",
       "      <td>../data/train_landmark_files/62590/1000240708....</td>\n",
       "      <td>62590</td>\n",
       "      <td>1000240708</td>\n",
       "      <td>owie</td>\n",
       "    </tr>\n",
       "  </tbody>\n",
       "</table>\n",
       "</div>"
      ],
      "text/plain": [
       "                                                path  participant_id  \\\n",
       "0  ../data/train_landmark_files/26734/1000035562....           26734   \n",
       "1  ../data/train_landmark_files/28656/1000106739....           28656   \n",
       "2  ../data/train_landmark_files/16069/100015657.p...           16069   \n",
       "3  ../data/train_landmark_files/25571/1000210073....           25571   \n",
       "4  ../data/train_landmark_files/62590/1000240708....           62590   \n",
       "\n",
       "   sequence_id   sign  \n",
       "0   1000035562   blow  \n",
       "1   1000106739   wait  \n",
       "2    100015657  cloud  \n",
       "3   1000210073   bird  \n",
       "4   1000240708   owie  "
      ]
     },
     "execution_count": 53,
     "metadata": {},
     "output_type": "execute_result"
    }
   ],
   "source": [
    "# train.csv file\n",
    "df = pd.read_csv(f\"../data/train.csv\")\n",
    "df[\"path\"] = df[\"path\"].apply(lambda row: f\"../data/{row}\")\n",
    "df.head()"
   ]
  },
  {
   "cell_type": "code",
   "execution_count": 54,
   "id": "e5264351",
   "metadata": {},
   "outputs": [],
   "source": [
    "NUM_JOINTS = 543\n",
    "\n",
    "LIP = [\n",
    "    61, 185, 40, 39, 37, 0, 267, 269, 270, 409,\n",
    "    291, 146, 91, 181, 84, 17, 314, 405, 321, 375,\n",
    "    78, 191, 80, 81, 82, 13, 312, 311, 310, 415,\n",
    "    95, 88, 178, 87, 14, 317, 402, 318, 324, 308,\n",
    "]\n",
    "\n",
    "RIGHT_EYE = [\n",
    "    246, 161, 160, 159, 158, 157, 173,\n",
    "    33, 7, 163, 144, 145, 153, 154, 155, 133,\n",
    "    247, 30, 29, 27, 28, 56, 190,\n",
    "    130, 25, 110, 24, 23, 22, 26, 112, 243,\n",
    "    113, 225, 224, 223, 222, 221, 189,\n",
    "    226, 31, 228, 229, 230, 231, 232, 233, 244,\n",
    "    143, 111, 117, 118, 119, 120, 121, 128, 245,\n",
    "]\n",
    "\n",
    "LEFT_EYE = [\n",
    "    466, 387, 386, 385, 384, 398,\n",
    "    263, 249, 390, 373, 374, 380, 381, 382, 362,\n",
    "    467, 260, 259, 257, 258, 286, 414,\n",
    "    359, 255, 339, 254, 253, 252, 256, 341, 463,\n",
    "    342, 445, 444, 443, 442, 441, 413,\n",
    "    446, 261, 448, 449, 450, 451, 452, 453, 464,\n",
    "    372, 340, 346, 347, 348, 349, 350, 357, 465,\n",
    "]\n",
    "\n",
    "LEFT_HAND = [\n",
    "    468, 469, 470, 471, 472, 473, 474, 475,\n",
    "    476, 477, 478, 479, 480, 481, 482, 483,\n",
    "    484, 485, 486, 487, 488\n",
    "]\n",
    "\n",
    "RIGHT_HAND = [\n",
    "    522, 523, 524, 525, 526, 527, 528, 529,\n",
    "    530, 531, 532, 533, 534, 535, 536, 537,\n",
    "    538, 539, 540, 541, 542\n",
    "]"
   ]
  },
  {
   "cell_type": "code",
   "execution_count": 210,
   "id": "bc5cbb4a",
   "metadata": {},
   "outputs": [
    {
     "data": {
      "text/html": [
       "<div>\n",
       "<style scoped>\n",
       "    .dataframe tbody tr th:only-of-type {\n",
       "        vertical-align: middle;\n",
       "    }\n",
       "\n",
       "    .dataframe tbody tr th {\n",
       "        vertical-align: top;\n",
       "    }\n",
       "\n",
       "    .dataframe thead th {\n",
       "        text-align: right;\n",
       "    }\n",
       "</style>\n",
       "<table border=\"1\" class=\"dataframe\">\n",
       "  <thead>\n",
       "    <tr style=\"text-align: right;\">\n",
       "      <th></th>\n",
       "      <th>frame</th>\n",
       "      <th>row_id</th>\n",
       "      <th>type</th>\n",
       "      <th>landmark_index</th>\n",
       "      <th>x</th>\n",
       "      <th>y</th>\n",
       "      <th>z</th>\n",
       "    </tr>\n",
       "  </thead>\n",
       "  <tbody>\n",
       "    <tr>\n",
       "      <th>0</th>\n",
       "      <td>14</td>\n",
       "      <td>14-face-0</td>\n",
       "      <td>face</td>\n",
       "      <td>0</td>\n",
       "      <td>0.474141</td>\n",
       "      <td>0.416354</td>\n",
       "      <td>-0.042849</td>\n",
       "    </tr>\n",
       "    <tr>\n",
       "      <th>1</th>\n",
       "      <td>14</td>\n",
       "      <td>14-face-1</td>\n",
       "      <td>face</td>\n",
       "      <td>1</td>\n",
       "      <td>0.463600</td>\n",
       "      <td>0.378343</td>\n",
       "      <td>-0.063832</td>\n",
       "    </tr>\n",
       "    <tr>\n",
       "      <th>2</th>\n",
       "      <td>14</td>\n",
       "      <td>14-face-2</td>\n",
       "      <td>face</td>\n",
       "      <td>2</td>\n",
       "      <td>0.469422</td>\n",
       "      <td>0.390992</td>\n",
       "      <td>-0.038287</td>\n",
       "    </tr>\n",
       "    <tr>\n",
       "      <th>3</th>\n",
       "      <td>14</td>\n",
       "      <td>14-face-3</td>\n",
       "      <td>face</td>\n",
       "      <td>3</td>\n",
       "      <td>0.453660</td>\n",
       "      <td>0.347890</td>\n",
       "      <td>-0.039314</td>\n",
       "    </tr>\n",
       "    <tr>\n",
       "      <th>4</th>\n",
       "      <td>14</td>\n",
       "      <td>14-face-4</td>\n",
       "      <td>face</td>\n",
       "      <td>4</td>\n",
       "      <td>0.462249</td>\n",
       "      <td>0.367778</td>\n",
       "      <td>-0.065897</td>\n",
       "    </tr>\n",
       "    <tr>\n",
       "      <th>...</th>\n",
       "      <td>...</td>\n",
       "      <td>...</td>\n",
       "      <td>...</td>\n",
       "      <td>...</td>\n",
       "      <td>...</td>\n",
       "      <td>...</td>\n",
       "      <td>...</td>\n",
       "    </tr>\n",
       "    <tr>\n",
       "      <th>17914</th>\n",
       "      <td>46</td>\n",
       "      <td>46-right_hand-16</td>\n",
       "      <td>right_hand</td>\n",
       "      <td>16</td>\n",
       "      <td>0.404107</td>\n",
       "      <td>0.775863</td>\n",
       "      <td>-0.026729</td>\n",
       "    </tr>\n",
       "    <tr>\n",
       "      <th>17915</th>\n",
       "      <td>46</td>\n",
       "      <td>46-right_hand-17</td>\n",
       "      <td>right_hand</td>\n",
       "      <td>17</td>\n",
       "      <td>0.358344</td>\n",
       "      <td>0.813799</td>\n",
       "      <td>-0.073121</td>\n",
       "    </tr>\n",
       "    <tr>\n",
       "      <th>17916</th>\n",
       "      <td>46</td>\n",
       "      <td>46-right_hand-18</td>\n",
       "      <td>right_hand</td>\n",
       "      <td>18</td>\n",
       "      <td>0.437495</td>\n",
       "      <td>0.813937</td>\n",
       "      <td>-0.067007</td>\n",
       "    </tr>\n",
       "    <tr>\n",
       "      <th>17917</th>\n",
       "      <td>46</td>\n",
       "      <td>46-right_hand-19</td>\n",
       "      <td>right_hand</td>\n",
       "      <td>19</td>\n",
       "      <td>0.416058</td>\n",
       "      <td>0.808676</td>\n",
       "      <td>-0.041302</td>\n",
       "    </tr>\n",
       "    <tr>\n",
       "      <th>17918</th>\n",
       "      <td>46</td>\n",
       "      <td>46-right_hand-20</td>\n",
       "      <td>right_hand</td>\n",
       "      <td>20</td>\n",
       "      <td>0.386099</td>\n",
       "      <td>0.805844</td>\n",
       "      <td>-0.023713</td>\n",
       "    </tr>\n",
       "  </tbody>\n",
       "</table>\n",
       "<p>17919 rows × 7 columns</p>\n",
       "</div>"
      ],
      "text/plain": [
       "       frame            row_id        type  landmark_index         x  \\\n",
       "0         14         14-face-0        face               0  0.474141   \n",
       "1         14         14-face-1        face               1  0.463600   \n",
       "2         14         14-face-2        face               2  0.469422   \n",
       "3         14         14-face-3        face               3  0.453660   \n",
       "4         14         14-face-4        face               4  0.462249   \n",
       "...      ...               ...         ...             ...       ...   \n",
       "17914     46  46-right_hand-16  right_hand              16  0.404107   \n",
       "17915     46  46-right_hand-17  right_hand              17  0.358344   \n",
       "17916     46  46-right_hand-18  right_hand              18  0.437495   \n",
       "17917     46  46-right_hand-19  right_hand              19  0.416058   \n",
       "17918     46  46-right_hand-20  right_hand              20  0.386099   \n",
       "\n",
       "              y         z  \n",
       "0      0.416354 -0.042849  \n",
       "1      0.378343 -0.063832  \n",
       "2      0.390992 -0.038287  \n",
       "3      0.347890 -0.039314  \n",
       "4      0.367778 -0.065897  \n",
       "...         ...       ...  \n",
       "17914  0.775863 -0.026729  \n",
       "17915  0.813799 -0.073121  \n",
       "17916  0.813937 -0.067007  \n",
       "17917  0.808676 -0.041302  \n",
       "17918  0.805844 -0.023713  \n",
       "\n",
       "[17919 rows x 7 columns]"
      ]
     },
     "execution_count": 210,
     "metadata": {},
     "output_type": "execute_result"
    }
   ],
   "source": [
    "idx = 10\n",
    "\n",
    "landmark_df = pd.read_parquet(df.loc[idx].path)\n",
    "landmark_df"
   ]
  },
  {
   "cell_type": "code",
   "execution_count": 211,
   "id": "c280f269",
   "metadata": {},
   "outputs": [
    {
     "name": "stdout",
     "output_type": "stream",
     "text": [
      "Number of frames:  33\n"
     ]
    }
   ],
   "source": [
    "print(\"Number of frames: \", int(len(landmark_df)/NUM_JOINTS))"
   ]
  },
  {
   "cell_type": "code",
   "execution_count": 57,
   "id": "afe6c186",
   "metadata": {},
   "outputs": [
    {
     "data": {
      "text/html": [
       "<div>\n",
       "<style scoped>\n",
       "    .dataframe tbody tr th:only-of-type {\n",
       "        vertical-align: middle;\n",
       "    }\n",
       "\n",
       "    .dataframe tbody tr th {\n",
       "        vertical-align: top;\n",
       "    }\n",
       "\n",
       "    .dataframe thead th {\n",
       "        text-align: right;\n",
       "    }\n",
       "</style>\n",
       "<table border=\"1\" class=\"dataframe\">\n",
       "  <thead>\n",
       "    <tr style=\"text-align: right;\">\n",
       "      <th></th>\n",
       "      <th>frame</th>\n",
       "      <th>row_id</th>\n",
       "      <th>type</th>\n",
       "      <th>landmark_index</th>\n",
       "      <th>x</th>\n",
       "      <th>y</th>\n",
       "      <th>z</th>\n",
       "    </tr>\n",
       "  </thead>\n",
       "  <tbody>\n",
       "    <tr>\n",
       "      <th>0</th>\n",
       "      <td>20</td>\n",
       "      <td>20-face-0</td>\n",
       "      <td>face</td>\n",
       "      <td>0</td>\n",
       "      <td>0.494400</td>\n",
       "      <td>0.380470</td>\n",
       "      <td>-0.030626</td>\n",
       "    </tr>\n",
       "    <tr>\n",
       "      <th>1</th>\n",
       "      <td>20</td>\n",
       "      <td>20-face-1</td>\n",
       "      <td>face</td>\n",
       "      <td>1</td>\n",
       "      <td>0.496017</td>\n",
       "      <td>0.350735</td>\n",
       "      <td>-0.057565</td>\n",
       "    </tr>\n",
       "    <tr>\n",
       "      <th>2</th>\n",
       "      <td>20</td>\n",
       "      <td>20-face-2</td>\n",
       "      <td>face</td>\n",
       "      <td>2</td>\n",
       "      <td>0.500818</td>\n",
       "      <td>0.359343</td>\n",
       "      <td>-0.030283</td>\n",
       "    </tr>\n",
       "    <tr>\n",
       "      <th>3</th>\n",
       "      <td>20</td>\n",
       "      <td>20-face-3</td>\n",
       "      <td>face</td>\n",
       "      <td>3</td>\n",
       "      <td>0.489788</td>\n",
       "      <td>0.321780</td>\n",
       "      <td>-0.040622</td>\n",
       "    </tr>\n",
       "    <tr>\n",
       "      <th>4</th>\n",
       "      <td>20</td>\n",
       "      <td>20-face-4</td>\n",
       "      <td>face</td>\n",
       "      <td>4</td>\n",
       "      <td>0.495304</td>\n",
       "      <td>0.341821</td>\n",
       "      <td>-0.061152</td>\n",
       "    </tr>\n",
       "  </tbody>\n",
       "</table>\n",
       "</div>"
      ],
      "text/plain": [
       "   frame     row_id  type  landmark_index         x         y         z\n",
       "0     20  20-face-0  face               0  0.494400  0.380470 -0.030626\n",
       "1     20  20-face-1  face               1  0.496017  0.350735 -0.057565\n",
       "2     20  20-face-2  face               2  0.500818  0.359343 -0.030283\n",
       "3     20  20-face-3  face               3  0.489788  0.321780 -0.040622\n",
       "4     20  20-face-4  face               4  0.495304  0.341821 -0.061152"
      ]
     },
     "execution_count": 57,
     "metadata": {},
     "output_type": "execute_result"
    }
   ],
   "source": [
    "f_0 = landmark_df.loc[landmark_df.frame == 20]\n",
    "f_0.head()"
   ]
  },
  {
   "cell_type": "code",
   "execution_count": 59,
   "id": "d5317f19",
   "metadata": {},
   "outputs": [
    {
     "data": {
      "text/plain": [
       "{'face', 'left_hand', 'pose', 'right_hand'}"
      ]
     },
     "execution_count": 59,
     "metadata": {},
     "output_type": "execute_result"
    }
   ],
   "source": [
    "set(f_0.type.values)"
   ]
  },
  {
   "cell_type": "code",
   "execution_count": 153,
   "id": "a5f68f30",
   "metadata": {},
   "outputs": [],
   "source": [
    "f0_face = f_0.loc[f_0.type == \"face\"][[\"x\", \"y\", \"z\"]].values\n",
    "f0_pose = f_0.loc[f_0.type == \"pose\"][[\"x\", \"y\", \"z\"]].values[:-8]\n",
    "f0_rh = f_0.loc[f_0.type == \"right_hand\"][[\"x\", \"y\", \"z\"]].values\n",
    "f0_lh = f_0.loc[f_0.type == \"left_hand\"][[\"x\", \"y\", \"z\"]].values"
   ]
  },
  {
   "cell_type": "code",
   "execution_count": null,
   "id": "80e22640",
   "metadata": {},
   "outputs": [],
   "source": []
  },
  {
   "cell_type": "code",
   "execution_count": null,
   "id": "9fed3727",
   "metadata": {},
   "outputs": [],
   "source": []
  },
  {
   "cell_type": "code",
   "execution_count": 206,
   "id": "fafe56da",
   "metadata": {},
   "outputs": [],
   "source": [
    "def points_to_gaussian_heatmap(centers, height, width, scale):\n",
    "    gaussians = []\n",
    "    for x,y in centers:\n",
    "        s = np.eye(2)*scale\n",
    "        \n",
    "        if not (np.isnan(x) and np.isnan(y)):\n",
    "            # unnormalize centers\n",
    "            x = min(math.floor(x * width), width - 1)\n",
    "            y = min(math.floor(y * height), height - 1)\n",
    "\n",
    "            g = multivariate_normal(mean=(x,y), cov=s)\n",
    "            gaussians.append(g)\n",
    "\n",
    "    # create a grid of (x,y) coordinates at which to evaluate the kernels\n",
    "    x = np.arange(0, width)\n",
    "    y = np.arange(0, height)\n",
    "    xx, yy = np.meshgrid(x,y)\n",
    "    xxyy = np.stack([xx.ravel(), yy.ravel()]).T\n",
    "    \n",
    "    # evaluate kernels at grid points\n",
    "    zz = sum(g.pdf(xxyy) for g in gaussians)\n",
    "    \n",
    "    if len(gaussians) !=0:\n",
    "        img = zz.reshape((height,width))\n",
    "    else:\n",
    "        img = np.zeros(shape=(height, width))\n",
    "\n",
    "    return img\n",
    "\n",
    "W = 128  # width of heatmap\n",
    "H = 128  # height of heatmap\n",
    "SCALE = 0.8  # increase scale to make larger gaussians"
   ]
  },
  {
   "cell_type": "code",
   "execution_count": 212,
   "id": "52edf3b5",
   "metadata": {},
   "outputs": [
    {
     "name": "stderr",
     "output_type": "stream",
     "text": [
      "100%|██████████████████████████████████████████████████████████████████████████████████████████████████████████████████████████████████████████████████████████| 33/33 [00:12<00:00,  2.56it/s]\n"
     ]
    }
   ],
   "source": [
    "frames = landmark_df.frame.unique()\n",
    "\n",
    "# faces, poses, rhs, lhs = [],[],[],[]\n",
    "humans = []\n",
    "\n",
    "for frame in tqdm(frames):\n",
    "    # Get the frame and associated parts\n",
    "    f = landmark_df.loc[landmark_df.frame == frame]\n",
    "    face = f.loc[f.type == \"face\"][[\"x\", \"y\", \"z\"]].values\n",
    "    pose = f.loc[f.type == \"pose\"][[\"x\", \"y\", \"z\"]].values[:-8]\n",
    "    rh = f.loc[f.type == \"right_hand\"][[\"x\", \"y\", \"z\"]].values\n",
    "    lh = f.loc[f.type == \"left_hand\"][[\"x\", \"y\", \"z\"]].values\n",
    "    \n",
    "    human = np.concatenate([face, pose, rh, lh], axis=0)\n",
    "    \n",
    "#     face_img = points_to_gaussian_heatmap(face[:,:2], H, W, SCALE)\n",
    "#     pose_img = points_to_gaussian_heatmap(pose[:,:2], H, W, SCALE)\n",
    "#     rh_img = points_to_gaussian_heatmap(rh[:,:2], H, W, SCALE)\n",
    "#     lh_img = points_to_gaussian_heatmap(lh[:,:2], H, W, SCALE)\n",
    "    \n",
    "    img = points_to_gaussian_heatmap(human[:,:2], H, W, SCALE)\n",
    "    \n",
    "#     faces.append(face_img)\n",
    "#     poses.append(pose_img)\n",
    "#     rhs.append(rh_img)\n",
    "#     lhs.append(lh_img)\n",
    "    \n",
    "    humans.append(img)"
   ]
  },
  {
   "cell_type": "code",
   "execution_count": 213,
   "id": "03c58c1f",
   "metadata": {},
   "outputs": [
    {
     "data": {
      "image/png": "[encoded data removed]",
      "text/plain": [
       "<Figure size 640x480 with 1 Axes>"
      ]
     },
     "metadata": {},
     "output_type": "display_data"
    }
   ],
   "source": [
    "plt.imshow(img); plt.show()"
   ]
  },
  {
   "cell_type": "code",
   "execution_count": 214,
   "id": "c40a4ef8",
   "metadata": {},
   "outputs": [
    {
     "name": "stderr",
     "output_type": "stream",
     "text": [
      "MovieWriter imagemagick unavailable; using Pillow instead.\n"
     ]
    }
   ],
   "source": [
    "fig, ax = plt.subplots(figsize=(5, 8))\n",
    "\n",
    "def update(i):\n",
    "    im_normed = humans[i]\n",
    "    ax.imshow(im_normed)\n",
    "    ax.set_title(f\"human_{i}\", fontsize=20)\n",
    "    ax.set_axis_off()\n",
    "\n",
    "\n",
    "anim = FuncAnimation(fig, update, frames=np.arange(0, len(frames)), interval=10)\n",
    "anim.save('human.gif', dpi=80, writer='imagemagick')\n",
    "plt.close()"
   ]
  },
  {
   "cell_type": "code",
   "execution_count": 159,
   "id": "c579a878",
   "metadata": {},
   "outputs": [],
   "source": [
    "# pose_x = f0_pose[:,:1]\n",
    "# pose_y = f0_pose[:,1:2]\n",
    "\n",
    "# pose_x = (pose_x-np.min(pose_x))/(np.max(pose_x)-np.min(pose_x))\n",
    "# pose_y = (pose_y-np.min(pose_y))/(np.max(pose_y)-np.min(pose_y))\n",
    "\n",
    "# pose = np.squeeze(np.array(list(zip(pose_x, pose_y))), axis=-1)"
   ]
  },
  {
   "cell_type": "code",
   "execution_count": 158,
   "id": "1fc7fa35",
   "metadata": {},
   "outputs": [
    {
     "data": {
      "image/png": "[encoded data removed]",
      "text/plain": [
       "<Figure size 640x480 with 1 Axes>"
      ]
     },
     "metadata": {},
     "output_type": "display_data"
    }
   ],
   "source": [
    "img = points_to_gaussian_heatmap(f0_pose[:,:2], H, W, SCALE)\n",
    "\n",
    "plt.imshow(img); plt.show()"
   ]
  },
  {
   "cell_type": "code",
   "execution_count": 143,
   "id": "f3a306d4",
   "metadata": {},
   "outputs": [
    {
     "data": {
      "image/png": "[encoded data removed]",
      "text/plain": [
       "<Figure size 640x480 with 1 Axes>"
      ]
     },
     "metadata": {},
     "output_type": "display_data"
    }
   ],
   "source": [
    "img = points_to_gaussian_heatmap(f0_face[:,:2], H, W, SCALE)\n",
    "\n",
    "plt.imshow(img); plt.show()"
   ]
  },
  {
   "cell_type": "code",
   "execution_count": 144,
   "id": "175c41d4",
   "metadata": {},
   "outputs": [
    {
     "data": {
      "image/png": "[encoded data removed]",
      "text/plain": [
       "<Figure size 640x480 with 1 Axes>"
      ]
     },
     "metadata": {},
     "output_type": "display_data"
    }
   ],
   "source": [
    "img = points_to_gaussian_heatmap(f0_rh[:,:2], H, W, SCALE)\n",
    "\n",
    "plt.imshow(img); plt.show()"
   ]
  },
  {
   "cell_type": "code",
   "execution_count": 145,
   "id": "609137a6",
   "metadata": {},
   "outputs": [
    {
     "data": {
      "image/png": "[encoded data removed]",
      "text/plain": [
       "<Figure size 640x480 with 1 Axes>"
      ]
     },
     "metadata": {},
     "output_type": "display_data"
    }
   ],
   "source": [
    "img = points_to_gaussian_heatmap(f0_lh[:,:2], H, W, SCALE)\n",
    "\n",
    "plt.imshow(img); plt.show()"
   ]
  },
  {
   "cell_type": "code",
   "execution_count": null,
   "id": "0f244734",
   "metadata": {},
   "outputs": [],
   "source": []
  },
  {
   "cell_type": "code",
   "execution_count": null,
   "id": "4d5df52e",
   "metadata": {},
   "outputs": [],
   "source": []
  },
  {
   "cell_type": "code",
   "execution_count": null,
   "id": "e1e275f2",
   "metadata": {},
   "outputs": [],
   "source": []
  },
  {
   "cell_type": "code",
   "execution_count": null,
   "id": "8038aaf7",
   "metadata": {},
   "outputs": [],
   "source": []
  },
  {
   "cell_type": "code",
   "execution_count": null,
   "id": "a1366705",
   "metadata": {},
   "outputs": [],
   "source": []
  },
  {
   "cell_type": "code",
   "execution_count": null,
   "id": "01aa18ad",
   "metadata": {},
   "outputs": [],
   "source": []
  },
  {
   "cell_type": "code",
   "execution_count": null,
   "id": "87caa167",
   "metadata": {},
   "outputs": [],
   "source": []
  },
  {
   "cell_type": "code",
   "execution_count": null,
   "id": "a5fb3fdc",
   "metadata": {},
   "outputs": [],
   "source": []
  },
  {
   "cell_type": "code",
   "execution_count": null,
   "id": "c136f23f",
   "metadata": {},
   "outputs": [],
   "source": []
  },
  {
   "cell_type": "code",
   "execution_count": null,
   "id": "8ecaaaba",
   "metadata": {},
   "outputs": [],
   "source": []
  },
  {
   "cell_type": "code",
   "execution_count": null,
   "id": "e3e63ef8",
   "metadata": {},
   "outputs": [],
   "source": []
  },
  {
   "cell_type": "code",
   "execution_count": null,
   "id": "65a06eec",
   "metadata": {},
   "outputs": [],
   "source": []
  },
  {
   "cell_type": "code",
   "execution_count": null,
   "id": "f9f3d08d",
   "metadata": {},
   "outputs": [],
   "source": []
  },
  {
   "cell_type": "code",
   "execution_count": null,
   "id": "694bb795",
   "metadata": {},
   "outputs": [],
   "source": []
  },
  {
   "cell_type": "code",
   "execution_count": null,
   "id": "5df3ba20",
   "metadata": {},
   "outputs": [],
   "source": []
  },
  {
   "cell_type": "code",
   "execution_count": null,
   "id": "f829b0a1",
   "metadata": {},
   "outputs": [],
   "source": []
  },
  {
   "cell_type": "code",
   "execution_count": null,
   "id": "07bf3934",
   "metadata": {},
   "outputs": [],
   "source": []
  },
  {
   "cell_type": "code",
   "execution_count": null,
   "id": "a9f48cd5",
   "metadata": {},
   "outputs": [],
   "source": []
  }
 ],
 "metadata": {
  "kernelspec": {
   "display_name": "Python 3",
   "language": "python",
   "name": "python3"
  },
  "language_info": {
   "codemirror_mode": {
    "name": "ipython",
    "version": 3
   },
   "file_extension": ".py",
   "mimetype": "text/x-python",
   "name": "python",
   "nbconvert_exporter": "python",
   "pygments_lexer": "ipython3",
   "version": "3.7.12"
  }
 },
 "nbformat": 4,
 "nbformat_minor": 5
}
