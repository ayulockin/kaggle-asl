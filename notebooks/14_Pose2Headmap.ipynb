{
 "cells": [
  {
   "cell_type": "code",
   "execution_count": 4,
   "id": "1063dd23",
   "metadata": {},
   "outputs": [],
   "source": [
    "import numpy as np\n",
    "import pandas as pd\n",
    "from glob import glob\n",
    "from tqdm import tqdm\n",
    "import matplotlib.pyplot as plt\n",
    "\n",
    "# heatmap\n",
    "import math\n",
    "from scipy.stats import multivariate_normal\n",
    "\n",
    "# animation\n",
    "from matplotlib.animation import FuncAnimation"
   ]
  },
  {
   "cell_type": "code",
   "execution_count": 5,
   "id": "8466b404",
   "metadata": {},
   "outputs": [
    {
     "data": {
      "text/html": [
       "<div>\n",
       "<style scoped>\n",
       "    .dataframe tbody tr th:only-of-type {\n",
       "        vertical-align: middle;\n",
       "    }\n",
       "\n",
       "    .dataframe tbody tr th {\n",
       "        vertical-align: top;\n",
       "    }\n",
       "\n",
       "    .dataframe thead th {\n",
       "        text-align: right;\n",
       "    }\n",
       "</style>\n",
       "<table border=\"1\" class=\"dataframe\">\n",
       "  <thead>\n",
       "    <tr style=\"text-align: right;\">\n",
       "      <th></th>\n",
       "      <th>path</th>\n",
       "      <th>participant_id</th>\n",
       "      <th>sequence_id</th>\n",
       "      <th>sign</th>\n",
       "    </tr>\n",
       "  </thead>\n",
       "  <tbody>\n",
       "    <tr>\n",
       "      <th>0</th>\n",
       "      <td>../data/train_landmark_files/26734/1000035562....</td>\n",
       "      <td>26734</td>\n",
       "      <td>1000035562</td>\n",
       "      <td>blow</td>\n",
       "    </tr>\n",
       "    <tr>\n",
       "      <th>1</th>\n",
       "      <td>../data/train_landmark_files/28656/1000106739....</td>\n",
       "      <td>28656</td>\n",
       "      <td>1000106739</td>\n",
       "      <td>wait</td>\n",
       "    </tr>\n",
       "    <tr>\n",
       "      <th>2</th>\n",
       "      <td>../data/train_landmark_files/16069/100015657.p...</td>\n",
       "      <td>16069</td>\n",
       "      <td>100015657</td>\n",
       "      <td>cloud</td>\n",
       "    </tr>\n",
       "    <tr>\n",
       "      <th>3</th>\n",
       "      <td>../data/train_landmark_files/25571/1000210073....</td>\n",
       "      <td>25571</td>\n",
       "      <td>1000210073</td>\n",
       "      <td>bird</td>\n",
       "    </tr>\n",
       "    <tr>\n",
       "      <th>4</th>\n",
       "      <td>../data/train_landmark_files/62590/1000240708....</td>\n",
       "      <td>62590</td>\n",
       "      <td>1000240708</td>\n",
       "      <td>owie</td>\n",
       "    </tr>\n",
       "  </tbody>\n",
       "</table>\n",
       "</div>"
      ],
      "text/plain": [
       "                                                path  participant_id  \\\n",
       "0  ../data/train_landmark_files/26734/1000035562....           26734   \n",
       "1  ../data/train_landmark_files/28656/1000106739....           28656   \n",
       "2  ../data/train_landmark_files/16069/100015657.p...           16069   \n",
       "3  ../data/train_landmark_files/25571/1000210073....           25571   \n",
       "4  ../data/train_landmark_files/62590/1000240708....           62590   \n",
       "\n",
       "   sequence_id   sign  \n",
       "0   1000035562   blow  \n",
       "1   1000106739   wait  \n",
       "2    100015657  cloud  \n",
       "3   1000210073   bird  \n",
       "4   1000240708   owie  "
      ]
     },
     "execution_count": 5,
     "metadata": {},
     "output_type": "execute_result"
    }
   ],
   "source": [
    "# train.csv file\n",
    "df = pd.read_csv(f\"../data/train.csv\")\n",
    "df[\"path\"] = df[\"path\"].apply(lambda row: f\"../data/{row}\")\n",
    "df.head()"
   ]
  },
  {
   "cell_type": "code",
   "execution_count": 6,
   "id": "756c031d",
   "metadata": {},
   "outputs": [
    {
     "data": {
      "text/plain": [
       "94477"
      ]
     },
     "execution_count": 6,
     "metadata": {},
     "output_type": "execute_result"
    }
   ],
   "source": [
    "len(df)"
   ]
  },
  {
   "cell_type": "code",
   "execution_count": 7,
   "id": "e5264351",
   "metadata": {},
   "outputs": [],
   "source": [
    "NUM_JOINTS = 543\n",
    "\n",
    "LIP = [\n",
    "    61, 185, 40, 39, 37, 0, 267, 269, 270, 409,\n",
    "    291, 146, 91, 181, 84, 17, 314, 405, 321, 375,\n",
    "    78, 191, 80, 81, 82, 13, 312, 311, 310, 415,\n",
    "    95, 88, 178, 87, 14, 317, 402, 318, 324, 308,\n",
    "]\n",
    "\n",
    "RIGHT_EYE = [\n",
    "    246, 161, 160, 159, 158, 157, 173,\n",
    "    33, 7, 163, 144, 145, 153, 154, 155, 133,\n",
    "    247, 30, 29, 27, 28, 56, 190,\n",
    "    130, 25, 110, 24, 23, 22, 26, 112, 243,\n",
    "    113, 225, 224, 223, 222, 221, 189,\n",
    "    226, 31, 228, 229, 230, 231, 232, 233, 244,\n",
    "    143, 111, 117, 118, 119, 120, 121, 128, 245,\n",
    "]\n",
    "\n",
    "LEFT_EYE = [\n",
    "    466, 387, 386, 385, 384, 398,\n",
    "    263, 249, 390, 373, 374, 380, 381, 382, 362,\n",
    "    467, 260, 259, 257, 258, 286, 414,\n",
    "    359, 255, 339, 254, 253, 252, 256, 341, 463,\n",
    "    342, 445, 444, 443, 442, 441, 413,\n",
    "    446, 261, 448, 449, 450, 451, 452, 453, 464,\n",
    "    372, 340, 346, 347, 348, 349, 350, 357, 465,\n",
    "]\n",
    "\n",
    "LEFT_HAND = [\n",
    "    468, 469, 470, 471, 472, 473, 474, 475,\n",
    "    476, 477, 478, 479, 480, 481, 482, 483,\n",
    "    484, 485, 486, 487, 488\n",
    "]\n",
    "\n",
    "RIGHT_HAND = [\n",
    "    522, 523, 524, 525, 526, 527, 528, 529,\n",
    "    530, 531, 532, 533, 534, 535, 536, 537,\n",
    "    538, 539, 540, 541, 542\n",
    "]\n",
    "\n",
    "POSE = [\n",
    "    489, 490, 491, 492, 493, 494, 495, 496, 497,\n",
    "    498, 499, 500, 501, 502, 503, 504, 505, 506,\n",
    "    507, 508, 509, 510, 511, 512, 513, 514, 515,\n",
    "    516, 517, 518, 519, 520, 521\n",
    "]"
   ]
  },
  {
   "cell_type": "code",
   "execution_count": 8,
   "id": "bc5cbb4a",
   "metadata": {},
   "outputs": [
    {
     "data": {
      "text/html": [
       "<div>\n",
       "<style scoped>\n",
       "    .dataframe tbody tr th:only-of-type {\n",
       "        vertical-align: middle;\n",
       "    }\n",
       "\n",
       "    .dataframe tbody tr th {\n",
       "        vertical-align: top;\n",
       "    }\n",
       "\n",
       "    .dataframe thead th {\n",
       "        text-align: right;\n",
       "    }\n",
       "</style>\n",
       "<table border=\"1\" class=\"dataframe\">\n",
       "  <thead>\n",
       "    <tr style=\"text-align: right;\">\n",
       "      <th></th>\n",
       "      <th>frame</th>\n",
       "      <th>row_id</th>\n",
       "      <th>type</th>\n",
       "      <th>landmark_index</th>\n",
       "      <th>x</th>\n",
       "      <th>y</th>\n",
       "      <th>z</th>\n",
       "    </tr>\n",
       "  </thead>\n",
       "  <tbody>\n",
       "    <tr>\n",
       "      <th>0</th>\n",
       "      <td>0</td>\n",
       "      <td>0-face-0</td>\n",
       "      <td>face</td>\n",
       "      <td>0</td>\n",
       "      <td>0.425013</td>\n",
       "      <td>0.384484</td>\n",
       "      <td>-0.039359</td>\n",
       "    </tr>\n",
       "    <tr>\n",
       "      <th>1</th>\n",
       "      <td>0</td>\n",
       "      <td>0-face-1</td>\n",
       "      <td>face</td>\n",
       "      <td>1</td>\n",
       "      <td>0.414999</td>\n",
       "      <td>0.334925</td>\n",
       "      <td>-0.078130</td>\n",
       "    </tr>\n",
       "    <tr>\n",
       "      <th>2</th>\n",
       "      <td>0</td>\n",
       "      <td>0-face-2</td>\n",
       "      <td>face</td>\n",
       "      <td>2</td>\n",
       "      <td>0.419444</td>\n",
       "      <td>0.345982</td>\n",
       "      <td>-0.039070</td>\n",
       "    </tr>\n",
       "    <tr>\n",
       "      <th>3</th>\n",
       "      <td>0</td>\n",
       "      <td>0-face-3</td>\n",
       "      <td>face</td>\n",
       "      <td>3</td>\n",
       "      <td>0.397874</td>\n",
       "      <td>0.295141</td>\n",
       "      <td>-0.059470</td>\n",
       "    </tr>\n",
       "    <tr>\n",
       "      <th>4</th>\n",
       "      <td>0</td>\n",
       "      <td>0-face-4</td>\n",
       "      <td>face</td>\n",
       "      <td>4</td>\n",
       "      <td>0.412729</td>\n",
       "      <td>0.323081</td>\n",
       "      <td>-0.083896</td>\n",
       "    </tr>\n",
       "    <tr>\n",
       "      <th>...</th>\n",
       "      <td>...</td>\n",
       "      <td>...</td>\n",
       "      <td>...</td>\n",
       "      <td>...</td>\n",
       "      <td>...</td>\n",
       "      <td>...</td>\n",
       "      <td>...</td>\n",
       "    </tr>\n",
       "    <tr>\n",
       "      <th>32032</th>\n",
       "      <td>58</td>\n",
       "      <td>58-right_hand-16</td>\n",
       "      <td>right_hand</td>\n",
       "      <td>16</td>\n",
       "      <td>NaN</td>\n",
       "      <td>NaN</td>\n",
       "      <td>NaN</td>\n",
       "    </tr>\n",
       "    <tr>\n",
       "      <th>32033</th>\n",
       "      <td>58</td>\n",
       "      <td>58-right_hand-17</td>\n",
       "      <td>right_hand</td>\n",
       "      <td>17</td>\n",
       "      <td>NaN</td>\n",
       "      <td>NaN</td>\n",
       "      <td>NaN</td>\n",
       "    </tr>\n",
       "    <tr>\n",
       "      <th>32034</th>\n",
       "      <td>58</td>\n",
       "      <td>58-right_hand-18</td>\n",
       "      <td>right_hand</td>\n",
       "      <td>18</td>\n",
       "      <td>NaN</td>\n",
       "      <td>NaN</td>\n",
       "      <td>NaN</td>\n",
       "    </tr>\n",
       "    <tr>\n",
       "      <th>32035</th>\n",
       "      <td>58</td>\n",
       "      <td>58-right_hand-19</td>\n",
       "      <td>right_hand</td>\n",
       "      <td>19</td>\n",
       "      <td>NaN</td>\n",
       "      <td>NaN</td>\n",
       "      <td>NaN</td>\n",
       "    </tr>\n",
       "    <tr>\n",
       "      <th>32036</th>\n",
       "      <td>58</td>\n",
       "      <td>58-right_hand-20</td>\n",
       "      <td>right_hand</td>\n",
       "      <td>20</td>\n",
       "      <td>NaN</td>\n",
       "      <td>NaN</td>\n",
       "      <td>NaN</td>\n",
       "    </tr>\n",
       "  </tbody>\n",
       "</table>\n",
       "<p>32037 rows × 7 columns</p>\n",
       "</div>"
      ],
      "text/plain": [
       "       frame            row_id        type  landmark_index         x  \\\n",
       "0          0          0-face-0        face               0  0.425013   \n",
       "1          0          0-face-1        face               1  0.414999   \n",
       "2          0          0-face-2        face               2  0.419444   \n",
       "3          0          0-face-3        face               3  0.397874   \n",
       "4          0          0-face-4        face               4  0.412729   \n",
       "...      ...               ...         ...             ...       ...   \n",
       "32032     58  58-right_hand-16  right_hand              16       NaN   \n",
       "32033     58  58-right_hand-17  right_hand              17       NaN   \n",
       "32034     58  58-right_hand-18  right_hand              18       NaN   \n",
       "32035     58  58-right_hand-19  right_hand              19       NaN   \n",
       "32036     58  58-right_hand-20  right_hand              20       NaN   \n",
       "\n",
       "              y         z  \n",
       "0      0.384484 -0.039359  \n",
       "1      0.334925 -0.078130  \n",
       "2      0.345982 -0.039070  \n",
       "3      0.295141 -0.059470  \n",
       "4      0.323081 -0.083896  \n",
       "...         ...       ...  \n",
       "32032       NaN       NaN  \n",
       "32033       NaN       NaN  \n",
       "32034       NaN       NaN  \n",
       "32035       NaN       NaN  \n",
       "32036       NaN       NaN  \n",
       "\n",
       "[32037 rows x 7 columns]"
      ]
     },
     "execution_count": 8,
     "metadata": {},
     "output_type": "execute_result"
    }
   ],
   "source": [
    "idx = 100\n",
    "\n",
    "landmark_df = pd.read_parquet(df.loc[idx].path)\n",
    "landmark_df"
   ]
  },
  {
   "cell_type": "code",
   "execution_count": 9,
   "id": "402a6812",
   "metadata": {},
   "outputs": [
    {
     "data": {
      "text/html": [
       "<div>\n",
       "<style scoped>\n",
       "    .dataframe tbody tr th:only-of-type {\n",
       "        vertical-align: middle;\n",
       "    }\n",
       "\n",
       "    .dataframe tbody tr th {\n",
       "        vertical-align: top;\n",
       "    }\n",
       "\n",
       "    .dataframe thead th {\n",
       "        text-align: right;\n",
       "    }\n",
       "</style>\n",
       "<table border=\"1\" class=\"dataframe\">\n",
       "  <thead>\n",
       "    <tr style=\"text-align: right;\">\n",
       "      <th></th>\n",
       "      <th>frame</th>\n",
       "      <th>row_id</th>\n",
       "      <th>type</th>\n",
       "      <th>landmark_index</th>\n",
       "      <th>x</th>\n",
       "      <th>y</th>\n",
       "      <th>z</th>\n",
       "    </tr>\n",
       "  </thead>\n",
       "  <tbody>\n",
       "    <tr>\n",
       "      <th>489</th>\n",
       "      <td>0</td>\n",
       "      <td>0-pose-0</td>\n",
       "      <td>pose</td>\n",
       "      <td>0</td>\n",
       "      <td>0.427018</td>\n",
       "      <td>0.319976</td>\n",
       "      <td>-1.125882</td>\n",
       "    </tr>\n",
       "    <tr>\n",
       "      <th>490</th>\n",
       "      <td>0</td>\n",
       "      <td>0-pose-1</td>\n",
       "      <td>pose</td>\n",
       "      <td>1</td>\n",
       "      <td>0.468264</td>\n",
       "      <td>0.262829</td>\n",
       "      <td>-1.069302</td>\n",
       "    </tr>\n",
       "    <tr>\n",
       "      <th>491</th>\n",
       "      <td>0</td>\n",
       "      <td>0-pose-2</td>\n",
       "      <td>pose</td>\n",
       "      <td>2</td>\n",
       "      <td>0.499326</td>\n",
       "      <td>0.261374</td>\n",
       "      <td>-1.069536</td>\n",
       "    </tr>\n",
       "    <tr>\n",
       "      <th>492</th>\n",
       "      <td>0</td>\n",
       "      <td>0-pose-3</td>\n",
       "      <td>pose</td>\n",
       "      <td>3</td>\n",
       "      <td>0.523989</td>\n",
       "      <td>0.261058</td>\n",
       "      <td>-1.069469</td>\n",
       "    </tr>\n",
       "    <tr>\n",
       "      <th>493</th>\n",
       "      <td>0</td>\n",
       "      <td>0-pose-4</td>\n",
       "      <td>pose</td>\n",
       "      <td>4</td>\n",
       "      <td>0.372725</td>\n",
       "      <td>0.268568</td>\n",
       "      <td>-1.046240</td>\n",
       "    </tr>\n",
       "    <tr>\n",
       "      <th>494</th>\n",
       "      <td>0</td>\n",
       "      <td>0-pose-5</td>\n",
       "      <td>pose</td>\n",
       "      <td>5</td>\n",
       "      <td>0.346510</td>\n",
       "      <td>0.270600</td>\n",
       "      <td>-1.045546</td>\n",
       "    </tr>\n",
       "    <tr>\n",
       "      <th>495</th>\n",
       "      <td>0</td>\n",
       "      <td>0-pose-6</td>\n",
       "      <td>pose</td>\n",
       "      <td>6</td>\n",
       "      <td>0.325438</td>\n",
       "      <td>0.272631</td>\n",
       "      <td>-1.046191</td>\n",
       "    </tr>\n",
       "    <tr>\n",
       "      <th>496</th>\n",
       "      <td>0</td>\n",
       "      <td>0-pose-7</td>\n",
       "      <td>pose</td>\n",
       "      <td>7</td>\n",
       "      <td>0.565692</td>\n",
       "      <td>0.281926</td>\n",
       "      <td>-0.626231</td>\n",
       "    </tr>\n",
       "    <tr>\n",
       "      <th>497</th>\n",
       "      <td>0</td>\n",
       "      <td>0-pose-8</td>\n",
       "      <td>pose</td>\n",
       "      <td>8</td>\n",
       "      <td>0.306976</td>\n",
       "      <td>0.294595</td>\n",
       "      <td>-0.491890</td>\n",
       "    </tr>\n",
       "    <tr>\n",
       "      <th>498</th>\n",
       "      <td>0</td>\n",
       "      <td>0-pose-9</td>\n",
       "      <td>pose</td>\n",
       "      <td>9</td>\n",
       "      <td>0.492407</td>\n",
       "      <td>0.376978</td>\n",
       "      <td>-0.956025</td>\n",
       "    </tr>\n",
       "    <tr>\n",
       "      <th>499</th>\n",
       "      <td>0</td>\n",
       "      <td>0-pose-10</td>\n",
       "      <td>pose</td>\n",
       "      <td>10</td>\n",
       "      <td>0.393898</td>\n",
       "      <td>0.387278</td>\n",
       "      <td>-0.919780</td>\n",
       "    </tr>\n",
       "    <tr>\n",
       "      <th>500</th>\n",
       "      <td>0</td>\n",
       "      <td>0-pose-11</td>\n",
       "      <td>pose</td>\n",
       "      <td>11</td>\n",
       "      <td>0.780638</td>\n",
       "      <td>0.568468</td>\n",
       "      <td>-0.412411</td>\n",
       "    </tr>\n",
       "    <tr>\n",
       "      <th>501</th>\n",
       "      <td>0</td>\n",
       "      <td>0-pose-12</td>\n",
       "      <td>pose</td>\n",
       "      <td>12</td>\n",
       "      <td>0.162612</td>\n",
       "      <td>0.571391</td>\n",
       "      <td>-0.171309</td>\n",
       "    </tr>\n",
       "    <tr>\n",
       "      <th>502</th>\n",
       "      <td>0</td>\n",
       "      <td>0-pose-13</td>\n",
       "      <td>pose</td>\n",
       "      <td>13</td>\n",
       "      <td>0.926381</td>\n",
       "      <td>0.872460</td>\n",
       "      <td>-1.036074</td>\n",
       "    </tr>\n",
       "    <tr>\n",
       "      <th>503</th>\n",
       "      <td>0</td>\n",
       "      <td>0-pose-14</td>\n",
       "      <td>pose</td>\n",
       "      <td>14</td>\n",
       "      <td>0.010723</td>\n",
       "      <td>0.859948</td>\n",
       "      <td>-0.343010</td>\n",
       "    </tr>\n",
       "    <tr>\n",
       "      <th>504</th>\n",
       "      <td>0</td>\n",
       "      <td>0-pose-15</td>\n",
       "      <td>pose</td>\n",
       "      <td>15</td>\n",
       "      <td>0.817899</td>\n",
       "      <td>0.729936</td>\n",
       "      <td>-1.881559</td>\n",
       "    </tr>\n",
       "    <tr>\n",
       "      <th>505</th>\n",
       "      <td>0</td>\n",
       "      <td>0-pose-16</td>\n",
       "      <td>pose</td>\n",
       "      <td>16</td>\n",
       "      <td>-0.073633</td>\n",
       "      <td>1.134844</td>\n",
       "      <td>-1.256602</td>\n",
       "    </tr>\n",
       "    <tr>\n",
       "      <th>506</th>\n",
       "      <td>0</td>\n",
       "      <td>0-pose-17</td>\n",
       "      <td>pose</td>\n",
       "      <td>17</td>\n",
       "      <td>0.786940</td>\n",
       "      <td>0.690990</td>\n",
       "      <td>-2.069971</td>\n",
       "    </tr>\n",
       "    <tr>\n",
       "      <th>507</th>\n",
       "      <td>0</td>\n",
       "      <td>0-pose-18</td>\n",
       "      <td>pose</td>\n",
       "      <td>18</td>\n",
       "      <td>-0.118102</td>\n",
       "      <td>1.220686</td>\n",
       "      <td>-1.390205</td>\n",
       "    </tr>\n",
       "    <tr>\n",
       "      <th>508</th>\n",
       "      <td>0</td>\n",
       "      <td>0-pose-19</td>\n",
       "      <td>pose</td>\n",
       "      <td>19</td>\n",
       "      <td>0.755294</td>\n",
       "      <td>0.600385</td>\n",
       "      <td>-1.953097</td>\n",
       "    </tr>\n",
       "    <tr>\n",
       "      <th>509</th>\n",
       "      <td>0</td>\n",
       "      <td>0-pose-20</td>\n",
       "      <td>pose</td>\n",
       "      <td>20</td>\n",
       "      <td>-0.062273</td>\n",
       "      <td>1.193360</td>\n",
       "      <td>-1.492511</td>\n",
       "    </tr>\n",
       "    <tr>\n",
       "      <th>510</th>\n",
       "      <td>0</td>\n",
       "      <td>0-pose-21</td>\n",
       "      <td>pose</td>\n",
       "      <td>21</td>\n",
       "      <td>0.759701</td>\n",
       "      <td>0.663546</td>\n",
       "      <td>-1.861712</td>\n",
       "    </tr>\n",
       "    <tr>\n",
       "      <th>511</th>\n",
       "      <td>0</td>\n",
       "      <td>0-pose-22</td>\n",
       "      <td>pose</td>\n",
       "      <td>22</td>\n",
       "      <td>-0.032959</td>\n",
       "      <td>1.165434</td>\n",
       "      <td>-1.328568</td>\n",
       "    </tr>\n",
       "    <tr>\n",
       "      <th>512</th>\n",
       "      <td>0</td>\n",
       "      <td>0-pose-23</td>\n",
       "      <td>pose</td>\n",
       "      <td>23</td>\n",
       "      <td>0.667968</td>\n",
       "      <td>1.178620</td>\n",
       "      <td>-0.158563</td>\n",
       "    </tr>\n",
       "    <tr>\n",
       "      <th>513</th>\n",
       "      <td>0</td>\n",
       "      <td>0-pose-24</td>\n",
       "      <td>pose</td>\n",
       "      <td>24</td>\n",
       "      <td>0.260601</td>\n",
       "      <td>1.186416</td>\n",
       "      <td>0.164851</td>\n",
       "    </tr>\n",
       "    <tr>\n",
       "      <th>514</th>\n",
       "      <td>0</td>\n",
       "      <td>0-pose-25</td>\n",
       "      <td>pose</td>\n",
       "      <td>25</td>\n",
       "      <td>0.695702</td>\n",
       "      <td>1.662022</td>\n",
       "      <td>0.007573</td>\n",
       "    </tr>\n",
       "    <tr>\n",
       "      <th>515</th>\n",
       "      <td>0</td>\n",
       "      <td>0-pose-26</td>\n",
       "      <td>pose</td>\n",
       "      <td>26</td>\n",
       "      <td>0.329921</td>\n",
       "      <td>1.673218</td>\n",
       "      <td>0.690944</td>\n",
       "    </tr>\n",
       "    <tr>\n",
       "      <th>516</th>\n",
       "      <td>0</td>\n",
       "      <td>0-pose-27</td>\n",
       "      <td>pose</td>\n",
       "      <td>27</td>\n",
       "      <td>0.702172</td>\n",
       "      <td>2.084918</td>\n",
       "      <td>0.925928</td>\n",
       "    </tr>\n",
       "    <tr>\n",
       "      <th>517</th>\n",
       "      <td>0</td>\n",
       "      <td>0-pose-28</td>\n",
       "      <td>pose</td>\n",
       "      <td>28</td>\n",
       "      <td>0.346420</td>\n",
       "      <td>2.089496</td>\n",
       "      <td>1.665474</td>\n",
       "    </tr>\n",
       "    <tr>\n",
       "      <th>518</th>\n",
       "      <td>0</td>\n",
       "      <td>0-pose-29</td>\n",
       "      <td>pose</td>\n",
       "      <td>29</td>\n",
       "      <td>0.713779</td>\n",
       "      <td>2.152988</td>\n",
       "      <td>0.980124</td>\n",
       "    </tr>\n",
       "    <tr>\n",
       "      <th>519</th>\n",
       "      <td>0</td>\n",
       "      <td>0-pose-30</td>\n",
       "      <td>pose</td>\n",
       "      <td>30</td>\n",
       "      <td>0.339469</td>\n",
       "      <td>2.160921</td>\n",
       "      <td>1.753129</td>\n",
       "    </tr>\n",
       "    <tr>\n",
       "      <th>520</th>\n",
       "      <td>0</td>\n",
       "      <td>0-pose-31</td>\n",
       "      <td>pose</td>\n",
       "      <td>31</td>\n",
       "      <td>0.642461</td>\n",
       "      <td>2.237024</td>\n",
       "      <td>0.232519</td>\n",
       "    </tr>\n",
       "    <tr>\n",
       "      <th>521</th>\n",
       "      <td>0</td>\n",
       "      <td>0-pose-32</td>\n",
       "      <td>pose</td>\n",
       "      <td>32</td>\n",
       "      <td>0.406361</td>\n",
       "      <td>2.233738</td>\n",
       "      <td>0.987572</td>\n",
       "    </tr>\n",
       "  </tbody>\n",
       "</table>\n",
       "</div>"
      ],
      "text/plain": [
       "     frame     row_id  type  landmark_index         x         y         z\n",
       "489      0   0-pose-0  pose               0  0.427018  0.319976 -1.125882\n",
       "490      0   0-pose-1  pose               1  0.468264  0.262829 -1.069302\n",
       "491      0   0-pose-2  pose               2  0.499326  0.261374 -1.069536\n",
       "492      0   0-pose-3  pose               3  0.523989  0.261058 -1.069469\n",
       "493      0   0-pose-4  pose               4  0.372725  0.268568 -1.046240\n",
       "494      0   0-pose-5  pose               5  0.346510  0.270600 -1.045546\n",
       "495      0   0-pose-6  pose               6  0.325438  0.272631 -1.046191\n",
       "496      0   0-pose-7  pose               7  0.565692  0.281926 -0.626231\n",
       "497      0   0-pose-8  pose               8  0.306976  0.294595 -0.491890\n",
       "498      0   0-pose-9  pose               9  0.492407  0.376978 -0.956025\n",
       "499      0  0-pose-10  pose              10  0.393898  0.387278 -0.919780\n",
       "500      0  0-pose-11  pose              11  0.780638  0.568468 -0.412411\n",
       "501      0  0-pose-12  pose              12  0.162612  0.571391 -0.171309\n",
       "502      0  0-pose-13  pose              13  0.926381  0.872460 -1.036074\n",
       "503      0  0-pose-14  pose              14  0.010723  0.859948 -0.343010\n",
       "504      0  0-pose-15  pose              15  0.817899  0.729936 -1.881559\n",
       "505      0  0-pose-16  pose              16 -0.073633  1.134844 -1.256602\n",
       "506      0  0-pose-17  pose              17  0.786940  0.690990 -2.069971\n",
       "507      0  0-pose-18  pose              18 -0.118102  1.220686 -1.390205\n",
       "508      0  0-pose-19  pose              19  0.755294  0.600385 -1.953097\n",
       "509      0  0-pose-20  pose              20 -0.062273  1.193360 -1.492511\n",
       "510      0  0-pose-21  pose              21  0.759701  0.663546 -1.861712\n",
       "511      0  0-pose-22  pose              22 -0.032959  1.165434 -1.328568\n",
       "512      0  0-pose-23  pose              23  0.667968  1.178620 -0.158563\n",
       "513      0  0-pose-24  pose              24  0.260601  1.186416  0.164851\n",
       "514      0  0-pose-25  pose              25  0.695702  1.662022  0.007573\n",
       "515      0  0-pose-26  pose              26  0.329921  1.673218  0.690944\n",
       "516      0  0-pose-27  pose              27  0.702172  2.084918  0.925928\n",
       "517      0  0-pose-28  pose              28  0.346420  2.089496  1.665474\n",
       "518      0  0-pose-29  pose              29  0.713779  2.152988  0.980124\n",
       "519      0  0-pose-30  pose              30  0.339469  2.160921  1.753129\n",
       "520      0  0-pose-31  pose              31  0.642461  2.237024  0.232519\n",
       "521      0  0-pose-32  pose              32  0.406361  2.233738  0.987572"
      ]
     },
     "execution_count": 9,
     "metadata": {},
     "output_type": "execute_result"
    }
   ],
   "source": [
    "tmp = landmark_df.loc[landmark_df.frame==0]\n",
    "tmp.loc[tmp.type==\"pose\"]"
   ]
  },
  {
   "cell_type": "code",
   "execution_count": 10,
   "id": "c280f269",
   "metadata": {},
   "outputs": [
    {
     "name": "stdout",
     "output_type": "stream",
     "text": [
      "Number of frames:  59\n"
     ]
    }
   ],
   "source": [
    "print(\"Number of frames: \", int(len(landmark_df)/NUM_JOINTS))"
   ]
  },
  {
   "cell_type": "code",
   "execution_count": 11,
   "id": "afe6c186",
   "metadata": {},
   "outputs": [
    {
     "data": {
      "text/html": [
       "<div>\n",
       "<style scoped>\n",
       "    .dataframe tbody tr th:only-of-type {\n",
       "        vertical-align: middle;\n",
       "    }\n",
       "\n",
       "    .dataframe tbody tr th {\n",
       "        vertical-align: top;\n",
       "    }\n",
       "\n",
       "    .dataframe thead th {\n",
       "        text-align: right;\n",
       "    }\n",
       "</style>\n",
       "<table border=\"1\" class=\"dataframe\">\n",
       "  <thead>\n",
       "    <tr style=\"text-align: right;\">\n",
       "      <th></th>\n",
       "      <th>frame</th>\n",
       "      <th>row_id</th>\n",
       "      <th>type</th>\n",
       "      <th>landmark_index</th>\n",
       "      <th>x</th>\n",
       "      <th>y</th>\n",
       "      <th>z</th>\n",
       "    </tr>\n",
       "  </thead>\n",
       "  <tbody>\n",
       "    <tr>\n",
       "      <th>10860</th>\n",
       "      <td>20</td>\n",
       "      <td>20-face-0</td>\n",
       "      <td>face</td>\n",
       "      <td>0</td>\n",
       "      <td>0.440591</td>\n",
       "      <td>0.381708</td>\n",
       "      <td>-0.040288</td>\n",
       "    </tr>\n",
       "    <tr>\n",
       "      <th>10861</th>\n",
       "      <td>20</td>\n",
       "      <td>20-face-1</td>\n",
       "      <td>face</td>\n",
       "      <td>1</td>\n",
       "      <td>0.423508</td>\n",
       "      <td>0.332615</td>\n",
       "      <td>-0.077396</td>\n",
       "    </tr>\n",
       "    <tr>\n",
       "      <th>10862</th>\n",
       "      <td>20</td>\n",
       "      <td>20-face-2</td>\n",
       "      <td>face</td>\n",
       "      <td>2</td>\n",
       "      <td>0.427506</td>\n",
       "      <td>0.343498</td>\n",
       "      <td>-0.039368</td>\n",
       "    </tr>\n",
       "    <tr>\n",
       "      <th>10863</th>\n",
       "      <td>20</td>\n",
       "      <td>20-face-3</td>\n",
       "      <td>face</td>\n",
       "      <td>3</td>\n",
       "      <td>0.407110</td>\n",
       "      <td>0.295480</td>\n",
       "      <td>-0.058578</td>\n",
       "    </tr>\n",
       "    <tr>\n",
       "      <th>10864</th>\n",
       "      <td>20</td>\n",
       "      <td>20-face-4</td>\n",
       "      <td>face</td>\n",
       "      <td>4</td>\n",
       "      <td>0.421523</td>\n",
       "      <td>0.321340</td>\n",
       "      <td>-0.082764</td>\n",
       "    </tr>\n",
       "  </tbody>\n",
       "</table>\n",
       "</div>"
      ],
      "text/plain": [
       "       frame     row_id  type  landmark_index         x         y         z\n",
       "10860     20  20-face-0  face               0  0.440591  0.381708 -0.040288\n",
       "10861     20  20-face-1  face               1  0.423508  0.332615 -0.077396\n",
       "10862     20  20-face-2  face               2  0.427506  0.343498 -0.039368\n",
       "10863     20  20-face-3  face               3  0.407110  0.295480 -0.058578\n",
       "10864     20  20-face-4  face               4  0.421523  0.321340 -0.082764"
      ]
     },
     "execution_count": 11,
     "metadata": {},
     "output_type": "execute_result"
    }
   ],
   "source": [
    "f_0 = landmark_df.loc[landmark_df.frame == 20]\n",
    "f_0.head()"
   ]
  },
  {
   "cell_type": "code",
   "execution_count": 12,
   "id": "d5317f19",
   "metadata": {},
   "outputs": [
    {
     "data": {
      "text/plain": [
       "{'face', 'left_hand', 'pose', 'right_hand'}"
      ]
     },
     "execution_count": 12,
     "metadata": {},
     "output_type": "execute_result"
    }
   ],
   "source": [
    "set(f_0.type.values)"
   ]
  },
  {
   "cell_type": "code",
   "execution_count": 13,
   "id": "a5f68f30",
   "metadata": {},
   "outputs": [],
   "source": [
    "f0_face = f_0.loc[f_0.type == \"face\"][[\"x\", \"y\", \"z\"]].values[LIP]\n",
    "f0_pose = f_0.loc[f_0.type == \"pose\"][[\"x\", \"y\", \"z\"]].values[:-8]\n",
    "f0_rh = f_0.loc[f_0.type == \"right_hand\"][[\"x\", \"y\", \"z\"]].values\n",
    "f0_lh = f_0.loc[f_0.type == \"left_hand\"][[\"x\", \"y\", \"z\"]].values"
   ]
  },
  {
   "cell_type": "code",
   "execution_count": 14,
   "id": "80e22640",
   "metadata": {
    "scrolled": true
   },
   "outputs": [
    {
     "data": {
      "text/plain": [
       "(1, 40, 3)"
      ]
     },
     "execution_count": 14,
     "metadata": {},
     "output_type": "execute_result"
    }
   ],
   "source": [
    "np.expand_dims(f0_face, axis=0).shape"
   ]
  },
  {
   "cell_type": "code",
   "execution_count": 15,
   "id": "92d75598",
   "metadata": {},
   "outputs": [
    {
     "data": {
      "text/plain": [
       "(107, 3)"
      ]
     },
     "execution_count": 15,
     "metadata": {},
     "output_type": "execute_result"
    }
   ],
   "source": [
    "human = np.concatenate([f0_face, f0_pose, f0_rh, f0_lh], axis=0)\n",
    "human.shape"
   ]
  },
  {
   "cell_type": "code",
   "execution_count": 16,
   "id": "7f9c5d54",
   "metadata": {},
   "outputs": [],
   "source": [
    "num_frame = int(len(landmark_df)/NUM_JOINTS)\n",
    "num_c = 107\n",
    "img_h = 64\n",
    "img_w = 64\n",
    "\n",
    "ret = np.zeros([num_frame, num_c, img_h, img_w], dtype=np.float32) # T x V x H x W (or T x K x H x W to match paper)\n",
    "arr = ret[0]"
   ]
  },
  {
   "cell_type": "code",
   "execution_count": 17,
   "id": "1c6ad07c",
   "metadata": {},
   "outputs": [
    {
     "name": "stdout",
     "output_type": "stream",
     "text": [
      "(1, 107, 3)\n",
      "(1, 107)\n"
     ]
    }
   ],
   "source": [
    "# 1, V, C \n",
    "kps = np.expand_dims(human, axis=0) # (1, 25, 3)\n",
    "print(kps.shape)\n",
    "# M, C\n",
    "all_kpscores = np.ones((1,num_frame,num_c), dtype=np.float32)\n",
    "kpscores = np.ones_like(all_kpscores[:, 0])\n",
    "print(kpscores.shape)\n",
    "\n",
    "# self.generate_heatmap(ret[i], kps, kpscores)"
   ]
  },
  {
   "cell_type": "code",
   "execution_count": 18,
   "id": "feba0216",
   "metadata": {},
   "outputs": [],
   "source": [
    "def generate_a_heatmap(arr, centers, max_values):\n",
    "    \"\"\"Generate pseudo heatmap for one keypoint in one frame.\n",
    "\n",
    "    Args:\n",
    "        arr (np.ndarray): The array to store the generated heatmaps. Shape: img_h * img_w.\n",
    "        centers (np.ndarray): The coordinates of corresponding keypoints (of multiple persons). Shape: M * 2.\n",
    "        max_values (np.ndarray): The max values of each keypoint. Shape: M.\n",
    "\n",
    "    Returns:\n",
    "        np.ndarray: The generated pseudo heatmap.\n",
    "    \"\"\"\n",
    "\n",
    "    sigma = 0.1\n",
    "    img_h, img_w = arr.shape\n",
    "\n",
    "    for center, max_value in zip(centers, max_values):\n",
    "\n",
    "        mu_x, mu_y = center[0], center[1]\n",
    "        if not (np.isnan(mu_x) and np.isnan(mu_y)):\n",
    "            # scale\n",
    "            mu_x = min(math.floor(mu_x * img_w), img_w - 1)\n",
    "            mu_y = min(math.floor(mu_y * img_h), img_h - 1)\n",
    "\n",
    "            st_x = max(int(mu_x - 0.5 * sigma), 0)\n",
    "            ed_x = min(int(mu_x + 0.5 * sigma) + 1, img_w)\n",
    "            st_y = max(int(mu_y - 0.5 * sigma), 0)\n",
    "            ed_y = min(int(mu_y + 0.5 * sigma) + 1, img_h)\n",
    "            x = np.arange(st_x, ed_x, 1, np.float32)\n",
    "            y = np.arange(st_y, ed_y, 1, np.float32)\n",
    "\n",
    "            # if the keypoint not in the heatmap coordinate system\n",
    "            if not (len(x) and len(y)):\n",
    "                continue\n",
    "            y = y[:, None]\n",
    "\n",
    "            patch = np.exp(-((x - mu_x)**2 + (y - mu_y)**2) / 2 / sigma**2)\n",
    "            patch = patch * max_value\n",
    "            arr[st_y:ed_y, st_x:ed_x] = np.maximum(arr[st_y:ed_y, st_x:ed_x], patch)"
   ]
  },
  {
   "cell_type": "code",
   "execution_count": 19,
   "id": "da89a4d5",
   "metadata": {
    "scrolled": true
   },
   "outputs": [
    {
     "name": "stdout",
     "output_type": "stream",
     "text": [
      "(59, 107, 56, 56)\n"
     ]
    },
    {
     "name": "stderr",
     "output_type": "stream",
     "text": [
      "0it [00:00, ?it/s]\n"
     ]
    }
   ],
   "source": [
    "frames = landmark_df.frame.unique()\n",
    "\n",
    "num_frame = len(frames)\n",
    "num_c = 107\n",
    "img_h = 56\n",
    "img_w = 56\n",
    "\n",
    "ret = np.zeros([num_frame, num_c, img_h, img_w], dtype=np.float32) # T x V x H x W (or T x K x H x W to match paper)\n",
    "print(ret.shape)\n",
    "\n",
    "faces, poses, rhs, lhs = [],[],[],[]\n",
    "humans = []\n",
    "\n",
    "for i, frame in tqdm(enumerate(frames)):\n",
    "    arr = ret[i]\n",
    "\n",
    "    # Get the frame and associated parts\n",
    "    f = landmark_df.loc[landmark_df.frame == frame]\n",
    "    face = f.loc[f.type == \"face\"][[\"x\", \"y\", \"z\"]].values[LIP]\n",
    "    pose = f.loc[f.type == \"pose\"][[\"x\", \"y\", \"z\"]].values[:-8]\n",
    "    rh = f.loc[f.type == \"right_hand\"][[\"x\", \"y\", \"z\"]].values\n",
    "    lh = f.loc[f.type == \"left_hand\"][[\"x\", \"y\", \"z\"]].values\n",
    "\n",
    "    human = np.concatenate([face, pose, rh, lh], axis=0)\n",
    "    # normalize\n",
    "    human = human[~np.ma.fix_invalid(human).mask.any(axis=1)]\n",
    "    x, y = human[:,:1], human[:,1:2]\n",
    "\n",
    "    # TODO: Normalize the whole sequence together\n",
    "    x = (x-np.min(x))/(np.max(x)-np.min(x))\n",
    "    y = (y-np.min(y))/(np.max(y)-np.min(y))\n",
    "\n",
    "    human = np.squeeze(np.array(list(zip(x, y))), axis=-1)\n",
    "    \n",
    "    kps = np.expand_dims(human, axis=0)\n",
    "    all_kpscores = np.ones((1,num_frame,num_c), dtype=np.float32)\n",
    "    kpscores = np.ones_like(all_kpscores[:, 0])\n",
    "    \n",
    "#     num_kp = kps.shape[1]\n",
    "#     for i in range(num_kp):\n",
    "#         p = generate_a_heatmap(arr[i], kps[:, i], kpscores[:, i])\n",
    "#         break\n",
    "\n",
    "    break"
   ]
  },
  {
   "cell_type": "code",
   "execution_count": 20,
   "id": "a8e79b50",
   "metadata": {},
   "outputs": [
    {
     "data": {
      "text/plain": [
       "(107, 3)"
      ]
     },
     "execution_count": 20,
     "metadata": {},
     "output_type": "execute_result"
    }
   ],
   "source": [
    "human = np.concatenate([face, pose, rh, lh], axis=0)\n",
    "human.shape"
   ]
  },
  {
   "cell_type": "code",
   "execution_count": 21,
   "id": "ca98c960",
   "metadata": {},
   "outputs": [
    {
     "data": {
      "text/plain": [
       "0.0"
      ]
     },
     "execution_count": 21,
     "metadata": {},
     "output_type": "execute_result"
    }
   ],
   "source": [
    "np.min(x)"
   ]
  },
  {
   "cell_type": "code",
   "execution_count": 22,
   "id": "01d5c98d",
   "metadata": {},
   "outputs": [
    {
     "data": {
      "text/plain": [
       "1.0"
      ]
     },
     "execution_count": 22,
     "metadata": {},
     "output_type": "execute_result"
    }
   ],
   "source": [
    "np.max(x)"
   ]
  },
  {
   "cell_type": "code",
   "execution_count": 23,
   "id": "13eeddee",
   "metadata": {
    "scrolled": true
   },
   "outputs": [
    {
     "data": {
      "text/plain": [
       "(array([[0.47484708, 0.14311469]]), array([1.], dtype=float32))"
      ]
     },
     "execution_count": 23,
     "metadata": {},
     "output_type": "execute_result"
    }
   ],
   "source": [
    "kps[:,i], kpscores[:,i]"
   ]
  },
  {
   "cell_type": "code",
   "execution_count": 24,
   "id": "898ded85",
   "metadata": {},
   "outputs": [
    {
     "data": {
      "text/plain": [
       "(26, 8)"
      ]
     },
     "execution_count": 24,
     "metadata": {},
     "output_type": "execute_result"
    }
   ],
   "source": [
    "mu_x, mu_y = kps[:,i][0][0], kps[:,i][0][1]\n",
    "\n",
    "mu_x = min(math.floor(mu_x * img_w), img_w - 1)\n",
    "mu_y = min(math.floor(mu_y * img_h), img_h - 1)\n",
    "\n",
    "mu_x, mu_y"
   ]
  },
  {
   "cell_type": "code",
   "execution_count": 26,
   "id": "7771bdc8",
   "metadata": {},
   "outputs": [],
   "source": [
    "sigma = 0.2\n",
    "st_x = max(int(mu_x - 0.5 * sigma), 0)\n",
    "ed_x = min(int(mu_x + 0.5 * sigma) + 1, img_w)\n",
    "st_y = max(int(mu_y - 0.5 * sigma), 0)\n",
    "ed_y = min(int(mu_y + 0.5 * sigma) + 1, img_h)\n",
    "x = np.arange(st_x, ed_x, 1, np.float32)\n",
    "y = np.arange(st_y, ed_y, 1, np.float32)\n",
    "\n",
    "y = y[:, None]\n",
    "\n",
    "ix = (x - mu_x)**2\n",
    "jy = (y - mu_y)**2\n",
    "\n",
    "patch = np.exp(-(ix + jy) / 2 / sigma**2)"
   ]
  },
  {
   "cell_type": "code",
   "execution_count": 27,
   "id": "3d0766fb",
   "metadata": {},
   "outputs": [
    {
     "data": {
      "text/plain": [
       "(25, 27)"
      ]
     },
     "execution_count": 27,
     "metadata": {},
     "output_type": "execute_result"
    }
   ],
   "source": [
    "st_x, ed_x"
   ]
  },
  {
   "cell_type": "code",
   "execution_count": 28,
   "id": "b1f1f798",
   "metadata": {},
   "outputs": [
    {
     "data": {
      "text/plain": [
       "(7, 9)"
      ]
     },
     "execution_count": 28,
     "metadata": {},
     "output_type": "execute_result"
    }
   ],
   "source": [
    "st_y, ed_y"
   ]
  },
  {
   "cell_type": "code",
   "execution_count": 29,
   "id": "d14d3842",
   "metadata": {},
   "outputs": [
    {
     "data": {
      "text/plain": [
       "array([25., 26.], dtype=float32)"
      ]
     },
     "execution_count": 29,
     "metadata": {},
     "output_type": "execute_result"
    }
   ],
   "source": [
    "x"
   ]
  },
  {
   "cell_type": "code",
   "execution_count": 30,
   "id": "49700458",
   "metadata": {},
   "outputs": [
    {
     "data": {
      "text/plain": [
       "array([[7.],\n",
       "       [8.]], dtype=float32)"
      ]
     },
     "execution_count": 30,
     "metadata": {},
     "output_type": "execute_result"
    }
   ],
   "source": [
    "y"
   ]
  },
  {
   "cell_type": "code",
   "execution_count": 31,
   "id": "36802965",
   "metadata": {},
   "outputs": [
    {
     "data": {
      "text/plain": [
       "array([[1.3887944e-11, 3.7266529e-06],\n",
       "       [3.7266529e-06, 1.0000000e+00]], dtype=float32)"
      ]
     },
     "execution_count": 31,
     "metadata": {},
     "output_type": "execute_result"
    }
   ],
   "source": [
    "patch"
   ]
  },
  {
   "cell_type": "code",
   "execution_count": 32,
   "id": "240689c2",
   "metadata": {},
   "outputs": [
    {
     "data": {
      "text/plain": [
       "array([1., 0.], dtype=float32)"
      ]
     },
     "execution_count": 32,
     "metadata": {},
     "output_type": "execute_result"
    }
   ],
   "source": [
    "ix"
   ]
  },
  {
   "cell_type": "code",
   "execution_count": 33,
   "id": "1fd5fb8e",
   "metadata": {},
   "outputs": [
    {
     "data": {
      "text/plain": [
       "array([[1.],\n",
       "       [0.]], dtype=float32)"
      ]
     },
     "execution_count": 33,
     "metadata": {},
     "output_type": "execute_result"
    }
   ],
   "source": [
    "jy"
   ]
  },
  {
   "cell_type": "code",
   "execution_count": 34,
   "id": "10f8a6ce",
   "metadata": {},
   "outputs": [
    {
     "data": {
      "text/plain": [
       "array([[2., 1.],\n",
       "       [1., 0.]], dtype=float32)"
      ]
     },
     "execution_count": 34,
     "metadata": {},
     "output_type": "execute_result"
    }
   ],
   "source": [
    "ix + jy"
   ]
  },
  {
   "cell_type": "code",
   "execution_count": 35,
   "id": "a14ed3cc",
   "metadata": {},
   "outputs": [
    {
     "data": {
      "text/plain": [
       "array([[1.3887944e-11, 3.7266529e-06],\n",
       "       [3.7266529e-06, 1.0000000e+00]], dtype=float32)"
      ]
     },
     "execution_count": 35,
     "metadata": {},
     "output_type": "execute_result"
    }
   ],
   "source": [
    "patch"
   ]
  },
  {
   "cell_type": "code",
   "execution_count": null,
   "id": "3411b1c2",
   "metadata": {},
   "outputs": [],
   "source": []
  },
  {
   "cell_type": "code",
   "execution_count": null,
   "id": "ac61a4c2",
   "metadata": {},
   "outputs": [],
   "source": []
  },
  {
   "cell_type": "markdown",
   "id": "34cb9825",
   "metadata": {},
   "source": [
    "####"
   ]
  },
  {
   "cell_type": "code",
   "execution_count": null,
   "id": "da66a95d",
   "metadata": {},
   "outputs": [
    {
     "name": "stderr",
     "output_type": "stream",
     "text": [
      "2023-04-16 15:27:47.299370: I tensorflow/core/platform/cpu_feature_guard.cc:193] This TensorFlow binary is optimized with oneAPI Deep Neural Network Library (oneDNN) to use the following CPU instructions in performance-critical operations:  AVX2 FMA\n",
      "To enable them in other operations, rebuild TensorFlow with the appropriate compiler flags.\n",
      "2023-04-16 15:27:47.502794: E tensorflow/stream_executor/cuda/cuda_blas.cc:2981] Unable to register cuBLAS factory: Attempting to register factory for plugin cuBLAS when one has already been registered\n",
      "2023-04-16 15:27:48.497656: W tensorflow/stream_executor/platform/default/dso_loader.cc:64] Could not load dynamic library 'libnvinfer.so.7'; dlerror: libnvinfer.so.7: cannot open shared object file: No such file or directory; LD_LIBRARY_PATH: /usr/local/cuda/lib64:/usr/local/nccl2/lib:/usr/local/cuda/extras/CUPTI/lib64:/usr/local/cuda/lib64:/usr/local/nccl2/lib:/usr/local/cuda/extras/CUPTI/lib64\n",
      "2023-04-16 15:27:48.497828: W tensorflow/stream_executor/platform/default/dso_loader.cc:64] Could not load dynamic library 'libnvinfer_plugin.so.7'; dlerror: libnvinfer_plugin.so.7: cannot open shared object file: No such file or directory; LD_LIBRARY_PATH: /usr/local/cuda/lib64:/usr/local/nccl2/lib:/usr/local/cuda/extras/CUPTI/lib64:/usr/local/cuda/lib64:/usr/local/nccl2/lib:/usr/local/cuda/extras/CUPTI/lib64\n",
      "2023-04-16 15:27:48.497844: W tensorflow/compiler/tf2tensorrt/utils/py_utils.cc:38] TF-TRT Warning: Cannot dlopen some TensorRT libraries. If you would like to use Nvidia GPU with TensorRT, please make sure the missing libraries mentioned above are installed properly.\n"
     ]
    }
   ],
   "source": [
    "import tensorflow as tf\n",
    "\n",
    "human = np.concatenate([face, pose, rh, lh], axis=0)\n",
    "humans = np.reshape(landmark_df[[\"x\", \"y\", \"z\"]].values, newshape=(-1, 543, 3))\n",
    "\n",
    "faces = tf.gather(humans, LIP, axis=1).numpy()\n",
    "poses = tf.gather(humans, POSE, axis=1).numpy()[:,:-8]\n",
    "rhs = tf.gather(humans, RIGHT_HAND, axis=1).numpy()\n",
    "lhs = tf.gather(humans, LEFT_HAND, axis=1).numpy()\n",
    "\n",
    "humans = tf.concat([faces, poses, rhs, lhs], axis=1)\n",
    "humans.shape"
   ]
  },
  {
   "cell_type": "code",
   "execution_count": 577,
   "id": "305cbe7f",
   "metadata": {},
   "outputs": [
    {
     "data": {
      "text/plain": [
       "(TensorShape([59, 107, 1]), TensorShape([59, 107, 1]))"
      ]
     },
     "execution_count": 577,
     "metadata": {},
     "output_type": "execute_result"
    }
   ],
   "source": [
    "_x, _y = humans[:,:,:1], humans[:,:,1:2]\n",
    "_x.shape, _y.shape"
   ]
  },
  {
   "cell_type": "code",
   "execution_count": 578,
   "id": "4d261728",
   "metadata": {},
   "outputs": [],
   "source": [
    "# MinMax Normalization\n",
    "x_min = tf.reduce_min(tf.where(tf.math.is_nan(_x), tf.float32.max, _x), axis=1)\n",
    "x_max = tf.reduce_max(tf.where(tf.math.is_nan(_x), tf.float32.min, _x), axis=1)\n",
    "y_min = tf.reduce_min(tf.where(tf.math.is_nan(_y), tf.float32.max, _y), axis=1)\n",
    "y_max = tf.reduce_max(tf.where(tf.math.is_nan(_y), tf.float32.min, _y), axis=1)\n",
    "\n",
    "x_min = tf.expand_dims(x_min, axis=1)\n",
    "x_max = tf.expand_dims(x_max, axis=1)\n",
    "y_min = tf.expand_dims(y_min, axis=1)\n",
    "y_max = tf.expand_dims(y_max, axis=1)\n",
    "\n",
    "_x = (_x - x_min) / (x_max - x_min)\n",
    "_y = (_y - y_min) / (y_max - y_min)"
   ]
  },
  {
   "cell_type": "code",
   "execution_count": 579,
   "id": "74d5afce",
   "metadata": {},
   "outputs": [],
   "source": [
    "_x = tf.math.floor(_x * 56)\n",
    "_y = tf.math.floor(_y * 56)"
   ]
  },
  {
   "cell_type": "code",
   "execution_count": 580,
   "id": "b925d1ed",
   "metadata": {},
   "outputs": [
    {
     "data": {
      "text/plain": [
       "(<tf.Tensor: shape=(1,), dtype=float64, numpy=array([26.])>,\n",
       " <tf.Tensor: shape=(1,), dtype=float64, numpy=array([8.])>)"
      ]
     },
     "execution_count": 580,
     "metadata": {},
     "output_type": "execute_result"
    }
   ],
   "source": [
    "_x[0][0], _y[0][0]"
   ]
  },
  {
   "cell_type": "code",
   "execution_count": 581,
   "id": "d099c2b3",
   "metadata": {},
   "outputs": [],
   "source": [
    "sigma = 0.1\n",
    "_st_x = tf.math.maximum(tf.cast(_x - 0.5 * sigma, tf.int32), tf.constant(0, dtype=tf.int32))\n",
    "_ed_x = tf.math.minimum(tf.cast(_x + 0.5 * sigma, tf.int32) + 1, tf.cast(56, tf.int32))\n",
    "_st_y = tf.math.maximum(tf.cast(_y - 0.5 * sigma, tf.int32), tf.constant(0, dtype=tf.int32))\n",
    "_ed_y = tf.math.minimum(tf.cast(_y + 0.5 * sigma, tf.int32) + 1, tf.cast(56, tf.int32))"
   ]
  },
  {
   "cell_type": "code",
   "execution_count": 582,
   "id": "dc4e5837",
   "metadata": {},
   "outputs": [
    {
     "data": {
      "text/plain": [
       "(<tf.Tensor: shape=(1,), dtype=int32, numpy=array([25], dtype=int32)>,\n",
       " <tf.Tensor: shape=(1,), dtype=int32, numpy=array([27], dtype=int32)>)"
      ]
     },
     "execution_count": 582,
     "metadata": {},
     "output_type": "execute_result"
    }
   ],
   "source": [
    "_st_x[0][0], _ed_x[0][0]"
   ]
  },
  {
   "cell_type": "code",
   "execution_count": 583,
   "id": "8bbc1380",
   "metadata": {},
   "outputs": [
    {
     "data": {
      "text/plain": [
       "(<tf.Tensor: shape=(1,), dtype=int32, numpy=array([7], dtype=int32)>,\n",
       " <tf.Tensor: shape=(1,), dtype=int32, numpy=array([9], dtype=int32)>)"
      ]
     },
     "execution_count": 583,
     "metadata": {},
     "output_type": "execute_result"
    }
   ],
   "source": [
    "_st_y[0][0], _ed_y[0][0]"
   ]
  },
  {
   "cell_type": "code",
   "execution_count": 584,
   "id": "494a8ce6",
   "metadata": {},
   "outputs": [],
   "source": [
    "i = tf.concat([_st_x, _ed_x-1], axis=-1)\n",
    "j = tf.concat([_st_y, _ed_y-1], axis=-1)[..., None]"
   ]
  },
  {
   "cell_type": "code",
   "execution_count": 585,
   "id": "001756f8",
   "metadata": {},
   "outputs": [
    {
     "data": {
      "text/plain": [
       "<tf.Tensor: shape=(2,), dtype=int32, numpy=array([25, 26], dtype=int32)>"
      ]
     },
     "execution_count": 585,
     "metadata": {},
     "output_type": "execute_result"
    }
   ],
   "source": [
    "i[0][0]"
   ]
  },
  {
   "cell_type": "code",
   "execution_count": 586,
   "id": "15717077",
   "metadata": {},
   "outputs": [
    {
     "data": {
      "text/plain": [
       "<tf.Tensor: shape=(2, 1), dtype=int32, numpy=\n",
       "array([[7],\n",
       "       [8]], dtype=int32)>"
      ]
     },
     "execution_count": 586,
     "metadata": {},
     "output_type": "execute_result"
    }
   ],
   "source": [
    "j[0][0]"
   ]
  },
  {
   "cell_type": "code",
   "execution_count": 587,
   "id": "be2025cd",
   "metadata": {
    "scrolled": true
   },
   "outputs": [],
   "source": [
    "ix = (i - tf.cast(_x, tf.int32))**2\n",
    "ix = tf.broadcast_to(tf.transpose(ix[..., tf.newaxis], (0,1,3,2)), (59, 107, 2, 2))"
   ]
  },
  {
   "cell_type": "code",
   "execution_count": 588,
   "id": "f2a91de3",
   "metadata": {},
   "outputs": [
    {
     "data": {
      "text/plain": [
       "<tf.Tensor: shape=(59, 107, 2, 1), dtype=int32, numpy=\n",
       "array([[[[1],\n",
       "         [0]],\n",
       "\n",
       "        [[1],\n",
       "         [0]],\n",
       "\n",
       "        [[1],\n",
       "         [0]],\n",
       "\n",
       "        ...,\n",
       "\n",
       "        [[1],\n",
       "         [0]],\n",
       "\n",
       "        [[1],\n",
       "         [0]],\n",
       "\n",
       "        [[1],\n",
       "         [0]]],\n",
       "\n",
       "\n",
       "       [[[1],\n",
       "         [0]],\n",
       "\n",
       "        [[1],\n",
       "         [0]],\n",
       "\n",
       "        [[1],\n",
       "         [0]],\n",
       "\n",
       "        ...,\n",
       "\n",
       "        [[0],\n",
       "         [0]],\n",
       "\n",
       "        [[0],\n",
       "         [0]],\n",
       "\n",
       "        [[0],\n",
       "         [0]]],\n",
       "\n",
       "\n",
       "       [[[1],\n",
       "         [0]],\n",
       "\n",
       "        [[1],\n",
       "         [0]],\n",
       "\n",
       "        [[1],\n",
       "         [0]],\n",
       "\n",
       "        ...,\n",
       "\n",
       "        [[0],\n",
       "         [0]],\n",
       "\n",
       "        [[0],\n",
       "         [0]],\n",
       "\n",
       "        [[0],\n",
       "         [0]]],\n",
       "\n",
       "\n",
       "       ...,\n",
       "\n",
       "\n",
       "       [[[1],\n",
       "         [0]],\n",
       "\n",
       "        [[1],\n",
       "         [0]],\n",
       "\n",
       "        [[1],\n",
       "         [0]],\n",
       "\n",
       "        ...,\n",
       "\n",
       "        [[1],\n",
       "         [0]],\n",
       "\n",
       "        [[1],\n",
       "         [0]],\n",
       "\n",
       "        [[1],\n",
       "         [0]]],\n",
       "\n",
       "\n",
       "       [[[1],\n",
       "         [0]],\n",
       "\n",
       "        [[1],\n",
       "         [0]],\n",
       "\n",
       "        [[1],\n",
       "         [0]],\n",
       "\n",
       "        ...,\n",
       "\n",
       "        [[1],\n",
       "         [0]],\n",
       "\n",
       "        [[1],\n",
       "         [0]],\n",
       "\n",
       "        [[1],\n",
       "         [0]]],\n",
       "\n",
       "\n",
       "       [[[1],\n",
       "         [0]],\n",
       "\n",
       "        [[1],\n",
       "         [0]],\n",
       "\n",
       "        [[1],\n",
       "         [0]],\n",
       "\n",
       "        ...,\n",
       "\n",
       "        [[1],\n",
       "         [0]],\n",
       "\n",
       "        [[1],\n",
       "         [0]],\n",
       "\n",
       "        [[1],\n",
       "         [0]]]], dtype=int32)>"
      ]
     },
     "execution_count": 588,
     "metadata": {},
     "output_type": "execute_result"
    }
   ],
   "source": [
    "jy = (j - tf.cast(_y,tf.int32)[..., tf.newaxis])**2\n",
    "jy"
   ]
  },
  {
   "cell_type": "code",
   "execution_count": 589,
   "id": "fbd52649",
   "metadata": {},
   "outputs": [
    {
     "data": {
      "text/plain": [
       "<tf.Tensor: shape=(59, 107, 2, 2), dtype=int32, numpy=\n",
       "array([[[[2, 1],\n",
       "         [1, 0]],\n",
       "\n",
       "        [[2, 1],\n",
       "         [1, 0]],\n",
       "\n",
       "        [[2, 1],\n",
       "         [1, 0]],\n",
       "\n",
       "        ...,\n",
       "\n",
       "        [[2, 1],\n",
       "         [1, 0]],\n",
       "\n",
       "        [[2, 1],\n",
       "         [1, 0]],\n",
       "\n",
       "        [[2, 1],\n",
       "         [1, 0]]],\n",
       "\n",
       "\n",
       "       [[[2, 1],\n",
       "         [1, 0]],\n",
       "\n",
       "        [[2, 1],\n",
       "         [1, 0]],\n",
       "\n",
       "        [[2, 1],\n",
       "         [1, 0]],\n",
       "\n",
       "        ...,\n",
       "\n",
       "        [[0, 0],\n",
       "         [0, 0]],\n",
       "\n",
       "        [[0, 0],\n",
       "         [0, 0]],\n",
       "\n",
       "        [[0, 0],\n",
       "         [0, 0]]],\n",
       "\n",
       "\n",
       "       [[[2, 1],\n",
       "         [1, 0]],\n",
       "\n",
       "        [[2, 1],\n",
       "         [1, 0]],\n",
       "\n",
       "        [[2, 1],\n",
       "         [1, 0]],\n",
       "\n",
       "        ...,\n",
       "\n",
       "        [[0, 0],\n",
       "         [0, 0]],\n",
       "\n",
       "        [[0, 0],\n",
       "         [0, 0]],\n",
       "\n",
       "        [[0, 0],\n",
       "         [0, 0]]],\n",
       "\n",
       "\n",
       "       ...,\n",
       "\n",
       "\n",
       "       [[[2, 1],\n",
       "         [1, 0]],\n",
       "\n",
       "        [[2, 1],\n",
       "         [1, 0]],\n",
       "\n",
       "        [[2, 1],\n",
       "         [1, 0]],\n",
       "\n",
       "        ...,\n",
       "\n",
       "        [[2, 1],\n",
       "         [1, 0]],\n",
       "\n",
       "        [[2, 1],\n",
       "         [1, 0]],\n",
       "\n",
       "        [[2, 1],\n",
       "         [1, 0]]],\n",
       "\n",
       "\n",
       "       [[[2, 1],\n",
       "         [1, 0]],\n",
       "\n",
       "        [[2, 1],\n",
       "         [1, 0]],\n",
       "\n",
       "        [[2, 1],\n",
       "         [1, 0]],\n",
       "\n",
       "        ...,\n",
       "\n",
       "        [[2, 1],\n",
       "         [1, 0]],\n",
       "\n",
       "        [[2, 1],\n",
       "         [1, 0]],\n",
       "\n",
       "        [[2, 1],\n",
       "         [1, 0]]],\n",
       "\n",
       "\n",
       "       [[[2, 1],\n",
       "         [1, 0]],\n",
       "\n",
       "        [[2, 1],\n",
       "         [1, 0]],\n",
       "\n",
       "        [[2, 1],\n",
       "         [1, 0]],\n",
       "\n",
       "        ...,\n",
       "\n",
       "        [[2, 1],\n",
       "         [1, 0]],\n",
       "\n",
       "        [[2, 1],\n",
       "         [1, 0]],\n",
       "\n",
       "        [[2, 1],\n",
       "         [1, 0]]]], dtype=int32)>"
      ]
     },
     "execution_count": 589,
     "metadata": {},
     "output_type": "execute_result"
    }
   ],
   "source": [
    "ix + jy"
   ]
  },
  {
   "cell_type": "code",
   "execution_count": 597,
   "id": "68575d39",
   "metadata": {},
   "outputs": [],
   "source": [
    "_patch = tf.exp(-(ix+jy) / 2 / sigma**2)"
   ]
  },
  {
   "cell_type": "code",
   "execution_count": 598,
   "id": "96da50bc",
   "metadata": {},
   "outputs": [
    {
     "data": {
      "text/plain": [
       "array([[3.7835059e-44, 1.9287499e-22],\n",
       "       [1.9287499e-22, 1.0000000e+00]], dtype=float32)"
      ]
     },
     "execution_count": 598,
     "metadata": {},
     "output_type": "execute_result"
    }
   ],
   "source": [
    "patch"
   ]
  },
  {
   "cell_type": "code",
   "execution_count": 1,
   "id": "529d5573",
   "metadata": {},
   "outputs": [
    {
     "ename": "NameError",
     "evalue": "name '_patch' is not defined",
     "output_type": "error",
     "traceback": [
      "\u001b[0;31m---------------------------------------------------------------------------\u001b[0m",
      "\u001b[0;31mNameError\u001b[0m                                 Traceback (most recent call last)",
      "\u001b[0;32m/tmp/ipykernel_20807/2348503475.py\u001b[0m in \u001b[0;36m<module>\u001b[0;34m\u001b[0m\n\u001b[0;32m----> 1\u001b[0;31m \u001b[0m_patch\u001b[0m\u001b[0;34m[\u001b[0m\u001b[0;36m0\u001b[0m\u001b[0;34m]\u001b[0m\u001b[0;34m[\u001b[0m\u001b[0;36m0\u001b[0m\u001b[0;34m]\u001b[0m\u001b[0;34m\u001b[0m\u001b[0;34m\u001b[0m\u001b[0m\n\u001b[0m",
      "\u001b[0;31mNameError\u001b[0m: name '_patch' is not defined"
     ]
    }
   ],
   "source": [
    "_patch[0][0]"
   ]
  },
  {
   "cell_type": "code",
   "execution_count": null,
   "id": "27bdd1d3",
   "metadata": {},
   "outputs": [],
   "source": []
  },
  {
   "cell_type": "code",
   "execution_count": null,
   "id": "7e2d2967",
   "metadata": {},
   "outputs": [],
   "source": []
  },
  {
   "cell_type": "code",
   "execution_count": null,
   "id": "8f14368f",
   "metadata": {},
   "outputs": [],
   "source": []
  },
  {
   "cell_type": "code",
   "execution_count": null,
   "id": "2fa5e0d9",
   "metadata": {},
   "outputs": [],
   "source": []
  },
  {
   "cell_type": "code",
   "execution_count": null,
   "id": "218535f5",
   "metadata": {},
   "outputs": [],
   "source": []
  },
  {
   "cell_type": "code",
   "execution_count": 18,
   "id": "b45c6672",
   "metadata": {},
   "outputs": [
    {
     "data": {
      "text/plain": [
       "(107, 3)"
      ]
     },
     "execution_count": 18,
     "metadata": {},
     "output_type": "execute_result"
    }
   ],
   "source": [
    "f = landmark_df.loc[landmark_df.frame == frame]\n",
    "face = f.loc[f.type == \"face\"][[\"x\", \"y\", \"z\"]].values[LIP]\n",
    "pose = f.loc[f.type == \"pose\"][[\"x\", \"y\", \"z\"]].values[:-8]\n",
    "rh = f.loc[f.type == \"right_hand\"][[\"x\", \"y\", \"z\"]].values\n",
    "lh = f.loc[f.type == \"left_hand\"][[\"x\", \"y\", \"z\"]].values\n",
    "\n",
    "human = np.concatenate([face, pose, rh, lh], axis=0)\n",
    "\n",
    "human.shape"
   ]
  },
  {
   "cell_type": "code",
   "execution_count": 24,
   "id": "fa98b4a4",
   "metadata": {},
   "outputs": [],
   "source": [
    "num_kp = kps.shape[1]\n",
    "num_kp\n",
    "for i in range(num_kp):\n",
    "    generate_a_heatmap(arr[i], kps[:, i], kpscores[:, i])"
   ]
  },
  {
   "cell_type": "code",
   "execution_count": 200,
   "id": "104ba688",
   "metadata": {},
   "outputs": [],
   "source": [
    "def vis_heatmaps(heatmaps, channel=-1, ratio=8):\n",
    "    # if channel is -1, draw all keypoints / limbs on the same map\n",
    "    import matplotlib.cm as cm\n",
    "    heatmaps = [x.transpose(1, 2, 0) for x in heatmaps]\n",
    "    h, w, _ = heatmaps[0].shape\n",
    "    newh, neww = int(h * ratio), int(w * ratio)\n",
    "\n",
    "    if channel == -1:\n",
    "        heatmaps = [np.max(x, axis=-1) for x in heatmaps]\n",
    "    cmap = cm.viridis\n",
    "    heatmaps = [(cmap(x)[..., :3] * 255).astype(np.uint8) for x in heatmaps]\n",
    "    heatmaps = [cv2.resize(x, (neww, newh)) for x in heatmaps]\n",
    "    return heatmaps"
   ]
  },
  {
   "cell_type": "code",
   "execution_count": 201,
   "id": "0e4967b4",
   "metadata": {},
   "outputs": [],
   "source": [
    "import cv2\n",
    "\n",
    "keypoint_humans = []\n",
    "\n",
    "for arr in ret:\n",
    "    keypoint_mapvis = vis_heatmaps(np.expand_dims(arr, axis=0), ratio=1)\n",
    "    keypoint_humans.append(keypoint_mapvis[0])"
   ]
  },
  {
   "cell_type": "code",
   "execution_count": 202,
   "id": "bda3fdfc",
   "metadata": {},
   "outputs": [
    {
     "data": {
      "text/plain": [
       "<matplotlib.image.AxesImage at 0x7f12e308f490>"
      ]
     },
     "execution_count": 202,
     "metadata": {},
     "output_type": "execute_result"
    },
    {
     "data": {
      "image/png": "[encoded data removed]",
      "text/plain": [
       "<Figure size 640x480 with 1 Axes>"
      ]
     },
     "metadata": {},
     "output_type": "display_data"
    }
   ],
   "source": [
    "plt.imshow(keypoint_humans[3])"
   ]
  },
  {
   "cell_type": "code",
   "execution_count": null,
   "id": "c056c4a5",
   "metadata": {},
   "outputs": [],
   "source": []
  },
  {
   "cell_type": "code",
   "execution_count": null,
   "id": "80bf6d06",
   "metadata": {},
   "outputs": [],
   "source": []
  },
  {
   "cell_type": "code",
   "execution_count": null,
   "id": "ab778e45",
   "metadata": {},
   "outputs": [],
   "source": []
  },
  {
   "cell_type": "code",
   "execution_count": null,
   "id": "f510f593",
   "metadata": {},
   "outputs": [],
   "source": []
  },
  {
   "cell_type": "code",
   "execution_count": null,
   "id": "2ec6ff00",
   "metadata": {},
   "outputs": [],
   "source": []
  },
  {
   "cell_type": "code",
   "execution_count": null,
   "id": "9fed3727",
   "metadata": {},
   "outputs": [],
   "source": []
  },
  {
   "cell_type": "code",
   "execution_count": 12,
   "id": "fafe56da",
   "metadata": {},
   "outputs": [],
   "source": [
    "def points_to_gaussian_heatmap(centers, height, width, scale):\n",
    "    gaussians = []\n",
    "    for x,y in centers:\n",
    "        s = np.eye(2)*scale\n",
    "        \n",
    "        if not (np.isnan(x) and np.isnan(y)):\n",
    "            # unnormalize centers\n",
    "            x = min(math.floor(x * width), width - 1)\n",
    "            y = min(math.floor(y * height), height - 1)\n",
    "\n",
    "            g = multivariate_normal(mean=(x,y), cov=s)\n",
    "            gaussians.append(g)\n",
    "\n",
    "    # create a grid of (x,y) coordinates at which to evaluate the kernels\n",
    "    x = np.arange(0, width)\n",
    "    y = np.arange(0, height)\n",
    "    xx, yy = np.meshgrid(x,y)\n",
    "    xxyy = np.stack([xx.ravel(), yy.ravel()]).T\n",
    "    \n",
    "    # evaluate kernels at grid points\n",
    "    zz = sum(g.pdf(xxyy) for g in gaussians)\n",
    "    \n",
    "    if len(gaussians) !=0:\n",
    "        img = zz.reshape((height,width))\n",
    "    else:\n",
    "        img = np.zeros(shape=(height, width))\n",
    "\n",
    "    return img\n",
    "\n",
    "W = 64  # width of heatmap\n",
    "H = 64  # height of heatmap\n",
    "SCALE = 0.5  # increase scale to make larger gaussians"
   ]
  },
  {
   "cell_type": "code",
   "execution_count": 13,
   "id": "52edf3b5",
   "metadata": {},
   "outputs": [
    {
     "name": "stderr",
     "output_type": "stream",
     "text": [
      "100%|██████████████████████████████████████████████████████████████████████████████████████████████████████████████████████████████████████████████████████████| 59/59 [00:02<00:00, 25.33it/s]\n"
     ]
    }
   ],
   "source": [
    "frames = landmark_df.frame.unique()\n",
    "\n",
    "faces, poses, rhs, lhs = [],[],[],[]\n",
    "humans = []\n",
    "\n",
    "for frame in tqdm(frames):\n",
    "    # Get the frame and associated parts\n",
    "    f = landmark_df.loc[landmark_df.frame == frame]\n",
    "    face = f.loc[f.type == \"face\"][[\"x\", \"y\", \"z\"]].values[LIP]\n",
    "    pose = f.loc[f.type == \"pose\"][[\"x\", \"y\", \"z\"]].values[:-8]\n",
    "    rh = f.loc[f.type == \"right_hand\"][[\"x\", \"y\", \"z\"]].values\n",
    "    lh = f.loc[f.type == \"left_hand\"][[\"x\", \"y\", \"z\"]].values\n",
    "\n",
    "    human = np.concatenate([face, pose, rh, lh], axis=0)\n",
    "    # normalize\n",
    "    human = human[~np.ma.fix_invalid(human).mask.any(axis=1)]\n",
    "    x, y = human[:,:1], human[:,1:2]\n",
    "    \n",
    "    # TODO: Normalize the whole sequence together\n",
    "    x = (x-np.min(x))/(np.max(x)-np.min(x))\n",
    "    y = (y-np.min(y))/(np.max(y)-np.min(y))\n",
    "\n",
    "    human = np.squeeze(np.array(list(zip(x, y))), axis=-1)\n",
    "\n",
    "#     face_img = points_to_gaussian_heatmap(face[:,:2], H, W, SCALE)\n",
    "#     pose_img = points_to_gaussian_heatmap(pose[:,:2], H, W, SCALE)\n",
    "#     rh_img = points_to_gaussian_heatmap(rh[:,:2], H, W, SCALE)\n",
    "#     lh_img = points_to_gaussian_heatmap(lh[:,:2], H, W, SCALE)\n",
    "    \n",
    "    img = points_to_gaussian_heatmap(human, H, W, SCALE)\n",
    "    \n",
    "#     faces.append(face_img)\n",
    "#     poses.append(pose_img)\n",
    "#     rhs.append(rh_img)\n",
    "#     lhs.append(lh_img)\n",
    "    \n",
    "    humans.append(img)"
   ]
  },
  {
   "cell_type": "code",
   "execution_count": 14,
   "id": "03c58c1f",
   "metadata": {},
   "outputs": [
    {
     "data": {
      "image/png": "[encoded data removed]",
      "text/plain": [
       "<Figure size 640x480 with 1 Axes>"
      ]
     },
     "metadata": {},
     "output_type": "display_data"
    }
   ],
   "source": [
    "plt.imshow(img); plt.show()"
   ]
  },
  {
   "cell_type": "code",
   "execution_count": 183,
   "id": "275c0857",
   "metadata": {},
   "outputs": [
    {
     "data": {
      "text/plain": [
       "[]"
      ]
     },
     "execution_count": 183,
     "metadata": {},
     "output_type": "execute_result"
    }
   ],
   "source": [
    "humans"
   ]
  },
  {
   "cell_type": "code",
   "execution_count": 203,
   "id": "c40a4ef8",
   "metadata": {},
   "outputs": [
    {
     "name": "stderr",
     "output_type": "stream",
     "text": [
      "MovieWriter imagemagick unavailable; using Pillow instead.\n"
     ]
    }
   ],
   "source": [
    "fig, ax = plt.subplots(figsize=(5, 8))\n",
    "\n",
    "arr = keypoint_humans\n",
    "\n",
    "def update(i):\n",
    "    im_normed = arr[i]\n",
    "    ax.imshow(im_normed)\n",
    "    ax.set_title(f\"human_{i}\", fontsize=20)\n",
    "    ax.set_axis_off()\n",
    "\n",
    "\n",
    "anim = FuncAnimation(fig, update, frames=np.arange(0, len(arr)), interval=10)\n",
    "anim.save('humanpose3d1.gif', dpi=80, writer='imagemagick')\n",
    "plt.close()"
   ]
  },
  {
   "cell_type": "code",
   "execution_count": 34,
   "id": "24927b1a",
   "metadata": {},
   "outputs": [
    {
     "data": {
      "text/plain": [
       "(59, 64, 64)"
      ]
     },
     "execution_count": 34,
     "metadata": {},
     "output_type": "execute_result"
    }
   ],
   "source": [
    "np.array(humans).shape"
   ]
  },
  {
   "cell_type": "code",
   "execution_count": 108,
   "id": "3cce80a8",
   "metadata": {},
   "outputs": [],
   "source": [
    "import tensorflow as tf"
   ]
  },
  {
   "cell_type": "code",
   "execution_count": 79,
   "id": "3d5226a2",
   "metadata": {},
   "outputs": [
    {
     "name": "stdout",
     "output_type": "stream",
     "text": [
      "(59, 101, 58, 58, 32)\n"
     ]
    }
   ],
   "source": [
    "# The inputs are 28x28x28 volumes with a single channel, and the\n",
    "# batch size is 4\n",
    "input_shape = ret.shape+(1,)\n",
    "x = tf.random.normal(input_shape)\n",
    "y = tf.keras.layers.Conv3D(32, 7, activation='relu', input_shape=input_shape[1:])(x)\n",
    "print(y.shape)"
   ]
  },
  {
   "cell_type": "code",
   "execution_count": 117,
   "id": "4d5df52e",
   "metadata": {},
   "outputs": [
    {
     "data": {
      "text/plain": [
       "(59, 107, 56, 56)"
      ]
     },
     "execution_count": 117,
     "metadata": {},
     "output_type": "execute_result"
    }
   ],
   "source": [
    "ret.shape"
   ]
  },
  {
   "cell_type": "code",
   "execution_count": null,
   "id": "01aa18ad",
   "metadata": {},
   "outputs": [],
   "source": []
  },
  {
   "cell_type": "code",
   "execution_count": 206,
   "id": "87caa167",
   "metadata": {},
   "outputs": [
    {
     "data": {
      "text/plain": [
       "(array([[0.42753562, 0.13543811]]), array([1.], dtype=float32))"
      ]
     },
     "execution_count": 206,
     "metadata": {},
     "output_type": "execute_result"
    }
   ],
   "source": [
    "kps[:,0], kpscores[:,0]"
   ]
  },
  {
   "cell_type": "code",
   "execution_count": 207,
   "id": "a9ef3d15",
   "metadata": {},
   "outputs": [
    {
     "data": {
      "text/plain": [
       "(array([0.42753562, 0.13543811]), 1.0)"
      ]
     },
     "execution_count": 207,
     "metadata": {},
     "output_type": "execute_result"
    }
   ],
   "source": [
    "center, max_value = kps[:,0][0], kpscores[:,0][0]\n",
    "center, max_value"
   ]
  },
  {
   "cell_type": "code",
   "execution_count": 208,
   "id": "a5fb3fdc",
   "metadata": {},
   "outputs": [
    {
     "name": "stdout",
     "output_type": "stream",
     "text": [
      "(59, 107, 56, 56)\n"
     ]
    },
    {
     "data": {
      "text/plain": [
       "(array([[0., 0., 0., ..., 0., 0., 0.],\n",
       "        [0., 0., 0., ..., 0., 0., 0.],\n",
       "        [0., 0., 0., ..., 0., 0., 0.],\n",
       "        ...,\n",
       "        [0., 0., 0., ..., 0., 0., 0.],\n",
       "        [0., 0., 0., ..., 0., 0., 0.],\n",
       "        [0., 0., 0., ..., 0., 0., 0.]], dtype=float32),\n",
       " (56, 56))"
      ]
     },
     "execution_count": 208,
     "metadata": {},
     "output_type": "execute_result"
    }
   ],
   "source": [
    "ret = np.zeros([num_frame, num_c, img_h, img_w], dtype=np.float32) # T x V x H x W (or T x K x H x W to match paper)\n",
    "print(ret.shape)\n",
    "arr = ret[0][0]\n",
    "arr, arr.shape"
   ]
  },
  {
   "cell_type": "code",
   "execution_count": 209,
   "id": "2bfe9463",
   "metadata": {},
   "outputs": [
    {
     "data": {
      "text/plain": [
       "(23, 7)"
      ]
     },
     "execution_count": 209,
     "metadata": {},
     "output_type": "execute_result"
    }
   ],
   "source": [
    "sigma = 0.1\n",
    "img_h, img_w = arr.shape\n",
    "\n",
    "mu_x, mu_y = center[0], center[1]\n",
    "\n",
    "# scale\n",
    "mu_x = min(math.floor(mu_x * img_w), img_w - 1)\n",
    "mu_y = min(math.floor(mu_y * img_h), img_h - 1)\n",
    "mu_x, mu_y"
   ]
  },
  {
   "cell_type": "code",
   "execution_count": 210,
   "id": "8ed467ec",
   "metadata": {},
   "outputs": [],
   "source": [
    "st_x = max(int(mu_x - 0.5 * sigma), 0)\n",
    "ed_x = min(int(mu_x + 0.5 * sigma) + 1, img_w)\n",
    "st_y = max(int(mu_y - 0.5 * sigma), 0)\n",
    "ed_y = min(int(mu_y + 0.5 * sigma) + 1, img_h)"
   ]
  },
  {
   "cell_type": "code",
   "execution_count": 211,
   "id": "f7a91eca",
   "metadata": {},
   "outputs": [
    {
     "data": {
      "text/plain": [
       "(22, 24)"
      ]
     },
     "execution_count": 211,
     "metadata": {},
     "output_type": "execute_result"
    }
   ],
   "source": [
    "st_x, ed_x"
   ]
  },
  {
   "cell_type": "code",
   "execution_count": 212,
   "id": "3a347db0",
   "metadata": {},
   "outputs": [
    {
     "data": {
      "text/plain": [
       "(6, 8)"
      ]
     },
     "execution_count": 212,
     "metadata": {},
     "output_type": "execute_result"
    }
   ],
   "source": [
    "st_y, ed_y"
   ]
  },
  {
   "cell_type": "code",
   "execution_count": 213,
   "id": "15c0faf2",
   "metadata": {},
   "outputs": [
    {
     "data": {
      "text/plain": [
       "(array([22., 23.], dtype=float32),\n",
       " array([[6.],\n",
       "        [7.]], dtype=float32))"
      ]
     },
     "execution_count": 213,
     "metadata": {},
     "output_type": "execute_result"
    }
   ],
   "source": [
    "i = np.arange(st_x, ed_x, 1, np.float32)\n",
    "j = np.arange(st_y, ed_y, 1, np.float32)[:, None]\n",
    "i, j"
   ]
  },
  {
   "cell_type": "code",
   "execution_count": 214,
   "id": "cd85d81b",
   "metadata": {},
   "outputs": [
    {
     "data": {
      "text/plain": [
       "(array([1., 0.], dtype=float32),\n",
       " array([[1.],\n",
       "        [0.]], dtype=float32))"
      ]
     },
     "execution_count": 214,
     "metadata": {},
     "output_type": "execute_result"
    }
   ],
   "source": [
    "ix = (i - mu_x)**2\n",
    "jy = (j - mu_y)**2\n",
    "ix, jy"
   ]
  },
  {
   "cell_type": "code",
   "execution_count": 216,
   "id": "1f6eaa39",
   "metadata": {},
   "outputs": [
    {
     "data": {
      "text/plain": [
       "array([[3.7835059e-44, 1.9287499e-22],\n",
       "       [1.9287499e-22, 1.0000000e+00]], dtype=float32)"
      ]
     },
     "execution_count": 216,
     "metadata": {},
     "output_type": "execute_result"
    }
   ],
   "source": [
    "np.exp(-(ix+jy)/2/sigma**2)"
   ]
  },
  {
   "cell_type": "code",
   "execution_count": 176,
   "id": "c136f23f",
   "metadata": {},
   "outputs": [
    {
     "name": "stdout",
     "output_type": "stream",
     "text": [
      "***************\n",
      "[[3.72007598e-44 1.92874985e-22]\n",
      " [1.92874985e-22 1.00000000e+00]]\n",
      "***************\n"
     ]
    }
   ],
   "source": [
    "patch = np.exp(-(ix + jy) / 2 / sigma**2)\n",
    "# patch = patch * max_value\n",
    "# arr[st_y:ed_y, st_x:ed_x] = np.maximum(arr[st_y:ed_y, st_x:ed_x], patch)\n",
    "\n",
    "print(\"***************\")\n",
    "print(patch)\n",
    "print(\"***************\")            "
   ]
  },
  {
   "cell_type": "markdown",
   "id": "c90427a7",
   "metadata": {},
   "source": [
    "####"
   ]
  },
  {
   "cell_type": "code",
   "execution_count": 217,
   "id": "07bf3934",
   "metadata": {},
   "outputs": [
    {
     "data": {
      "text/plain": [
       "(0.42753561967159237, 0.13543811273522272)"
      ]
     },
     "execution_count": 217,
     "metadata": {},
     "output_type": "execute_result"
    }
   ],
   "source": [
    "x, y = center[0], center[1]\n",
    "x, y"
   ]
  },
  {
   "cell_type": "code",
   "execution_count": 218,
   "id": "a9f48cd5",
   "metadata": {},
   "outputs": [],
   "source": [
    "# Scale\n",
    "x = tf.math.floor(x * 56)\n",
    "y = tf.math.floor(y * 56)"
   ]
  },
  {
   "cell_type": "code",
   "execution_count": 219,
   "id": "6dbddf9b",
   "metadata": {},
   "outputs": [
    {
     "data": {
      "text/plain": [
       "(<tf.Tensor: shape=(), dtype=float64, numpy=23.0>,\n",
       " <tf.Tensor: shape=(), dtype=float64, numpy=7.0>)"
      ]
     },
     "execution_count": 219,
     "metadata": {},
     "output_type": "execute_result"
    }
   ],
   "source": [
    "x, y"
   ]
  },
  {
   "cell_type": "code",
   "execution_count": 220,
   "id": "275cee38",
   "metadata": {},
   "outputs": [],
   "source": [
    "st_x = tf.math.maximum(tf.cast(x - 0.5 * sigma, tf.int32), tf.constant(0, dtype=tf.int32))\n",
    "ed_x = tf.math.minimum(tf.cast(x + 0.5 * sigma, tf.int32) + 1, tf.cast(56, tf.int32))\n",
    "st_y = tf.math.maximum(tf.cast(y - 0.5 * sigma, tf.int32), tf.constant(0, dtype=tf.int32))\n",
    "ed_y = tf.math.minimum(tf.cast(y + 0.5 * sigma, tf.int32) + 1, tf.cast(56, tf.int32))"
   ]
  },
  {
   "cell_type": "code",
   "execution_count": 221,
   "id": "522a34e4",
   "metadata": {},
   "outputs": [
    {
     "data": {
      "text/plain": [
       "(<tf.Tensor: shape=(), dtype=int32, numpy=22>,\n",
       " <tf.Tensor: shape=(), dtype=int32, numpy=24>)"
      ]
     },
     "execution_count": 221,
     "metadata": {},
     "output_type": "execute_result"
    }
   ],
   "source": [
    "st_x, ed_x"
   ]
  },
  {
   "cell_type": "code",
   "execution_count": 222,
   "id": "05dfcc1d",
   "metadata": {},
   "outputs": [
    {
     "data": {
      "text/plain": [
       "(<tf.Tensor: shape=(), dtype=int32, numpy=6>,\n",
       " <tf.Tensor: shape=(), dtype=int32, numpy=8>)"
      ]
     },
     "execution_count": 222,
     "metadata": {},
     "output_type": "execute_result"
    }
   ],
   "source": [
    "st_y, ed_y"
   ]
  },
  {
   "cell_type": "code",
   "execution_count": 223,
   "id": "86db4227",
   "metadata": {},
   "outputs": [
    {
     "data": {
      "text/plain": [
       "(<tf.Tensor: shape=(2,), dtype=int32, numpy=array([22, 23], dtype=int32)>,\n",
       " <tf.Tensor: shape=(2, 1), dtype=int32, numpy=\n",
       " array([[6],\n",
       "        [7]], dtype=int32)>)"
      ]
     },
     "execution_count": 223,
     "metadata": {},
     "output_type": "execute_result"
    }
   ],
   "source": [
    "i = tf.concat([st_x, ed_x-1], axis=0)\n",
    "j = tf.concat([st_y, ed_y-1], axis=0)[..., None]\n",
    "i, j"
   ]
  },
  {
   "cell_type": "code",
   "execution_count": 225,
   "id": "d34bc91f",
   "metadata": {},
   "outputs": [
    {
     "data": {
      "text/plain": [
       "<tf.Tensor: shape=(2,), dtype=int32, numpy=array([1, 0], dtype=int32)>"
      ]
     },
     "execution_count": 225,
     "metadata": {},
     "output_type": "execute_result"
    }
   ],
   "source": [
    "ix = (i - tf.cast(x, tf.int32))**2\n",
    "ix"
   ]
  },
  {
   "cell_type": "code",
   "execution_count": 226,
   "id": "f95065cf",
   "metadata": {},
   "outputs": [
    {
     "data": {
      "text/plain": [
       "<tf.Tensor: shape=(2, 1), dtype=int32, numpy=\n",
       "array([[1],\n",
       "       [0]], dtype=int32)>"
      ]
     },
     "execution_count": 226,
     "metadata": {},
     "output_type": "execute_result"
    }
   ],
   "source": [
    "jy = (j - tf.cast(y,tf.int32)[..., tf.newaxis])**2\n",
    "jy"
   ]
  },
  {
   "cell_type": "code",
   "execution_count": 227,
   "id": "c53e6304",
   "metadata": {},
   "outputs": [
    {
     "data": {
      "text/plain": [
       "<tf.Tensor: shape=(2, 2), dtype=int32, numpy=\n",
       "array([[2, 1],\n",
       "       [1, 0]], dtype=int32)>"
      ]
     },
     "execution_count": 227,
     "metadata": {},
     "output_type": "execute_result"
    }
   ],
   "source": [
    "ix+jy"
   ]
  },
  {
   "cell_type": "code",
   "execution_count": null,
   "id": "d896419f",
   "metadata": {},
   "outputs": [],
   "source": []
  },
  {
   "cell_type": "code",
   "execution_count": 532,
   "id": "87913345",
   "metadata": {},
   "outputs": [
    {
     "data": {
      "text/plain": [
       "<tf.Tensor: shape=(2, 2), dtype=int32, numpy=\n",
       "array([[1, 0],\n",
       "       [1, 0]], dtype=int32)>"
      ]
     },
     "execution_count": 532,
     "metadata": {},
     "output_type": "execute_result"
    }
   ],
   "source": [
    "a = tf.constant([[1,0], [1,0]])\n",
    "a"
   ]
  },
  {
   "cell_type": "code",
   "execution_count": 533,
   "id": "7e3a03c5",
   "metadata": {},
   "outputs": [
    {
     "data": {
      "text/plain": [
       "<tf.Tensor: shape=(2, 1), dtype=int32, numpy=\n",
       "array([[1],\n",
       "       [0]], dtype=int32)>"
      ]
     },
     "execution_count": 533,
     "metadata": {},
     "output_type": "execute_result"
    }
   ],
   "source": [
    "b = tf.constant([[1,], [0,]])\n",
    "b"
   ]
  },
  {
   "cell_type": "code",
   "execution_count": 534,
   "id": "460272c4",
   "metadata": {},
   "outputs": [
    {
     "data": {
      "text/plain": [
       "<tf.Tensor: shape=(2, 2), dtype=int32, numpy=\n",
       "array([[2, 1],\n",
       "       [1, 0]], dtype=int32)>"
      ]
     },
     "execution_count": 534,
     "metadata": {},
     "output_type": "execute_result"
    }
   ],
   "source": [
    "a + b"
   ]
  },
  {
   "cell_type": "code",
   "execution_count": null,
   "id": "1e7fe1b7",
   "metadata": {},
   "outputs": [],
   "source": []
  },
  {
   "cell_type": "code",
   "execution_count": null,
   "id": "33c60d87",
   "metadata": {},
   "outputs": [],
   "source": []
  },
  {
   "cell_type": "code",
   "execution_count": null,
   "id": "95e323f2",
   "metadata": {},
   "outputs": [],
   "source": []
  }
 ],
 "metadata": {
  "kernelspec": {
   "display_name": "Python 3",
   "language": "python",
   "name": "python3"
  },
  "language_info": {
   "codemirror_mode": {
    "name": "ipython",
    "version": 3
   },
   "file_extension": ".py",
   "mimetype": "text/x-python",
   "name": "python",
   "nbconvert_exporter": "python",
   "pygments_lexer": "ipython3",
   "version": "3.7.12"
  }
 },
 "nbformat": 4,
 "nbformat_minor": 5
}
