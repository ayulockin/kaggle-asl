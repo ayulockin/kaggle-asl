{
 "cells": [
  {
   "cell_type": "code",
   "execution_count": 1,
   "id": "6c2ab37b",
   "metadata": {},
   "outputs": [
    {
     "name": "stderr",
     "output_type": "stream",
     "text": [
      "2023-04-17 22:54:51.297516: I tensorflow/core/platform/cpu_feature_guard.cc:193] This TensorFlow binary is optimized with oneAPI Deep Neural Network Library (oneDNN) to use the following CPU instructions in performance-critical operations:  AVX2 FMA\n",
      "To enable them in other operations, rebuild TensorFlow with the appropriate compiler flags.\n",
      "2023-04-17 22:54:51.501847: E tensorflow/stream_executor/cuda/cuda_blas.cc:2981] Unable to register cuBLAS factory: Attempting to register factory for plugin cuBLAS when one has already been registered\n",
      "2023-04-17 22:54:52.527878: W tensorflow/stream_executor/platform/default/dso_loader.cc:64] Could not load dynamic library 'libnvinfer.so.7'; dlerror: libnvinfer.so.7: cannot open shared object file: No such file or directory; LD_LIBRARY_PATH: /opt/conda/lib/python3.7/site-packages/cv2/../../lib64:/usr/local/cuda/lib64:/usr/local/nccl2/lib:/usr/local/cuda/extras/CUPTI/lib64:/usr/local/cuda/lib64:/usr/local/nccl2/lib:/usr/local/cuda/extras/CUPTI/lib64\n",
      "2023-04-17 22:54:52.528032: W tensorflow/stream_executor/platform/default/dso_loader.cc:64] Could not load dynamic library 'libnvinfer_plugin.so.7'; dlerror: libnvinfer_plugin.so.7: cannot open shared object file: No such file or directory; LD_LIBRARY_PATH: /opt/conda/lib/python3.7/site-packages/cv2/../../lib64:/usr/local/cuda/lib64:/usr/local/nccl2/lib:/usr/local/cuda/extras/CUPTI/lib64:/usr/local/cuda/lib64:/usr/local/nccl2/lib:/usr/local/cuda/extras/CUPTI/lib64\n",
      "2023-04-17 22:54:52.528049: W tensorflow/compiler/tf2tensorrt/utils/py_utils.cc:38] TF-TRT Warning: Cannot dlopen some TensorRT libraries. If you would like to use Nvidia GPU with TensorRT, please make sure the missing libraries mentioned above are installed properly.\n"
     ]
    },
    {
     "name": "stdout",
     "output_type": "stream",
     "text": [
      "2.10.0\n"
     ]
    }
   ],
   "source": [
    "import os\n",
    "import re\n",
    "import cv2\n",
    "import math\n",
    "import string\n",
    "import random\n",
    "from glob import glob\n",
    "from tqdm import tqdm\n",
    "import numpy as np\n",
    "from argparse import Namespace\n",
    "import matplotlib.pyplot as plt\n",
    "from matplotlib.animation import FuncAnimation\n",
    "\n",
    "import tensorflow as tf\n",
    "print(tf.__version__)\n",
    "from tensorflow.keras import layers\n",
    "from tensorflow.keras import models"
   ]
  },
  {
   "cell_type": "code",
   "execution_count": 2,
   "id": "38f24245",
   "metadata": {},
   "outputs": [
    {
     "name": "stdout",
     "output_type": "stream",
     "text": [
      "1 Physical GPUs, 1 Logical GPUs\n"
     ]
    },
    {
     "name": "stderr",
     "output_type": "stream",
     "text": [
      "2023-04-17 22:54:53.728514: I tensorflow/stream_executor/cuda/cuda_gpu_executor.cc:980] successful NUMA node read from SysFS had negative value (-1), but there must be at least one NUMA node, so returning NUMA node zero\n",
      "2023-04-17 22:54:53.743037: I tensorflow/stream_executor/cuda/cuda_gpu_executor.cc:980] successful NUMA node read from SysFS had negative value (-1), but there must be at least one NUMA node, so returning NUMA node zero\n",
      "2023-04-17 22:54:53.743451: I tensorflow/stream_executor/cuda/cuda_gpu_executor.cc:980] successful NUMA node read from SysFS had negative value (-1), but there must be at least one NUMA node, so returning NUMA node zero\n",
      "2023-04-17 22:54:53.744622: I tensorflow/core/platform/cpu_feature_guard.cc:193] This TensorFlow binary is optimized with oneAPI Deep Neural Network Library (oneDNN) to use the following CPU instructions in performance-critical operations:  AVX2 FMA\n",
      "To enable them in other operations, rebuild TensorFlow with the appropriate compiler flags.\n",
      "2023-04-17 22:54:53.745794: I tensorflow/stream_executor/cuda/cuda_gpu_executor.cc:980] successful NUMA node read from SysFS had negative value (-1), but there must be at least one NUMA node, so returning NUMA node zero\n",
      "2023-04-17 22:54:53.746208: I tensorflow/stream_executor/cuda/cuda_gpu_executor.cc:980] successful NUMA node read from SysFS had negative value (-1), but there must be at least one NUMA node, so returning NUMA node zero\n",
      "2023-04-17 22:54:53.746622: I tensorflow/stream_executor/cuda/cuda_gpu_executor.cc:980] successful NUMA node read from SysFS had negative value (-1), but there must be at least one NUMA node, so returning NUMA node zero\n",
      "2023-04-17 22:54:54.522161: I tensorflow/stream_executor/cuda/cuda_gpu_executor.cc:980] successful NUMA node read from SysFS had negative value (-1), but there must be at least one NUMA node, so returning NUMA node zero\n",
      "2023-04-17 22:54:54.522641: I tensorflow/stream_executor/cuda/cuda_gpu_executor.cc:980] successful NUMA node read from SysFS had negative value (-1), but there must be at least one NUMA node, so returning NUMA node zero\n",
      "2023-04-17 22:54:54.523009: I tensorflow/stream_executor/cuda/cuda_gpu_executor.cc:980] successful NUMA node read from SysFS had negative value (-1), but there must be at least one NUMA node, so returning NUMA node zero\n",
      "2023-04-17 22:54:54.523340: I tensorflow/core/common_runtime/gpu/gpu_device.cc:1616] Created device /job:localhost/replica:0/task:0/device:GPU:0 with 15002 MB memory:  -> device: 0, name: Tesla P100-PCIE-16GB, pci bus id: 0000:00:04.0, compute capability: 6.0\n"
     ]
    }
   ],
   "source": [
    "gpus = tf.config.list_physical_devices('GPU')\n",
    "if gpus:\n",
    "  try:\n",
    "    # Currently, memory growth needs to be the same across GPUs\n",
    "    for gpu in gpus:\n",
    "      tf.config.experimental.set_memory_growth(gpu, True)\n",
    "    logical_gpus = tf.config.list_logical_devices('GPU')\n",
    "    print(len(gpus), \"Physical GPUs,\", len(logical_gpus), \"Logical GPUs\")\n",
    "  except RuntimeError as e:\n",
    "    # Memory growth must be set before GPUs have been initialized\n",
    "    print(e)"
   ]
  },
  {
   "cell_type": "code",
   "execution_count": 3,
   "id": "41c8b606",
   "metadata": {},
   "outputs": [],
   "source": [
    "NUM_JOINTS = 543\n",
    "\n",
    "LIP = [\n",
    "    61, 185, 40, 39, 37, 0, 267, 269, 270, 409,\n",
    "    291, 146, 91, 181, 84, 17, 314, 405, 321, 375,\n",
    "#     78, 191, 80, 81, 82, 13, 312, 311, 310, 415,\n",
    "#     95, 88, 178, 87, 14, 317, 402, 318, 324, 308,\n",
    "]\n",
    "\n",
    "RIGHT_EYE = [\n",
    "    246, 161, 160, 159, 158, 157, 173,\n",
    "    33, 7, 163, 144, 145, 153, 154, 155, 133,\n",
    "    247, 30, 29, 27, 28, 56, 190,\n",
    "    130, 25, 110, 24, 23, 22, 26, 112, 243,\n",
    "    113, 225, 224, 223, 222, 221, 189,\n",
    "    226, 31, 228, 229, 230, 231, 232, 233, 244,\n",
    "    143, 111, 117, 118, 119, 120, 121, 128, 245,\n",
    "]\n",
    "\n",
    "LEFT_EYE = [\n",
    "    466, 387, 386, 385, 384, 398,\n",
    "    263, 249, 390, 373, 374, 380, 381, 382, 362,\n",
    "    467, 260, 259, 257, 258, 286, 414,\n",
    "    359, 255, 339, 254, 253, 252, 256, 341, 463,\n",
    "    342, 445, 444, 443, 442, 441, 413,\n",
    "    446, 261, 448, 449, 450, 451, 452, 453, 464,\n",
    "    372, 340, 346, 347, 348, 349, 350, 357, 465,\n",
    "]\n",
    "\n",
    "LEFT_HAND = [\n",
    "    468, 469, 470, 471, 472, 473, 474, 475,\n",
    "    476, 477, 478, 479, 480, 481, 482, 483,\n",
    "    484, 485, 486, 487, 488\n",
    "]\n",
    "\n",
    "RIGHT_HAND = [\n",
    "    522, 523, 524, 525, 526, 527, 528, 529,\n",
    "    530, 531, 532, 533, 534, 535, 536, 537,\n",
    "    538, 539, 540, 541, 542\n",
    "]\n",
    "\n",
    "POSE = [\n",
    "    489, 490, 491, 492, 493, 494, 495, 496, 497,\n",
    "    498, 499, 500, 501, 502, 503, 504, 505, 506,\n",
    "    507, 508, 509, 510, 511, 512, 513, 514, 515,\n",
    "    516, 517, 518, 519, 520, 521\n",
    "]"
   ]
  },
  {
   "cell_type": "code",
   "execution_count": 4,
   "id": "4b48a63c",
   "metadata": {},
   "outputs": [
    {
     "name": "stdout",
     "output_type": "stream",
     "text": [
      "['../data/tfrecords/stratified_split_0.tfrec', '../data/tfrecords/stratified_split_1.tfrec', '../data/tfrecords/stratified_split_2.tfrec', '../data/tfrecords/stratified_split_3.tfrec', '../data/tfrecords/stratified_split_4.tfrec', '../data/tfrecords/stratified_split_5.tfrec', '../data/tfrecords/stratified_split_6.tfrec', '../data/tfrecords/stratified_split_7.tfrec', '../data/tfrecords/stratified_split_8.tfrec', '../data/tfrecords/stratified_split_9.tfrec', '../data/tfrecords/stratified_split_10.tfrec', '../data/tfrecords/stratified_split_11.tfrec', '../data/tfrecords/stratified_split_12.tfrec', '../data/tfrecords/stratified_split_13.tfrec', '../data/tfrecords/stratified_split_14.tfrec', '../data/tfrecords/stratified_split_15.tfrec', '../data/tfrecords/stratified_split_16.tfrec', '../data/tfrecords/stratified_split_17.tfrec', '../data/tfrecords/stratified_split_18.tfrec', '../data/tfrecords/stratified_split_19.tfrec', '../data/tfrecords/stratified_split_20.tfrec', '../data/tfrecords/stratified_split_21.tfrec', '../data/tfrecords/stratified_split_22.tfrec', '../data/tfrecords/stratified_split_23.tfrec']\n"
     ]
    }
   ],
   "source": [
    "def natural_keys(text):\n",
    "    \"\"\n",
    "    def atoi(text):\n",
    "        return int(text) if text.isdigit() else text\n",
    "    \n",
    "    return [atoi(c) for c in re.split(r'(\\d+)', text)]\n",
    "\n",
    "tfrecords = glob(\"../data/tfrecords/*.tfrec\")\n",
    "tfrecords = sorted(tfrecords, key=natural_keys)\n",
    "print(tfrecords)"
   ]
  },
  {
   "cell_type": "code",
   "execution_count": 33,
   "id": "6e689d63",
   "metadata": {},
   "outputs": [],
   "source": [
    "def parse_sequence_raw(serialized_sequence):\n",
    "    return tf.io.parse_tensor(\n",
    "        serialized_sequence,\n",
    "        out_type=tf.float32,\n",
    "    )\n",
    "\n",
    "\n",
    "def parse_tfrecord_fn(example):\n",
    "    feature_description = {\n",
    "        \"n_frames\": tf.io.FixedLenFeature([], tf.float32),\n",
    "        \"frames\": tf.io.FixedLenFeature([], tf.string),\n",
    "        \"label\": tf.io.FixedLenFeature([], tf.int64),\n",
    "    }\n",
    "    \n",
    "    return tf.io.parse_single_example(example, feature_description)\n",
    "\n",
    "\n",
    "def parse_data(example):\n",
    "    # Parse Frames\n",
    "    n_frames = example[\"n_frames\"]\n",
    "    frames = tf.reshape(parse_sequence_raw(example[\"frames\"]), shape=(n_frames, 543, 3))\n",
    "\n",
    "    # Parse Labels\n",
    "    label = example[\"label\"]\n",
    "\n",
    "    return n_frames, frames, label\n",
    "\n",
    "AUTOTUNE = tf.data.AUTOTUNE\n",
    "\n",
    "\n",
    "def get_dataloader(tfrecord):\n",
    "    ds = tf.data.TFRecordDataset(tfrecord)\n",
    "\n",
    "    dataloader = (\n",
    "        ds\n",
    "        .shuffle(1024)\n",
    "        .map(parse_tfrecord_fn, num_parallel_calls=AUTOTUNE)\n",
    "        .map(parse_data, num_parallel_calls=AUTOTUNE)\n",
    "        .prefetch(AUTOTUNE)\n",
    "    )\n",
    "    \n",
    "    return dataloader"
   ]
  },
  {
   "cell_type": "code",
   "execution_count": 6,
   "id": "fde36949",
   "metadata": {},
   "outputs": [],
   "source": [
    "def float_feature(value):\n",
    "    \"\"\"Returns a float_list from a float / double.\"\"\"\n",
    "    return tf.train.Feature(float_list=tf.train.FloatList(value=[value]))\n",
    "\n",
    "\n",
    "def int64_feature(value):\n",
    "    \"\"\"Returns an int64_list from a bool / enum / int / uint.\"\"\"\n",
    "    return tf.train.Feature(int64_list=tf.train.Int64List(value=[value]))\n",
    "\n",
    "\n",
    "def bytes_feature(value):\n",
    "    \"\"\"Returns a bytes_list from a string / byte.\"\"\"\n",
    "    return tf.train.Feature(bytes_list=tf.train.BytesList(value=[value.numpy()]))\n",
    "\n",
    "\n",
    "def serialize_sequence(sequence):\n",
    "    \"\"\"Serialize the multidimentional tensor\"\"\"\n",
    "    return tf.io.serialize_tensor(sequence)\n",
    "\n",
    "\n",
    "def parse_sequence(serialized_sequence):\n",
    "    return tf.io.parse_tensor(\n",
    "        serialized_sequence,\n",
    "        out_type=tf.uint8,\n",
    "    )\n",
    "\n",
    "\n",
    "def create_example(n_frames, sequence, label):\n",
    "    feature = {\n",
    "        \"n_frames\": float_feature(n_frames),\n",
    "        \"frames\": bytes_feature(serialize_sequence(sequence)),\n",
    "        \"label\": int64_feature(label),\n",
    "    }\n",
    "\n",
    "    return tf.train.Example(features=tf.train.Features(feature=feature))"
   ]
  },
  {
   "cell_type": "code",
   "execution_count": 7,
   "id": "1f7d086d",
   "metadata": {},
   "outputs": [],
   "source": [
    "def generate_a_heatmap(arr, centers, max_values):\n",
    "    \"\"\"Generate pseudo heatmap for one keypoint in one frame.\n",
    "\n",
    "    Args:\n",
    "        arr (np.ndarray): The array to store the generated heatmaps. Shape: img_h * img_w.\n",
    "        centers (np.ndarray): The coordinates of corresponding keypoints (of multiple persons). Shape: M * 2.\n",
    "        max_values (np.ndarray): The max values of each keypoint. Shape: M.\n",
    "\n",
    "    Returns:\n",
    "        np.ndarray: The generated pseudo heatmap.\n",
    "    \"\"\"\n",
    "\n",
    "    sigma = 0.1\n",
    "    img_h, img_w = arr.shape\n",
    "\n",
    "    for center, max_value in zip(centers, max_values):\n",
    "        mu_x, mu_y = center[0], center[1]\n",
    "        if not (np.isnan(mu_x) and np.isnan(mu_y)):\n",
    "            # scale\n",
    "            mu_x = min(math.floor(mu_x * img_w), img_w - 1)\n",
    "            mu_y = min(math.floor(mu_y * img_h), img_h - 1)\n",
    "\n",
    "            st_x = max(int(mu_x - 0.5 * sigma), 0)\n",
    "            ed_x = min(int(mu_x + 0.5 * sigma) + 1, img_w)\n",
    "            st_y = max(int(mu_y - 0.5 * sigma), 0)\n",
    "            ed_y = min(int(mu_y + 0.5 * sigma) + 1, img_h)\n",
    "            x = np.arange(st_x, ed_x, 1, np.float32)\n",
    "            y = np.arange(st_y, ed_y, 1, np.float32)\n",
    "\n",
    "            # if the keypoint not in the heatmap coordinate system\n",
    "            if not (len(x) and len(y)):\n",
    "                continue\n",
    "            y = y[:, None]\n",
    "\n",
    "            patch = np.exp(-((x - mu_x)**2 + (y - mu_y)**2) / 2 / sigma**2)\n",
    "            patch = patch * max_value\n",
    "            arr[st_y:ed_y, st_x:ed_x] = np.maximum(arr[st_y:ed_y, st_x:ed_x], patch)"
   ]
  },
  {
   "cell_type": "code",
   "execution_count": 8,
   "id": "42b29786",
   "metadata": {},
   "outputs": [],
   "source": [
    "def get_3d_heatmap(ret, human_kps, num_frames):\n",
    "    \n",
    "    for i, frame in enumerate(range(num_frames)):\n",
    "        arr = ret[i]\n",
    "        human = human_kps[i]\n",
    "\n",
    "        x, y = human[:,:1], human[:,1:2]\n",
    "\n",
    "        # TODO: Normalize the whole sequence together\n",
    "        x = (x-np.nanmin(x))/(np.nanmax(x)-np.nanmin(x))\n",
    "        y = (y-np.nanmin(y))/(np.nanmax(y)-np.nanmin(y))\n",
    "\n",
    "        human = np.squeeze(np.array(list(zip(x, y))), axis=-1)\n",
    "\n",
    "        kps = np.expand_dims(human, axis=0)\n",
    "        all_kpscores = np.ones((1,num_frames,NUM_JOINTS), dtype=np.float32)\n",
    "        kpscores = np.ones_like(all_kpscores[:, 0])\n",
    "\n",
    "        num_kp = kps.shape[1]\n",
    "        for i in range(num_kp):\n",
    "            generate_a_heatmap(arr[i], kps[:, i], kpscores[:, i])\n",
    "\n",
    "    return ret"
   ]
  },
  {
   "cell_type": "code",
   "execution_count": 9,
   "id": "4a3ec9a2",
   "metadata": {},
   "outputs": [],
   "source": [
    "def vis_heatmaps(heatmaps, channel=-1, ratio=8):\n",
    "    # if channel is -1, draw all keypoints / limbs on the same map\n",
    "    import matplotlib.cm as cm\n",
    "    heatmaps = [x.transpose(1, 2, 0) for x in heatmaps]\n",
    "    h, w, _ = heatmaps[0].shape\n",
    "    newh, neww = int(h * ratio), int(w * ratio)\n",
    "\n",
    "    if channel == -1:\n",
    "        heatmaps = [np.max(x, axis=-1) for x in heatmaps]\n",
    "    cmap = cm.viridis\n",
    "    heatmaps = [(cmap(x)[..., :3] * 255).astype(np.uint8) for x in heatmaps]\n",
    "    heatmaps = [cv2.resize(x, (neww, newh)) for x in heatmaps]\n",
    "    return heatmaps"
   ]
  },
  {
   "cell_type": "code",
   "execution_count": 10,
   "id": "40b3a3d7",
   "metadata": {},
   "outputs": [],
   "source": [
    "def draw_human_nodes(heatmap):\n",
    "    keypoint_humans = []\n",
    "\n",
    "    for arr in heatmap:\n",
    "        keypoint_mapvis = vis_heatmaps(np.expand_dims(arr, axis=0), ratio=1)\n",
    "        keypoint_humans.append(keypoint_mapvis[0])\n",
    "\n",
    "    return np.array(keypoint_humans)"
   ]
  },
  {
   "cell_type": "code",
   "execution_count": 97,
   "id": "aaa5b9f6",
   "metadata": {},
   "outputs": [
    {
     "name": "stderr",
     "output_type": "stream",
     "text": [
      "TFRecords:   0%|                                                  | 0/24 [00:00<?, ?it/s]\n",
      "Reading TFRecord idx: 0: 0it [00:00, ?it/s]\u001b[A\n",
      "TFRecords:   0%|                                                  | 0/24 [00:00<?, ?it/s]"
     ]
    },
    {
     "name": "stdout",
     "output_type": "stream",
     "text": [
      "55\n"
     ]
    },
    {
     "name": "stderr",
     "output_type": "stream",
     "text": [
      "\n"
     ]
    }
   ],
   "source": [
    "NUM_JOINTS = 107\n",
    "IMG_H = 56\n",
    "IMG_W = 56\n",
    "tfrecords_dir = \"../data/tfrecords_heatmaps_tmp\"\n",
    "os.makedirs(tfrecords_dir, exist_ok=True)\n",
    "\n",
    "for idx, tfrecord in enumerate(tqdm(tfrecords, desc=\"TFRecords: \")):\n",
    "    dataloader = get_dataloader(tfrecord)\n",
    "    \n",
    "    split = tfrecord.split(\"/\")[-1].split(\".\")[0].split(\"_\")[-1]\n",
    "    \n",
    "    with tf.io.TFRecordWriter(\n",
    "        tfrecords_dir + f\"/split_{split}.tfrec\"\n",
    "    ) as writer:\n",
    "\n",
    "        for idx, (num_frames, data, label) in enumerate(tqdm(dataloader, desc=f\"Reading TFRecord idx: {split}\")):\n",
    "            faces = tf.gather(data, LIP, axis=1).numpy()\n",
    "            poses = tf.gather(data, POSE, axis=1).numpy()[:,:-8]\n",
    "            rhs = tf.gather(data, RIGHT_HAND, axis=1).numpy()\n",
    "            lhs = tf.gather(data, LEFT_HAND, axis=1).numpy()\n",
    "\n",
    "            humans = np.concatenate([faces, poses, rhs, lhs], axis=1)\n",
    "            num_frames = humans.shape[0]\n",
    "            print(num_frames)\n",
    "            \n",
    "            if num_frames < 32:\n",
    "                humans = tf.image.resize(humans, (32,87), method=\"nearest\").numpy()\n",
    "            else:\n",
    "                # uniform sampling\n",
    "                indices = sorted(np.random.choice(num_frames, 32, replace=False))\n",
    "                humans = humans[indices]\n",
    "\n",
    "            num_frames = humans.shape[0]\n",
    "            ret = np.zeros([num_frames, NUM_JOINTS, IMG_H, IMG_W], dtype=np.float32)\n",
    "\n",
    "            heatmap = get_3d_heatmap(ret, humans, num_frames)\n",
    "\n",
    "            keypoint_humans = draw_human_nodes(heatmap)\n",
    "\n",
    "            example = create_example(\n",
    "                num_frames,\n",
    "                keypoint_humans,\n",
    "                label.numpy()\n",
    "            )\n",
    "\n",
    "            writer.write(example.SerializeToString())\n",
    "\n",
    "            break\n",
    "\n",
    "    break"
   ]
  },
  {
   "cell_type": "code",
   "execution_count": 98,
   "id": "ad2e444f",
   "metadata": {},
   "outputs": [
    {
     "data": {
      "text/plain": [
       "<TFRecordDatasetV2 element_spec=TensorSpec(shape=(), dtype=tf.string, name=None)>"
      ]
     },
     "execution_count": 98,
     "metadata": {},
     "output_type": "execute_result"
    }
   ],
   "source": [
    "tfrec_path = tfrecords_dir + \"/split_0.tfrec\"\n",
    "raw_dataset = tf.data.TFRecordDataset(tfrec_path)\n",
    "raw_dataset"
   ]
  },
  {
   "cell_type": "code",
   "execution_count": 99,
   "id": "5571f7e8",
   "metadata": {},
   "outputs": [],
   "source": [
    "example = parse_tfrecord_fn(next(iter(raw_dataset)))"
   ]
  },
  {
   "cell_type": "code",
   "execution_count": 100,
   "id": "be09f3ee",
   "metadata": {},
   "outputs": [
    {
     "data": {
      "text/plain": [
       "<tf.Tensor: shape=(), dtype=float32, numpy=32.0>"
      ]
     },
     "execution_count": 100,
     "metadata": {},
     "output_type": "execute_result"
    }
   ],
   "source": [
    "example[\"n_frames\"]"
   ]
  },
  {
   "cell_type": "code",
   "execution_count": 101,
   "id": "6192d617",
   "metadata": {},
   "outputs": [
    {
     "data": {
      "text/plain": [
       "<matplotlib.image.AxesImage at 0x7f989324b450>"
      ]
     },
     "execution_count": 101,
     "metadata": {},
     "output_type": "execute_result"
    },
    {
     "data": {
      "image/png": "[encoded data removed]",
      "text/plain": [
       "<Figure size 640x480 with 1 Axes>"
      ]
     },
     "metadata": {},
     "output_type": "display_data"
    }
   ],
   "source": [
    "plt.imshow(tf.reshape(parse_sequence(example[\"frames\"]), shape=(example[\"n_frames\"], 56, 56, 3)).numpy()[7])"
   ]
  },
  {
   "cell_type": "code",
   "execution_count": 102,
   "id": "290b544a",
   "metadata": {},
   "outputs": [
    {
     "data": {
      "text/plain": [
       "(32, 56, 56, 3)"
      ]
     },
     "execution_count": 102,
     "metadata": {},
     "output_type": "execute_result"
    }
   ],
   "source": [
    "tf.reshape(parse_sequence(example[\"frames\"]), shape=(example[\"n_frames\"], 56, 56, 3)).numpy().shape"
   ]
  },
  {
   "cell_type": "code",
   "execution_count": 103,
   "id": "95aea60f",
   "metadata": {},
   "outputs": [
    {
     "name": "stderr",
     "output_type": "stream",
     "text": [
      "MovieWriter imagemagick unavailable; using Pillow instead.\n"
     ]
    }
   ],
   "source": [
    "fig, ax = plt.subplots(figsize=(5, 8))\n",
    "\n",
    "arr = tf.reshape(parse_sequence(example[\"frames\"]), shape=(example[\"n_frames\"], 56, 56, 3)).numpy()\n",
    "\n",
    "def update(i):\n",
    "    im_normed = arr[i]\n",
    "    ax.imshow(im_normed)\n",
    "    ax.set_title(f\"human_{i}\", fontsize=20)\n",
    "    ax.set_axis_off()\n",
    "\n",
    "\n",
    "anim = FuncAnimation(fig, update, frames=np.arange(0, len(arr)), interval=10)\n",
    "anim.save('humanpose3d-resized1.gif', dpi=80, writer='imagemagick')\n",
    "plt.close()"
   ]
  },
  {
   "cell_type": "code",
   "execution_count": null,
   "id": "1513cf35",
   "metadata": {},
   "outputs": [],
   "source": []
  }
 ],
 "metadata": {
  "kernelspec": {
   "display_name": "Python 3",
   "language": "python",
   "name": "python3"
  },
  "language_info": {
   "codemirror_mode": {
    "name": "ipython",
    "version": 3
   },
   "file_extension": ".py",
   "mimetype": "text/x-python",
   "name": "python",
   "nbconvert_exporter": "python",
   "pygments_lexer": "ipython3",
   "version": "3.7.12"
  }
 },
 "nbformat": 4,
 "nbformat_minor": 5
}
