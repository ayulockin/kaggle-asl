{
 "cells": [
  {
   "cell_type": "code",
   "execution_count": 18,
   "id": "ce2cb970",
   "metadata": {},
   "outputs": [
    {
     "name": "stdout",
     "output_type": "stream",
     "text": [
      "The autoreload extension is already loaded. To reload it, use:\n",
      "  %reload_ext autoreload\n",
      "2.11.0\n",
      "0.31.0\n"
     ]
    }
   ],
   "source": [
    "%load_ext autoreload\n",
    "%autoreload 2\n",
    "\n",
    "import os\n",
    "import re\n",
    "import json\n",
    "import numpy as np\n",
    "import pandas as pd\n",
    "from glob import glob\n",
    "from tqdm import tqdm\n",
    "import matplotlib.pyplot as plt\n",
    "from argparse import Namespace\n",
    "\n",
    "import tensorflow as tf\n",
    "print(tf.__version__)\n",
    "import tensorflow_io as tfio\n",
    "print(tfio.__version__)\n",
    "\n",
    "from tensorflow.keras import layers\n",
    "from tensorflow.keras import models\n",
    "\n",
    "import wandb\n",
    "from wandb.keras import WandbMetricsLogger\n",
    "\n",
    "from asl.data import InterpolateDataloader\n",
    "from asl.model import SeparateConvLSTMModel"
   ]
  },
  {
   "cell_type": "code",
   "execution_count": 19,
   "id": "740fde79",
   "metadata": {},
   "outputs": [],
   "source": [
    "data_path = \"../data/tfrecords\"\n",
    "\n",
    "\n",
    "def natural_keys(text):\n",
    "    \"\"\n",
    "    def atoi(text):\n",
    "        return int(text) if text.isdigit() else text\n",
    "    \n",
    "    return [atoi(c) for c in re.split(r'(\\d+)', text)]\n",
    "\n",
    "tfrecords = sorted(glob(f\"{data_path}/*.tfrec\"), key=natural_keys)"
   ]
  },
  {
   "cell_type": "code",
   "execution_count": 20,
   "id": "c9824d0e",
   "metadata": {},
   "outputs": [
    {
     "name": "stdout",
     "output_type": "stream",
     "text": [
      "24\n"
     ]
    }
   ],
   "source": [
    "train_tfrecords, valid_tfrecords = tfrecords[:19], tfrecords[19:]\n",
    "print(len(train_tfrecords)+len(valid_tfrecords))"
   ]
  },
  {
   "cell_type": "code",
   "execution_count": 21,
   "id": "7795bea6",
   "metadata": {},
   "outputs": [],
   "source": [
    "configs = Namespace(\n",
    "    num_frames=16,\n",
    "    batch_size=128,\n",
    "    epochs=20,\n",
    "    use_wandb=True,\n",
    "    resizing_interpolation=\"nearest\",\n",
    ")"
   ]
  },
  {
   "cell_type": "code",
   "execution_count": 22,
   "id": "b2847bad",
   "metadata": {},
   "outputs": [],
   "source": [
    "dataloader = InterpolateDataloader(configs)\n",
    "trainloader = dataloader.get_dataloader(train_tfrecords)\n",
    "validloader = dataloader.get_dataloader(valid_tfrecords, dataloader=\"valid\")"
   ]
  },
  {
   "cell_type": "code",
   "execution_count": 24,
   "id": "2cd079dd",
   "metadata": {},
   "outputs": [
    {
     "name": "stdout",
     "output_type": "stream",
     "text": [
      "Model: \"model\"\n",
      "__________________________________________________________________________________________________\n",
      " Layer (type)                   Output Shape         Param #     Connected to                     \n",
      "==================================================================================================\n",
      " input_1 (InputLayer)           [(None, 16, 543, 3)  0           []                               \n",
      "                                ]                                                                 \n",
      "                                                                                                  \n",
      " tf.compat.v1.gather (TFOpLambd  (None, 16, 40, 3)   0           ['input_1[0][0]']                \n",
      " a)                                                                                               \n",
      "                                                                                                  \n",
      " conv_lstm1d (ConvLSTM1D)       (None, 33, 32)       35968       ['tf.compat.v1.gather[0][0]']    \n",
      "                                                                                                  \n",
      " conv1d (Conv1D)                (None, 26, 32)       8224        ['conv_lstm1d[0][0]']            \n",
      "                                                                                                  \n",
      " batch_normalization (BatchNorm  (None, 26, 32)      128         ['conv1d[0][0]']                 \n",
      " alization)                                                                                       \n",
      "                                                                                                  \n",
      " tf.nn.relu (TFOpLambda)        (None, 26, 32)       0           ['batch_normalization[0][0]']    \n",
      "                                                                                                  \n",
      " tf.__operators__.getitem (Slic  (None, 16, 21, 3)   0           ['input_1[0][0]']                \n",
      " ingOpLambda)                                                                                     \n",
      "                                                                                                  \n",
      " tf.__operators__.getitem_1 (Sl  (None, 16, 21, 3)   0           ['input_1[0][0]']                \n",
      " icingOpLambda)                                                                                   \n",
      "                                                                                                  \n",
      " max_pooling1d (MaxPooling1D)   (None, 13, 32)       0           ['tf.nn.relu[0][0]']             \n",
      "                                                                                                  \n",
      " conv_lstm1d_1 (ConvLSTM1D)     (None, 14, 32)       35968       ['tf.__operators__.getitem[0][0]'\n",
      "                                                                 ]                                \n",
      "                                                                                                  \n",
      " conv_lstm1d_2 (ConvLSTM1D)     (None, 14, 32)       35968       ['tf.__operators__.getitem_1[0][0\n",
      "                                                                 ]']                              \n",
      "                                                                                                  \n",
      " conv1d_1 (Conv1D)              (None, 6, 64)        16448       ['max_pooling1d[0][0]']          \n",
      "                                                                                                  \n",
      " conv1d_2 (Conv1D)              (None, 7, 64)        16448       ['conv_lstm1d_1[0][0]']          \n",
      "                                                                                                  \n",
      " conv1d_3 (Conv1D)              (None, 7, 64)        16448       ['conv_lstm1d_2[0][0]']          \n",
      "                                                                                                  \n",
      " batch_normalization_1 (BatchNo  (None, 6, 64)       256         ['conv1d_1[0][0]']               \n",
      " rmalization)                                                                                     \n",
      "                                                                                                  \n",
      " batch_normalization_2 (BatchNo  (None, 7, 64)       256         ['conv1d_2[0][0]']               \n",
      " rmalization)                                                                                     \n",
      "                                                                                                  \n",
      " batch_normalization_3 (BatchNo  (None, 7, 64)       256         ['conv1d_3[0][0]']               \n",
      " rmalization)                                                                                     \n",
      "                                                                                                  \n",
      " tf.nn.relu_1 (TFOpLambda)      (None, 6, 64)        0           ['batch_normalization_1[0][0]']  \n",
      "                                                                                                  \n",
      " tf.nn.relu_2 (TFOpLambda)      (None, 7, 64)        0           ['batch_normalization_2[0][0]']  \n",
      "                                                                                                  \n",
      " tf.nn.relu_3 (TFOpLambda)      (None, 7, 64)        0           ['batch_normalization_3[0][0]']  \n",
      "                                                                                                  \n",
      " max_pooling1d_1 (MaxPooling1D)  (None, 3, 64)       0           ['tf.nn.relu_1[0][0]']           \n",
      "                                                                                                  \n",
      " max_pooling1d_2 (MaxPooling1D)  (None, 3, 64)       0           ['tf.nn.relu_2[0][0]']           \n",
      "                                                                                                  \n",
      " max_pooling1d_3 (MaxPooling1D)  (None, 3, 64)       0           ['tf.nn.relu_3[0][0]']           \n",
      "                                                                                                  \n",
      " dropout (Dropout)              (None, 3, 64)        0           ['max_pooling1d_1[0][0]']        \n",
      "                                                                                                  \n",
      " dropout_1 (Dropout)            (None, 3, 64)        0           ['max_pooling1d_2[0][0]']        \n",
      "                                                                                                  \n",
      " dropout_2 (Dropout)            (None, 3, 64)        0           ['max_pooling1d_3[0][0]']        \n",
      "                                                                                                  \n",
      " concatenate (Concatenate)      (None, 9, 64)        0           ['dropout[0][0]',                \n",
      "                                                                  'dropout_1[0][0]',              \n",
      "                                                                  'dropout_2[0][0]']              \n",
      "                                                                                                  \n",
      " flatten (Flatten)              (None, 576)          0           ['concatenate[0][0]']            \n",
      "                                                                                                  \n",
      " dense (Dense)                  (None, 250)          144250      ['flatten[0][0]']                \n",
      "                                                                                                  \n",
      "==================================================================================================\n",
      "Total params: 310,618\n",
      "Trainable params: 310,170\n",
      "Non-trainable params: 448\n",
      "__________________________________________________________________________________________________\n"
     ]
    }
   ],
   "source": [
    "tf.keras.backend.clear_session()\n",
    "model = SeparateConvLSTMModel(configs).get_model()\n",
    "model.summary()"
   ]
  },
  {
   "cell_type": "code",
   "execution_count": null,
   "id": "17fa17dc",
   "metadata": {},
   "outputs": [],
   "source": []
  },
  {
   "cell_type": "code",
   "execution_count": null,
   "id": "a8684aa7",
   "metadata": {},
   "outputs": [],
   "source": []
  },
  {
   "cell_type": "code",
   "execution_count": null,
   "id": "8f8f6162",
   "metadata": {},
   "outputs": [],
   "source": []
  },
  {
   "cell_type": "code",
   "execution_count": null,
   "id": "26068d83",
   "metadata": {},
   "outputs": [],
   "source": []
  },
  {
   "cell_type": "code",
   "execution_count": null,
   "id": "28944ed4",
   "metadata": {},
   "outputs": [],
   "source": []
  },
  {
   "cell_type": "code",
   "execution_count": null,
   "id": "f78e0cd5",
   "metadata": {},
   "outputs": [],
   "source": []
  },
  {
   "cell_type": "code",
   "execution_count": null,
   "id": "c328269d",
   "metadata": {},
   "outputs": [],
   "source": []
  },
  {
   "cell_type": "code",
   "execution_count": null,
   "id": "f8b829ea",
   "metadata": {},
   "outputs": [],
   "source": []
  },
  {
   "cell_type": "code",
   "execution_count": null,
   "id": "1c8d168e",
   "metadata": {},
   "outputs": [],
   "source": []
  },
  {
   "cell_type": "code",
   "execution_count": null,
   "id": "ccd0daa5",
   "metadata": {},
   "outputs": [],
   "source": []
  },
  {
   "cell_type": "code",
   "execution_count": null,
   "id": "af5d829d",
   "metadata": {},
   "outputs": [],
   "source": []
  },
  {
   "cell_type": "code",
   "execution_count": null,
   "id": "126ec9d6",
   "metadata": {},
   "outputs": [],
   "source": []
  },
  {
   "cell_type": "code",
   "execution_count": null,
   "id": "bf9b2c42",
   "metadata": {},
   "outputs": [],
   "source": []
  }
 ],
 "metadata": {
  "kernelspec": {
   "display_name": "Python 3",
   "language": "python",
   "name": "python3"
  },
  "language_info": {
   "codemirror_mode": {
    "name": "ipython",
    "version": 3
   },
   "file_extension": ".py",
   "mimetype": "text/x-python",
   "name": "python",
   "nbconvert_exporter": "python",
   "pygments_lexer": "ipython3",
   "version": "3.7.12"
  }
 },
 "nbformat": 4,
 "nbformat_minor": 5
}
